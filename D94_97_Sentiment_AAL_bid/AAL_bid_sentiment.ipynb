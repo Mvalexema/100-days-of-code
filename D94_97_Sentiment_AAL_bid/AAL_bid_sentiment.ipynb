{
 "cells": [
  {
   "cell_type": "code",
   "execution_count": 116,
   "metadata": {},
   "outputs": [],
   "source": [
    "import pandas as pd\n",
    "import numpy as np\n",
    "import spacy\n",
    "from textblob import TextBlob"
   ]
  },
  {
   "cell_type": "code",
   "execution_count": 117,
   "metadata": {},
   "outputs": [],
   "source": [
    "df = pd.read_csv(\"AAL_bid.csv\", encoding='iso-8859-1')"
   ]
  },
  {
   "cell_type": "code",
   "execution_count": 133,
   "metadata": {},
   "outputs": [
    {
     "data": {
      "text/html": [
       "<div>\n",
       "<style scoped>\n",
       "    .dataframe tbody tr th:only-of-type {\n",
       "        vertical-align: middle;\n",
       "    }\n",
       "\n",
       "    .dataframe tbody tr th {\n",
       "        vertical-align: top;\n",
       "    }\n",
       "\n",
       "    .dataframe thead th {\n",
       "        text-align: right;\n",
       "    }\n",
       "</style>\n",
       "<table border=\"1\" class=\"dataframe\">\n",
       "  <thead>\n",
       "    <tr style=\"text-align: right;\">\n",
       "      <th></th>\n",
       "      <th>Title</th>\n",
       "      <th>Date</th>\n",
       "      <th>Sentence</th>\n",
       "    </tr>\n",
       "  </thead>\n",
       "  <tbody>\n",
       "    <tr>\n",
       "      <th>0</th>\n",
       "      <td>BHPs pursuit of Anglo American has a major ob...</td>\n",
       "      <td>28/04/2024</td>\n",
       "      <td>The De Beers owner is a longstanding jewel in ...</td>\n",
       "    </tr>\n",
       "    <tr>\n",
       "      <th>1</th>\n",
       "      <td>Anglo American rejects £31bn takeover offer fr...</td>\n",
       "      <td>26/04/2024</td>\n",
       "      <td>All-share proposal had potential to be one of ...</td>\n",
       "    </tr>\n",
       "    <tr>\n",
       "      <th>2</th>\n",
       "      <td>Who are Anglo Americans possible suitors?</td>\n",
       "      <td>29/04/2024</td>\n",
       "      <td>BHPs unsolicited £31bn takeover approach for ...</td>\n",
       "    </tr>\n",
       "    <tr>\n",
       "      <th>3</th>\n",
       "      <td>BHPs bid for Anglo American chips away furthe...</td>\n",
       "      <td>29/04/2024</td>\n",
       "      <td>Companys exit would deal another blow to City...</td>\n",
       "    </tr>\n",
       "    <tr>\n",
       "      <th>4</th>\n",
       "      <td>BHP Mega Bid and $10,000 Copper Expose Mining...</td>\n",
       "      <td>29/04/2024</td>\n",
       "      <td>Spending on new copper mines has declined in r...</td>\n",
       "    </tr>\n",
       "    <tr>\n",
       "      <th>5</th>\n",
       "      <td>BHPs Anglo buyout makes business sense if the...</td>\n",
       "      <td>29/04/2024</td>\n",
       "      <td>Winning over various regulators across several...</td>\n",
       "    </tr>\n",
       "    <tr>\n",
       "      <th>6</th>\n",
       "      <td>Anglo American rejects £31bn mega-deal with rival</td>\n",
       "      <td>26/04/2024</td>\n",
       "      <td>Anglo American has rejected a £31.1bn takeover...</td>\n",
       "    </tr>\n",
       "    <tr>\n",
       "      <th>7</th>\n",
       "      <td>BHP makes $39 billion bid for Anglo American i...</td>\n",
       "      <td>25/04/2024</td>\n",
       "      <td>Mining giant BHP Group on Thursday said it had...</td>\n",
       "    </tr>\n",
       "    <tr>\n",
       "      <th>8</th>\n",
       "      <td>Mining giant BHP's huge takeover offer for Ang...</td>\n",
       "      <td>30/04/2024</td>\n",
       "      <td>When a huge merger/acquisition deal manifests ...</td>\n",
       "    </tr>\n",
       "    <tr>\n",
       "      <th>9</th>\n",
       "      <td>Copper smelters in leading buyer China wary of...</td>\n",
       "      <td>30/04/2024</td>\n",
       "      <td>Chinese smelters, the world's biggest buyers o...</td>\n",
       "    </tr>\n",
       "    <tr>\n",
       "      <th>10</th>\n",
       "      <td>BHPs all-share offer for Anglo American</td>\n",
       "      <td>29/04/2024</td>\n",
       "      <td>Anglo Americans board has unanimously rejecte...</td>\n",
       "    </tr>\n",
       "    <tr>\n",
       "      <th>11</th>\n",
       "      <td>BHP urged to improve its offer for rival Anglo...</td>\n",
       "      <td>29/04/2024</td>\n",
       "      <td>BHP shareholders yesterday urged the mining gi...</td>\n",
       "    </tr>\n",
       "    <tr>\n",
       "      <th>12</th>\n",
       "      <td>BHP proposes £31bn Anglo American buyout</td>\n",
       "      <td>25/04/2024</td>\n",
       "      <td>Weakness in Anglo's share price opens the door...</td>\n",
       "    </tr>\n",
       "    <tr>\n",
       "      <th>13</th>\n",
       "      <td>The future is the future: Anglo American won...</td>\n",
       "      <td>01/04/2024</td>\n",
       "      <td>Anglo American chairman Stuart Chambers has no...</td>\n",
       "    </tr>\n",
       "    <tr>\n",
       "      <th>14</th>\n",
       "      <td>Anglo American takeover price needs to surpass...</td>\n",
       "      <td>30/04/2024</td>\n",
       "      <td>A takeover of Anglo American would need to be ...</td>\n",
       "    </tr>\n",
       "    <tr>\n",
       "      <th>15</th>\n",
       "      <td>FTSE reaches another record level on strong ea...</td>\n",
       "      <td>26/04/2024</td>\n",
       "      <td>The FTSE 100 finished 38.48 points, or 0.48%, ...</td>\n",
       "    </tr>\n",
       "  </tbody>\n",
       "</table>\n",
       "</div>"
      ],
      "text/plain": [
       "                                                Title        Date  \\\n",
       "0   BHPs pursuit of Anglo American has a major ob...  28/04/2024   \n",
       "1   Anglo American rejects £31bn takeover offer fr...  26/04/2024   \n",
       "2          Who are Anglo Americans possible suitors?  29/04/2024   \n",
       "3   BHPs bid for Anglo American chips away furthe...  29/04/2024   \n",
       "4   BHP Mega Bid and $10,000 Copper Expose Mining...  29/04/2024   \n",
       "5   BHPs Anglo buyout makes business sense if the...  29/04/2024   \n",
       "6   Anglo American rejects £31bn mega-deal with rival  26/04/2024   \n",
       "7   BHP makes $39 billion bid for Anglo American i...  25/04/2024   \n",
       "8   Mining giant BHP's huge takeover offer for Ang...  30/04/2024   \n",
       "9   Copper smelters in leading buyer China wary of...  30/04/2024   \n",
       "10           BHPs all-share offer for Anglo American  29/04/2024   \n",
       "11  BHP urged to improve its offer for rival Anglo...  29/04/2024   \n",
       "12           BHP proposes £31bn Anglo American buyout  25/04/2024   \n",
       "13  The future is the future: Anglo American won...  01/04/2024   \n",
       "14  Anglo American takeover price needs to surpass...  30/04/2024   \n",
       "15  FTSE reaches another record level on strong ea...  26/04/2024   \n",
       "\n",
       "                                             Sentence  \n",
       "0   The De Beers owner is a longstanding jewel in ...  \n",
       "1   All-share proposal had potential to be one of ...  \n",
       "2   BHPs unsolicited £31bn takeover approach for ...  \n",
       "3   Companys exit would deal another blow to City...  \n",
       "4   Spending on new copper mines has declined in r...  \n",
       "5   Winning over various regulators across several...  \n",
       "6   Anglo American has rejected a £31.1bn takeover...  \n",
       "7   Mining giant BHP Group on Thursday said it had...  \n",
       "8   When a huge merger/acquisition deal manifests ...  \n",
       "9   Chinese smelters, the world's biggest buyers o...  \n",
       "10  Anglo Americans board has unanimously rejecte...  \n",
       "11  BHP shareholders yesterday urged the mining gi...  \n",
       "12  Weakness in Anglo's share price opens the door...  \n",
       "13  Anglo American chairman Stuart Chambers has no...  \n",
       "14  A takeover of Anglo American would need to be ...  \n",
       "15  The FTSE 100 finished 38.48 points, or 0.48%, ...  "
      ]
     },
     "execution_count": 133,
     "metadata": {},
     "output_type": "execute_result"
    }
   ],
   "source": [
    "df=df.iloc[:,[0,1,2]]\n",
    "df"
   ]
  },
  {
   "cell_type": "code",
   "execution_count": 119,
   "metadata": {},
   "outputs": [],
   "source": [
    "# import string\n",
    "# from nltk.corpus import stopwords"
   ]
  },
  {
   "cell_type": "code",
   "execution_count": 120,
   "metadata": {},
   "outputs": [],
   "source": [
    "# def text_cleaning(text):\n",
    "#     stop_words = [stopwords.words(\"english\")]\n",
    "#     no_punct =[word for word in text if word not in string.punctuation]\n",
    "#     no_punct_str = \" \".join(no_punct)\n",
    "    \n",
    "#     return \" \".join([word for word in no_punct_str if word.lower() not in stop_words])"
   ]
  },
  {
   "cell_type": "code",
   "execution_count": 121,
   "metadata": {},
   "outputs": [],
   "source": [
    "#df[\"Clean\"] = df[\"Sentence\"].apply(text_cleaning)\n",
    "# df[\"Clean\"] = df[\"Sentence\"].apply(text_cleaning)"
   ]
  },
  {
   "cell_type": "code",
   "execution_count": 134,
   "metadata": {},
   "outputs": [
    {
     "data": {
      "text/html": [
       "<div>\n",
       "<style scoped>\n",
       "    .dataframe tbody tr th:only-of-type {\n",
       "        vertical-align: middle;\n",
       "    }\n",
       "\n",
       "    .dataframe tbody tr th {\n",
       "        vertical-align: top;\n",
       "    }\n",
       "\n",
       "    .dataframe thead th {\n",
       "        text-align: right;\n",
       "    }\n",
       "</style>\n",
       "<table border=\"1\" class=\"dataframe\">\n",
       "  <thead>\n",
       "    <tr style=\"text-align: right;\">\n",
       "      <th></th>\n",
       "      <th>Title</th>\n",
       "      <th>Date</th>\n",
       "      <th>Sentence</th>\n",
       "    </tr>\n",
       "  </thead>\n",
       "  <tbody>\n",
       "    <tr>\n",
       "      <th>0</th>\n",
       "      <td>BHPs pursuit of Anglo American has a major ob...</td>\n",
       "      <td>28/04/2024</td>\n",
       "      <td>The De Beers owner is a longstanding jewel in ...</td>\n",
       "    </tr>\n",
       "    <tr>\n",
       "      <th>1</th>\n",
       "      <td>Anglo American rejects £31bn takeover offer fr...</td>\n",
       "      <td>26/04/2024</td>\n",
       "      <td>All-share proposal had potential to be one of ...</td>\n",
       "    </tr>\n",
       "    <tr>\n",
       "      <th>2</th>\n",
       "      <td>Who are Anglo Americans possible suitors?</td>\n",
       "      <td>29/04/2024</td>\n",
       "      <td>BHPs unsolicited £31bn takeover approach for ...</td>\n",
       "    </tr>\n",
       "    <tr>\n",
       "      <th>3</th>\n",
       "      <td>BHPs bid for Anglo American chips away furthe...</td>\n",
       "      <td>29/04/2024</td>\n",
       "      <td>Companys exit would deal another blow to City...</td>\n",
       "    </tr>\n",
       "    <tr>\n",
       "      <th>4</th>\n",
       "      <td>BHP Mega Bid and $10,000 Copper Expose Mining...</td>\n",
       "      <td>29/04/2024</td>\n",
       "      <td>Spending on new copper mines has declined in r...</td>\n",
       "    </tr>\n",
       "  </tbody>\n",
       "</table>\n",
       "</div>"
      ],
      "text/plain": [
       "                                               Title        Date  \\\n",
       "0  BHPs pursuit of Anglo American has a major ob...  28/04/2024   \n",
       "1  Anglo American rejects £31bn takeover offer fr...  26/04/2024   \n",
       "2         Who are Anglo Americans possible suitors?  29/04/2024   \n",
       "3  BHPs bid for Anglo American chips away furthe...  29/04/2024   \n",
       "4  BHP Mega Bid and $10,000 Copper Expose Mining...  29/04/2024   \n",
       "\n",
       "                                            Sentence  \n",
       "0  The De Beers owner is a longstanding jewel in ...  \n",
       "1  All-share proposal had potential to be one of ...  \n",
       "2  BHPs unsolicited £31bn takeover approach for ...  \n",
       "3  Companys exit would deal another blow to City...  \n",
       "4  Spending on new copper mines has declined in r...  "
      ]
     },
     "execution_count": 134,
     "metadata": {},
     "output_type": "execute_result"
    }
   ],
   "source": [
    "df.head()"
   ]
  },
  {
   "cell_type": "code",
   "execution_count": 135,
   "metadata": {},
   "outputs": [],
   "source": [
    "#df=df['Title']"
   ]
  },
  {
   "cell_type": "code",
   "execution_count": 124,
   "metadata": {},
   "outputs": [],
   "source": [
    "nlp = spacy.load('en_core_web_sm')"
   ]
  },
  {
   "cell_type": "code",
   "execution_count": 138,
   "metadata": {},
   "outputs": [
    {
     "data": {
      "text/html": [
       "<div>\n",
       "<style scoped>\n",
       "    .dataframe tbody tr th:only-of-type {\n",
       "        vertical-align: middle;\n",
       "    }\n",
       "\n",
       "    .dataframe tbody tr th {\n",
       "        vertical-align: top;\n",
       "    }\n",
       "\n",
       "    .dataframe thead th {\n",
       "        text-align: right;\n",
       "    }\n",
       "</style>\n",
       "<table border=\"1\" class=\"dataframe\">\n",
       "  <thead>\n",
       "    <tr style=\"text-align: right;\">\n",
       "      <th></th>\n",
       "      <th>Sentence</th>\n",
       "      <th>Cumulative Polarity</th>\n",
       "    </tr>\n",
       "  </thead>\n",
       "  <tbody>\n",
       "    <tr>\n",
       "      <th>0</th>\n",
       "      <td>The De Beers owner is a longstanding jewel in ...</td>\n",
       "      <td>None</td>\n",
       "    </tr>\n",
       "    <tr>\n",
       "      <th>1</th>\n",
       "      <td>All-share proposal had potential to be one of ...</td>\n",
       "      <td>None</td>\n",
       "    </tr>\n",
       "    <tr>\n",
       "      <th>2</th>\n",
       "      <td>BHPs unsolicited £31bn takeover approach for ...</td>\n",
       "      <td>None</td>\n",
       "    </tr>\n",
       "    <tr>\n",
       "      <th>3</th>\n",
       "      <td>Companys exit would deal another blow to City...</td>\n",
       "      <td>None</td>\n",
       "    </tr>\n",
       "    <tr>\n",
       "      <th>4</th>\n",
       "      <td>Spending on new copper mines has declined in r...</td>\n",
       "      <td>None</td>\n",
       "    </tr>\n",
       "  </tbody>\n",
       "</table>\n",
       "</div>"
      ],
      "text/plain": [
       "                                            Sentence Cumulative Polarity\n",
       "0  The De Beers owner is a longstanding jewel in ...                None\n",
       "1  All-share proposal had potential to be one of ...                None\n",
       "2  BHPs unsolicited £31bn takeover approach for ...                None\n",
       "3  Companys exit would deal another blow to City...                None\n",
       "4  Spending on new copper mines has declined in r...                None"
      ]
     },
     "execution_count": 138,
     "metadata": {},
     "output_type": "execute_result"
    }
   ],
   "source": [
    "\n",
    "data = pd.DataFrame(df['Sentence'])\n",
    "data.dropna(inplace=True)\n",
    "data.columns = [\"Sentence\"] \n",
    "data[\"Cumulative Polarity\"] = None\n",
    "data.head()"
   ]
  },
  {
   "cell_type": "code",
   "execution_count": 139,
   "metadata": {},
   "outputs": [],
   "source": [
    "def cumulative_polarity(sentence: str) -> float:\n",
    "    \"\"\"\n",
    "    Compute cumulative polarity for all words in a sentence.\n",
    "    \"\"\"\n",
    "    # Argument validation\n",
    "    if isinstance (sentence, str) is False:\n",
    "        raise TypeError(\"The argument `sentence` must be of type string.\")\n",
    "    # Compute the polarity of every word in a sentence and add up all polarities\n",
    "    cumulative_polarity = 0.0\n",
    "    words = sentence.lower().split()\n",
    "    for word in words:\n",
    "        if word in nlp.Defaults.stop_words:\n",
    "            continue\n",
    "        blob = TextBlob(word)\n",
    "        cumulative_polarity += blob.sentiment.polarity\n",
    "    return cumulative_polarity\n",
    "\n",
    "\n",
    "\n",
    "def main(df: pd.DataFrame) -> None: \n",
    "    # Arguments validation\n",
    "    if isinstance(df,pd.DataFrame) is False:\n",
    "        raise TypeError(\"The argument df must be of pandas.DataFrame type.\")\n",
    "    # Compute polarity for every sentence\n",
    "    for i in range(len(df)):\n",
    "        sentence = df.iloc[i, 0]\n",
    "        df.iloc[i, 1] = cumulative_polarity(sentence)\n",
    "\n",
    "        "
   ]
  },
  {
   "cell_type": "code",
   "execution_count": 140,
   "metadata": {},
   "outputs": [],
   "source": [
    "main(df=data)"
   ]
  },
  {
   "cell_type": "code",
   "execution_count": 141,
   "metadata": {},
   "outputs": [
    {
     "name": "stdout",
     "output_type": "stream",
     "text": [
      "Reviews' Mean polarity score: 0.20517045454545457\n",
      "Sentiment: positive\n"
     ]
    }
   ],
   "source": [
    "polarity_score = data['Cumulative Polarity'].mean()\n",
    "if polarity_score > 0:\n",
    "    sentiment = 'positive'\n",
    "elif polarity_score < 0:\n",
    "    sentiment = 'negative'\n",
    "else:\n",
    "    sentiment = 'neutral'\n",
    "\n",
    "print(f\"Reviews' Mean polarity score: {polarity_score}\\nSentiment: {sentiment}\")\n"
   ]
  },
  {
   "cell_type": "code",
   "execution_count": 142,
   "metadata": {},
   "outputs": [],
   "source": [
    "from wordcloud import WordCloud\n",
    "import matplotlib.pyplot as plt\n",
    "\n",
    "from collections import defaultdict"
   ]
  },
  {
   "cell_type": "code",
   "execution_count": 143,
   "metadata": {},
   "outputs": [],
   "source": [
    "# Initialize dictionaries to hold positive and negative words\n",
    "positive_words = defaultdict(int)\n",
    "negative_words = defaultdict(int)"
   ]
  },
  {
   "cell_type": "code",
   "execution_count": 144,
   "metadata": {},
   "outputs": [],
   "source": [
    "def words_sent(df: pd.DataFrame) -> None:\n",
    "    if isinstance(df,pd.DataFrame) is False:\n",
    "        raise TypeError\n",
    "    for i in range(len(df)):\n",
    "        sentence = df.iloc[i,0]\n",
    "        \n",
    "           # for words in sentences:\n",
    "        words = sentence.split()\n",
    "\n",
    "        for word in words:\n",
    "            blob = TextBlob(word)\n",
    "            polarity = blob.sentiment.polarity\n",
    "\n",
    "            if polarity > 0:\n",
    "                positive_words[word.lower()] += 1\n",
    "            elif polarity < 0:\n",
    "                negative_words[word.lower()] += 1"
   ]
  },
  {
   "cell_type": "code",
   "execution_count": 145,
   "metadata": {},
   "outputs": [],
   "source": [
    "words_sent(data)\n",
    "pos_wordcloud = WordCloud(width=400, height=200, background_color ='white').generate_from_frequencies(positive_words)\n",
    "neg_wordcloud = WordCloud(width=400, height=200, background_color ='white').generate_from_frequencies(negative_words)"
   ]
  },
  {
   "cell_type": "code",
   "execution_count": 146,
   "metadata": {},
   "outputs": [
    {
     "data": {
      "image/png": "[encoded data removed]",
      "text/plain": [
       "<Figure size 1000x500 with 2 Axes>"
      ]
     },
     "metadata": {},
     "output_type": "display_data"
    }
   ],
   "source": [
    "fig, ax = plt.subplots(1, 2, figsize=(10, 5))\n",
    "\n",
    "ax[0].imshow(pos_wordcloud, interpolation='bilinear')\n",
    "ax[0].set_title('Positive Words')\n",
    "ax[0].axis('off')\n",
    "\n",
    "ax[1].imshow(neg_wordcloud, interpolation='bilinear')\n",
    "ax[1].set_title('Negative Words')\n",
    "ax[1].axis('off')\n",
    "\n",
    "plt.show()"
   ]
  }
 ],
 "metadata": {
  "kernelspec": {
   "display_name": "_env1",
   "language": "python",
   "name": "python3"
  },
  "language_info": {
   "codemirror_mode": {
    "name": "ipython",
    "version": 3
   },
   "file_extension": ".py",
   "mimetype": "text/x-python",
   "name": "python",
   "nbconvert_exporter": "python",
   "pygments_lexer": "ipython3",
   "version": "3.11.6"
  }
 },
 "nbformat": 4,
 "nbformat_minor": 2
}
