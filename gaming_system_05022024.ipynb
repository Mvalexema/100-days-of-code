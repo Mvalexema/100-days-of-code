{
 "cells": [
  {
   "cell_type": "code",
   "execution_count": 1,
   "metadata": {},
   "outputs": [
    {
     "name": "stdout",
     "output_type": "stream",
     "text": [
      "New user is added.\n",
      "LOGIN\n",
      "Login Successful!\n",
      "Too low! Please try again.\n",
      "Too low! Please try again.\n",
      "Congratulations! You guessed right in 3 attempts.\n"
     ]
    }
   ],
   "source": [
    "# Gaming System PlayMaster design. \n",
    "import random\n",
    "username_password = {}\n",
    "# Register new user\n",
    "\n",
    "new_username = input(\"New Username: \")\n",
    "new_password = input(\"New password: \")\n",
    "confirm_password = input(\"Confirm password: \")\n",
    "\n",
    "if new_password == confirm_password:\n",
    "    print(\"New user is added.\")\n",
    "    username_password[new_username]= new_password\n",
    "\n",
    "    with open(\"user.txt\", \"w\") as out_file:\n",
    "        user_data = []\n",
    "        for k in username_password:\n",
    "            user_data.append(f\"{k};{username_password[k]}\")\n",
    "        out_file.write(\"\\n\".join(user_data))\n",
    "else:\n",
    "    print(\"The password does not match. Please try again.\")\n",
    "\n",
    " # Logging User In\n",
    "\n",
    "logged_in = False\n",
    "while not logged_in:\n",
    "\n",
    "    print(\"LOGIN\")\n",
    "    curr_user = input(\"Username: \")\n",
    "    curr_pass = input(\"Password: \")\n",
    "    if curr_user not in username_password.keys():\n",
    "        print(\"User does not exist\")\n",
    "        continue\n",
    "    elif username_password[curr_user] != curr_pass:  \n",
    "        print(\"Wrong password\")\n",
    "        continue\n",
    "    else:\n",
    "        print(\"Login Successful!\")\n",
    "        logged_in = True  \n",
    "\n",
    "# Guess game\n",
    "guess_number = random.randint(1,100)\n",
    "guess = 0\n",
    "attempts = 0\n",
    "\n",
    "while guess !=guess_number:\n",
    "    guess = int(input(\"Guess the number between 0 and 100: \"))\n",
    "    attempts +=1\n",
    "    if guess < guess_number:\n",
    "        print(\"Too low! Please try again.\")\n",
    "    elif guess > guess_number:\n",
    "        print(\"Too high! Please try again.\")\n",
    "    else: \n",
    "        print(f\"Congratulations! You guessed right in {attempts} attempts.\")\n"
   ]
  }
 ],
 "metadata": {
  "kernelspec": {
   "display_name": "_env1",
   "language": "python",
   "name": "python3"
  },
  "language_info": {
   "codemirror_mode": {
    "name": "ipython",
    "version": 3
   },
   "file_extension": ".py",
   "mimetype": "text/x-python",
   "name": "python",
   "nbconvert_exporter": "python",
   "pygments_lexer": "ipython3",
   "version": "3.11.6"
  }
 },
 "nbformat": 4,
 "nbformat_minor": 2
}
