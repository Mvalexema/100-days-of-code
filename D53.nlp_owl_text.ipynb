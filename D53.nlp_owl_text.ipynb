{
 "cells": [
  {
   "cell_type": "code",
   "execution_count": 2,
   "metadata": {},
   "outputs": [],
   "source": [
    "import spacy\n",
    "nlp=spacy.load('en_core_web_sm')"
   ]
  },
  {
   "cell_type": "code",
   "execution_count": 3,
   "metadata": {},
   "outputs": [],
   "source": [
    "with open('owlcreek.txt') as f:\n",
    "    doc=nlp(f.read())\n"
   ]
  },
  {
   "cell_type": "code",
   "execution_count": 4,
   "metadata": {},
   "outputs": [
    {
     "data": {
      "text/plain": [
       "AN OCCURRENCE AT OWL CREEK BRIDGE\n",
       "\n",
       "by Ambrose Bierce\n",
       "\n",
       "I\n",
       "\n",
       "A man stood upon a railroad bridge in northern Alabama, looking down\n",
       "into the swift water twenty feet below."
      ]
     },
     "execution_count": 4,
     "metadata": {},
     "output_type": "execute_result"
    }
   ],
   "source": [
    "doc[:35]"
   ]
  },
  {
   "cell_type": "code",
   "execution_count": 5,
   "metadata": {},
   "outputs": [
    {
     "name": "stdout",
     "output_type": "stream",
     "text": [
      "4835\n"
     ]
    }
   ],
   "source": [
    "# How many tokens are there in the file?\n",
    "\n",
    "print(len(nlp(doc)))\n"
   ]
  },
  {
   "cell_type": "code",
   "execution_count": 6,
   "metadata": {},
   "outputs": [
    {
     "name": "stdout",
     "output_type": "stream",
     "text": [
      "204\n"
     ]
    }
   ],
   "source": [
    "list=[]\n",
    "for sentence in doc.sents:\n",
    "    list.append(sentence)\n",
    "\n",
    "print(len(list))"
   ]
  },
  {
   "cell_type": "code",
   "execution_count": 7,
   "metadata": {},
   "outputs": [
    {
     "name": "stdout",
     "output_type": "stream",
     "text": [
      "The man's hands were behind\n",
      "his back, the wrists bound with a cord.  \n"
     ]
    }
   ],
   "source": [
    "doc2=list[1]\n",
    "print(list[1])"
   ]
  },
  {
   "cell_type": "code",
   "execution_count": 8,
   "metadata": {},
   "outputs": [
    {
     "name": "stdout",
     "output_type": "stream",
     "text": [
      "The          DET                det                      the                           \n",
      "man          NOUN               poss                     man                           \n",
      "'s           PART               case                     's                            \n",
      "hands        NOUN               nsubj                    hand                          \n",
      "were         AUX                ROOT                     be                            \n",
      "behind       ADP                prep                     behind                        \n",
      "\n",
      "            SPACE              dep                      \n",
      "                             \n",
      "his          PRON               poss                     his                           \n",
      "back         NOUN               pobj                     back                          \n",
      ",            PUNCT              punct                    ,                             \n",
      "the          DET                det                      the                           \n",
      "wrists       NOUN               appos                    wrist                         \n",
      "bound        VERB               acl                      bind                          \n",
      "with         ADP                prep                     with                          \n",
      "a            DET                det                      a                             \n",
      "cord         NOUN               pobj                     cord                          \n",
      ".            PUNCT              punct                    .                             \n",
      "             SPACE              dep                                                    \n"
     ]
    }
   ],
   "source": [
    "for token in doc2:\n",
    "    print(f\"{token.text:{12}} {token.pos_:{18}} {token.dep_:{24}} {token.lemma_:{30}}\")"
   ]
  },
  {
   "cell_type": "code",
   "execution_count": 9,
   "metadata": {},
   "outputs": [],
   "source": [
    "# Matcher that finds 'swimming vigorously'ArithmeticError\n",
    "from spacy.matcher import Matcher\n",
    "matcher=Matcher(nlp.vocab)"
   ]
  },
  {
   "cell_type": "code",
   "execution_count": 10,
   "metadata": {},
   "outputs": [],
   "source": [
    "pattern = [[{'LOWER':'swimming'}],[{'LOWER':'swimming'},{'IS_PUNCT': True},{'LOWER':'vigorously'}],[{'LOWER':'swimming'},{'LOWER':'vigorously'}]]"
   ]
  },
  {
   "cell_type": "code",
   "execution_count": 16,
   "metadata": {},
   "outputs": [],
   "source": [
    "matcher.add('Swimming',pattern)"
   ]
  },
  {
   "cell_type": "code",
   "execution_count": 17,
   "metadata": {},
   "outputs": [
    {
     "name": "stdout",
     "output_type": "stream",
     "text": [
      "[(12881893835109366681, 1274, 1275), (12881893835109366681, 3609, 3610)]\n"
     ]
    }
   ],
   "source": [
    "found_matches = matcher(doc)\n",
    "print(found_matches)"
   ]
  },
  {
   "cell_type": "code",
   "execution_count": 21,
   "metadata": {},
   "outputs": [
    {
     "name": "stdout",
     "output_type": "stream",
     "text": [
      " By diving I could evade the bullets and, swimming\n",
      "vigorously, reach the bank, take to the\n",
      "Peyton Farquhar was dead; his body, with a broken neck, swung gently\n",
      "from side to side beneath the timbers of the Owl Creek bridge.\n",
      "\n",
      "\n",
      "saw all this over his shoulder; he was now swimming\n",
      "vigorously with the current.  His brain was\n",
      "Peyton Farquhar was dead; his body, with a broken neck, swung gently\n",
      "from side to side beneath the timbers of the Owl Creek bridge.\n",
      "\n",
      "\n"
     ]
    }
   ],
   "source": [
    "for match_id, start, end in found_matches:\n",
    "    string_id = nlp.vocab.strings[match_id] #get string representation\n",
    "    span = doc[start-10:end+10] \n",
    "    if span in sentence:\n",
    "        sent=sentence\n",
    "    print(span.text)\n",
    "    print(sentence)"
   ]
  }
 ],
 "metadata": {
  "kernelspec": {
   "display_name": "_env1",
   "language": "python",
   "name": "python3"
  },
  "language_info": {
   "codemirror_mode": {
    "name": "ipython",
    "version": 3
   },
   "file_extension": ".py",
   "mimetype": "text/x-python",
   "name": "python",
   "nbconvert_exporter": "python",
   "pygments_lexer": "ipython3",
   "version": "3.11.6"
  }
 },
 "nbformat": 4,
 "nbformat_minor": 2
}
