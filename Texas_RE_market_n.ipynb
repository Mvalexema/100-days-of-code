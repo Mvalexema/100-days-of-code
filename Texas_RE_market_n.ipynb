{
 "cells": [
  {
   "cell_type": "code",
   "execution_count": null,
   "metadata": {},
   "outputs": [],
   "source": [
    "import pandas as pd \n",
    "import numpy as np \n",
    "import matplotlib.pyplot as plt\n",
    "import seaborn as sns \n"
   ]
  },
  {
   "cell_type": "code",
   "execution_count": null,
   "metadata": {},
   "outputs": [],
   "source": [
    "df=pd.read_csv()"
   ]
  },
  {
   "cell_type": "code",
   "execution_count": null,
   "metadata": {},
   "outputs": [],
   "source": []
  },
  {
   "cell_type": "code",
   "execution_count": null,
   "metadata": {},
   "outputs": [],
   "source": []
  },
  {
   "cell_type": "code",
   "execution_count": null,
   "metadata": {},
   "outputs": [],
   "source": [
    "\"plt.figure(figsize = (10,6))\\n\",\n",
    "    \"sns.histplot(df['listPrice'], bins=30,kde=True)\\n\",\n",
    "    \"plt.title(\\\"Distribution of list prices\\\")\\n\",\n",
    "    \"plt.xlabel('listPrice')\\n\",\n",
    "    \"plt.ylabel(\\\"Frequency\\\")\\n\",\n",
    "    \"plt.show\""
   ]
  }
 ],
 "metadata": {
  "language_info": {
   "name": "python"
  }
 },
 "nbformat": 4,
 "nbformat_minor": 2
}
