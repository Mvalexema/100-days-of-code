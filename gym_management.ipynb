{
 "cells": [
  {
   "cell_type": "code",
   "execution_count": 4,
   "metadata": {},
   "outputs": [],
   "source": [
    "# FitLife Gym Membership Management System to handle registrations, class scheduling, and membership renewals\n",
    "\n",
    "\n",
    "def calculate_membership_price(package, duration):\n",
    "    # Price of a monthly membership\n",
    "    base_price = 50\n",
    "\n",
    "    if package =='quarterly':\n",
    "        base_price *=3\n",
    "    elif package == 'yearly':\n",
    "        base_price *=12\n",
    "    return base_price *duration\n",
    "\n",
    "\n",
    "def apply_discount(package, original_price, discount_function):\n",
    "    discounted_price = discount_function(original_price)\n",
    "    return f\"The discounted price for a {package} membership is ${discounted_price}.\"\n",
    "\n",
    "\n",
    "def percentage_dicount(original_price):\n",
    "    return original_price *0.9 #10% discount\n",
    "\n",
    "def fixed_amount_discount(original_price):\n",
    "    return original_price - 10  #$10 fixed amount discount\n",
    "\n"
   ]
  },
  {
   "cell_type": "markdown",
   "metadata": {},
   "source": []
  },
  {
   "cell_type": "code",
   "execution_count": 6,
   "metadata": {},
   "outputs": [
    {
     "name": "stdout",
     "output_type": "stream",
     "text": [
      "Welcome to FitLife Gym!\n",
      "\n",
      "Thank you for entering your details.\n"
     ]
    }
   ],
   "source": [
    "\n",
    "print(\"Welcome to FitLife Gym!\\n\")\n",
    "registration = input(\"Would you like to register? Please enter Y or N: \")\n",
    "\n",
    "if registration == 'Y':\n",
    "    name = input(\"Please enter your name: \")\n",
    "    surname = input(\"Please enter your surname: \")\n",
    "    age = int(input(\"Please enter your age: \"))\n",
    "    if age < 18:\n",
    "        print(\"We need your guardian for the registration.\")\n",
    "    else:\n",
    "        print(\"Thank you for entering your details.\")\n",
    "\n",
    "\n",
    "\n",
    "\n"
   ]
  },
  {
   "cell_type": "code",
   "execution_count": 10,
   "metadata": {},
   "outputs": [
    {
     "name": "stdout",
     "output_type": "stream",
     "text": [
      "Your cost is: The discounted price for a quarterly membership is $45.0.\n"
     ]
    }
   ],
   "source": [
    "membership = input(\"We are offering quarterly and yearly memberships. Please enter 'Q' for quarterly and 'Y' for yearly membership: \").capitalize()\n",
    "if membership == 'Q':\n",
    "    package = 'quarterly'\n",
    "    monthly_discounted = apply_discount('quarterly', 50, percentage_dicount)\n",
    "    print (f\"Your cost is: {monthly_discounted}\")\n",
    "elif membership == 'Y':\n",
    "    package = 'yearly'\n",
    "    yearly_discounted = apply_discount('yearly', 600, fixed_amount_discount)\n",
    "    print (f\"Your cost: {yearly_discounted}\")\n",
    "else:\n",
    "    months = input(\"Please enter the number of months you would like to get your membership for: \")\n",
    "    membership_cost=calculate_membership_price('monthly',months)\n",
    "    print(f\"The total cost for your membership is ${membership_cost}.\")"
   ]
  },
  {
   "cell_type": "code",
   "execution_count": 20,
   "metadata": {},
   "outputs": [
    {
     "name": "stdout",
     "output_type": "stream",
     "text": [
      "Your class is booked\n"
     ]
    }
   ],
   "source": [
    "\n",
    "class_offer = input(\"We are offering a weekly class to our members. Would you like to book a class? Y/N \").capitalize()\n",
    "if class_offer == 'Y':\n",
    "    class_day = int(input(\"The class is at 10-00 every day. Which day would you prefer? Please enter '1' for Monday, '2' for Tuesday, '3' for Wednesday, '4' for Thursday, '5' for Friday, '6' for Saturday, '7' for Sunday: \"))\n",
    "    if class_day in range(0,7):\n",
    "        print(\"Your class is booked\")\n",
    "    else:\n",
    "        print(\"Please try again.\")\n",
    "else: \n",
    "    print(\" We wish you a nice week.\")"
   ]
  },
  {
   "cell_type": "code",
   "execution_count": 24,
   "metadata": {},
   "outputs": [
    {
     "name": "stdout",
     "output_type": "stream",
     "text": [
      "Please try again.\n"
     ]
    }
   ],
   "source": [
    "\n",
    "health_assess = input(\"Would you like to book a health assessment with us? Y/N\").capitalize()\n",
    "if health_assess == 'Y':\n",
    "    ha_day = int(input(\"The health assessment is available every day at 12-00. Which day would you prefer? Please enter '1' for Monday, '2' for Tuesday, '3' for Wednesday, '4' for Thursday, '5' for Friday, '6' for Saturday, '7' for Sunday: \"))\n",
    "    if ha_day in range(0,7):\n",
    "        print(\"Your health assessment is booked. Have a nice day!\")\n",
    "    else:\n",
    "        print(\"Please try again.\")\n",
    "else: \n",
    "    print(\"Have a nice day!.\")"
   ]
  }
 ],
 "metadata": {
  "kernelspec": {
   "display_name": "_env1",
   "language": "python",
   "name": "python3"
  },
  "language_info": {
   "codemirror_mode": {
    "name": "ipython",
    "version": 3
   },
   "file_extension": ".py",
   "mimetype": "text/x-python",
   "name": "python",
   "nbconvert_exporter": "python",
   "pygments_lexer": "ipython3",
   "version": "3.11.6"
  }
 },
 "nbformat": 4,
 "nbformat_minor": 2
}
