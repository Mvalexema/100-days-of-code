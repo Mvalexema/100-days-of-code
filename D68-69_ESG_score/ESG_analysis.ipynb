{
 "cells": [
  {
   "cell_type": "markdown",
   "metadata": {},
   "source": [
    "# Small comment - the dataset is from kaggle.com. However, there is a concern that scores do not reflect the real picture. As an example, Freeport-McMoRan has 'Excellent' environmental score in the dataset. The company is the largest public copper producer with some ESG-related risk history in Indonesia and other regions. The score from Sustainalytics shows HIGH ESG risk. The example below is just for illustrative purposes and can't be used without preliminary analysis of the methodology.  "
   ]
  },
  {
   "cell_type": "code",
   "execution_count": 126,
   "metadata": {},
   "outputs": [],
   "source": [
    "import pandas as pd\n",
    "import numpy as np\n",
    "import matplotlib.pyplot as plt\n",
    "import seaborn as sns"
   ]
  },
  {
   "cell_type": "code",
   "execution_count": 127,
   "metadata": {},
   "outputs": [
    {
     "data": {
      "text/html": [
       "<div>\n",
       "<style scoped>\n",
       "    .dataframe tbody tr th:only-of-type {\n",
       "        vertical-align: middle;\n",
       "    }\n",
       "\n",
       "    .dataframe tbody tr th {\n",
       "        vertical-align: top;\n",
       "    }\n",
       "\n",
       "    .dataframe thead th {\n",
       "        text-align: right;\n",
       "    }\n",
       "</style>\n",
       "<table border=\"1\" class=\"dataframe\">\n",
       "  <thead>\n",
       "    <tr style=\"text-align: right;\">\n",
       "      <th></th>\n",
       "      <th>ticker</th>\n",
       "      <th>name</th>\n",
       "      <th>currency</th>\n",
       "      <th>exchange</th>\n",
       "      <th>industry</th>\n",
       "      <th>logo</th>\n",
       "      <th>weburl</th>\n",
       "      <th>environment_grade</th>\n",
       "      <th>environment_level</th>\n",
       "      <th>social_grade</th>\n",
       "      <th>...</th>\n",
       "      <th>governance_grade</th>\n",
       "      <th>governance_level</th>\n",
       "      <th>environment_score</th>\n",
       "      <th>social_score</th>\n",
       "      <th>governance_score</th>\n",
       "      <th>total_score</th>\n",
       "      <th>last_processing_date</th>\n",
       "      <th>total_grade</th>\n",
       "      <th>total_level</th>\n",
       "      <th>cik</th>\n",
       "    </tr>\n",
       "  </thead>\n",
       "  <tbody>\n",
       "    <tr>\n",
       "      <th>0</th>\n",
       "      <td>dis</td>\n",
       "      <td>Walt Disney Co</td>\n",
       "      <td>USD</td>\n",
       "      <td>NEW YORK STOCK EXCHANGE, INC.</td>\n",
       "      <td>Media</td>\n",
       "      <td>https://static.finnhub.io/logo/ef50b4a2b263c84...</td>\n",
       "      <td>https://thewaltdisneycompany.com/</td>\n",
       "      <td>A</td>\n",
       "      <td>High</td>\n",
       "      <td>BB</td>\n",
       "      <td>...</td>\n",
       "      <td>BB</td>\n",
       "      <td>Medium</td>\n",
       "      <td>510</td>\n",
       "      <td>316</td>\n",
       "      <td>321</td>\n",
       "      <td>1147</td>\n",
       "      <td>19/04/2022</td>\n",
       "      <td>BBB</td>\n",
       "      <td>High</td>\n",
       "      <td>1744489</td>\n",
       "    </tr>\n",
       "    <tr>\n",
       "      <th>1</th>\n",
       "      <td>gm</td>\n",
       "      <td>General Motors Co</td>\n",
       "      <td>USD</td>\n",
       "      <td>NEW YORK STOCK EXCHANGE, INC.</td>\n",
       "      <td>Automobiles</td>\n",
       "      <td>https://static.finnhub.io/logo/9253db78-80c9-1...</td>\n",
       "      <td>https://www.gm.com/</td>\n",
       "      <td>A</td>\n",
       "      <td>High</td>\n",
       "      <td>BB</td>\n",
       "      <td>...</td>\n",
       "      <td>B</td>\n",
       "      <td>Medium</td>\n",
       "      <td>510</td>\n",
       "      <td>303</td>\n",
       "      <td>255</td>\n",
       "      <td>1068</td>\n",
       "      <td>17/04/2022</td>\n",
       "      <td>BBB</td>\n",
       "      <td>High</td>\n",
       "      <td>1467858</td>\n",
       "    </tr>\n",
       "    <tr>\n",
       "      <th>2</th>\n",
       "      <td>gww</td>\n",
       "      <td>WW Grainger Inc</td>\n",
       "      <td>USD</td>\n",
       "      <td>NEW YORK STOCK EXCHANGE, INC.</td>\n",
       "      <td>Trading Companies and Distributors</td>\n",
       "      <td>https://static.finnhub.io/logo/f153dcda-80eb-1...</td>\n",
       "      <td>https://www.grainger.com/</td>\n",
       "      <td>B</td>\n",
       "      <td>Medium</td>\n",
       "      <td>BB</td>\n",
       "      <td>...</td>\n",
       "      <td>B</td>\n",
       "      <td>Medium</td>\n",
       "      <td>255</td>\n",
       "      <td>385</td>\n",
       "      <td>240</td>\n",
       "      <td>880</td>\n",
       "      <td>19/04/2022</td>\n",
       "      <td>BB</td>\n",
       "      <td>Medium</td>\n",
       "      <td>277135</td>\n",
       "    </tr>\n",
       "    <tr>\n",
       "      <th>3</th>\n",
       "      <td>mhk</td>\n",
       "      <td>Mohawk Industries Inc</td>\n",
       "      <td>USD</td>\n",
       "      <td>NEW YORK STOCK EXCHANGE, INC.</td>\n",
       "      <td>Consumer products</td>\n",
       "      <td>https://static.finnhub.io/logo/26868a62-80ec-1...</td>\n",
       "      <td>https://mohawkind.com/</td>\n",
       "      <td>A</td>\n",
       "      <td>High</td>\n",
       "      <td>B</td>\n",
       "      <td>...</td>\n",
       "      <td>BB</td>\n",
       "      <td>Medium</td>\n",
       "      <td>570</td>\n",
       "      <td>298</td>\n",
       "      <td>303</td>\n",
       "      <td>1171</td>\n",
       "      <td>18/04/2022</td>\n",
       "      <td>BBB</td>\n",
       "      <td>High</td>\n",
       "      <td>851968</td>\n",
       "    </tr>\n",
       "    <tr>\n",
       "      <th>4</th>\n",
       "      <td>lyv</td>\n",
       "      <td>Live Nation Entertainment Inc</td>\n",
       "      <td>USD</td>\n",
       "      <td>NEW YORK STOCK EXCHANGE, INC.</td>\n",
       "      <td>Media</td>\n",
       "      <td>https://static.finnhub.io/logo/1cd144d2-80ec-1...</td>\n",
       "      <td>https://www.livenationentertainment.com/</td>\n",
       "      <td>BBB</td>\n",
       "      <td>High</td>\n",
       "      <td>BB</td>\n",
       "      <td>...</td>\n",
       "      <td>B</td>\n",
       "      <td>Medium</td>\n",
       "      <td>492</td>\n",
       "      <td>310</td>\n",
       "      <td>250</td>\n",
       "      <td>1052</td>\n",
       "      <td>18/04/2022</td>\n",
       "      <td>BBB</td>\n",
       "      <td>High</td>\n",
       "      <td>1335258</td>\n",
       "    </tr>\n",
       "  </tbody>\n",
       "</table>\n",
       "<p>5 rows × 21 columns</p>\n",
       "</div>"
      ],
      "text/plain": [
       "  ticker                           name currency  \\\n",
       "0    dis                 Walt Disney Co      USD   \n",
       "1     gm              General Motors Co      USD   \n",
       "2    gww                WW Grainger Inc      USD   \n",
       "3    mhk          Mohawk Industries Inc      USD   \n",
       "4    lyv  Live Nation Entertainment Inc      USD   \n",
       "\n",
       "                        exchange                            industry  \\\n",
       "0  NEW YORK STOCK EXCHANGE, INC.                               Media   \n",
       "1  NEW YORK STOCK EXCHANGE, INC.                         Automobiles   \n",
       "2  NEW YORK STOCK EXCHANGE, INC.  Trading Companies and Distributors   \n",
       "3  NEW YORK STOCK EXCHANGE, INC.                   Consumer products   \n",
       "4  NEW YORK STOCK EXCHANGE, INC.                               Media   \n",
       "\n",
       "                                                logo  \\\n",
       "0  https://static.finnhub.io/logo/ef50b4a2b263c84...   \n",
       "1  https://static.finnhub.io/logo/9253db78-80c9-1...   \n",
       "2  https://static.finnhub.io/logo/f153dcda-80eb-1...   \n",
       "3  https://static.finnhub.io/logo/26868a62-80ec-1...   \n",
       "4  https://static.finnhub.io/logo/1cd144d2-80ec-1...   \n",
       "\n",
       "                                     weburl environment_grade  \\\n",
       "0         https://thewaltdisneycompany.com/                 A   \n",
       "1                       https://www.gm.com/                 A   \n",
       "2                 https://www.grainger.com/                 B   \n",
       "3                    https://mohawkind.com/                 A   \n",
       "4  https://www.livenationentertainment.com/               BBB   \n",
       "\n",
       "  environment_level social_grade  ... governance_grade governance_level  \\\n",
       "0              High           BB  ...               BB           Medium   \n",
       "1              High           BB  ...                B           Medium   \n",
       "2            Medium           BB  ...                B           Medium   \n",
       "3              High            B  ...               BB           Medium   \n",
       "4              High           BB  ...                B           Medium   \n",
       "\n",
       "  environment_score  social_score  governance_score  total_score  \\\n",
       "0               510           316               321         1147   \n",
       "1               510           303               255         1068   \n",
       "2               255           385               240          880   \n",
       "3               570           298               303         1171   \n",
       "4               492           310               250         1052   \n",
       "\n",
       "   last_processing_date total_grade total_level      cik  \n",
       "0            19/04/2022         BBB        High  1744489  \n",
       "1            17/04/2022         BBB        High  1467858  \n",
       "2            19/04/2022          BB      Medium   277135  \n",
       "3            18/04/2022         BBB        High   851968  \n",
       "4            18/04/2022         BBB        High  1335258  \n",
       "\n",
       "[5 rows x 21 columns]"
      ]
     },
     "execution_count": 127,
     "metadata": {},
     "output_type": "execute_result"
    }
   ],
   "source": [
    "df=pd.read_csv('data_esg.csv')\n",
    "df.head()\n"
   ]
  },
  {
   "cell_type": "code",
   "execution_count": 128,
   "metadata": {},
   "outputs": [],
   "source": [
    "df.drop(['ticker','currency','logo','weburl','last_processing_date'], inplace=True,axis=1)"
   ]
  },
  {
   "cell_type": "code",
   "execution_count": 129,
   "metadata": {},
   "outputs": [
    {
     "data": {
      "text/plain": [
       "Index(['name', 'exchange', 'industry', 'environment_grade',\n",
       "       'environment_level', 'social_grade', 'social_level', 'governance_grade',\n",
       "       'governance_level', 'environment_score', 'social_score',\n",
       "       'governance_score', 'total_score', 'total_grade', 'total_level', 'cik'],\n",
       "      dtype='object')"
      ]
     },
     "execution_count": 129,
     "metadata": {},
     "output_type": "execute_result"
    }
   ],
   "source": [
    "df.columns"
   ]
  },
  {
   "cell_type": "code",
   "execution_count": 130,
   "metadata": {},
   "outputs": [
    {
     "data": {
      "text/html": [
       "<div>\n",
       "<style scoped>\n",
       "    .dataframe tbody tr th:only-of-type {\n",
       "        vertical-align: middle;\n",
       "    }\n",
       "\n",
       "    .dataframe tbody tr th {\n",
       "        vertical-align: top;\n",
       "    }\n",
       "\n",
       "    .dataframe thead th {\n",
       "        text-align: right;\n",
       "    }\n",
       "</style>\n",
       "<table border=\"1\" class=\"dataframe\">\n",
       "  <thead>\n",
       "    <tr style=\"text-align: right;\">\n",
       "      <th></th>\n",
       "      <th>environment_score</th>\n",
       "      <th>social_score</th>\n",
       "      <th>governance_score</th>\n",
       "      <th>total_score</th>\n",
       "      <th>cik</th>\n",
       "    </tr>\n",
       "  </thead>\n",
       "  <tbody>\n",
       "    <tr>\n",
       "      <th>count</th>\n",
       "      <td>722.000000</td>\n",
       "      <td>722.000000</td>\n",
       "      <td>722.000000</td>\n",
       "      <td>722.000000</td>\n",
       "      <td>7.220000e+02</td>\n",
       "    </tr>\n",
       "    <tr>\n",
       "      <th>mean</th>\n",
       "      <td>404.806094</td>\n",
       "      <td>292.182825</td>\n",
       "      <td>278.761773</td>\n",
       "      <td>975.750693</td>\n",
       "      <td>9.897925e+05</td>\n",
       "    </tr>\n",
       "    <tr>\n",
       "      <th>std</th>\n",
       "      <td>145.103870</td>\n",
       "      <td>57.017406</td>\n",
       "      <td>47.031536</td>\n",
       "      <td>218.751796</td>\n",
       "      <td>5.816815e+05</td>\n",
       "    </tr>\n",
       "    <tr>\n",
       "      <th>min</th>\n",
       "      <td>200.000000</td>\n",
       "      <td>160.000000</td>\n",
       "      <td>75.000000</td>\n",
       "      <td>600.000000</td>\n",
       "      <td>1.800000e+03</td>\n",
       "    </tr>\n",
       "    <tr>\n",
       "      <th>25%</th>\n",
       "      <td>240.000000</td>\n",
       "      <td>243.000000</td>\n",
       "      <td>235.000000</td>\n",
       "      <td>763.000000</td>\n",
       "      <td>7.231572e+05</td>\n",
       "    </tr>\n",
       "    <tr>\n",
       "      <th>50%</th>\n",
       "      <td>483.000000</td>\n",
       "      <td>302.000000</td>\n",
       "      <td>300.000000</td>\n",
       "      <td>1046.000000</td>\n",
       "      <td>1.046189e+06</td>\n",
       "    </tr>\n",
       "    <tr>\n",
       "      <th>75%</th>\n",
       "      <td>518.750000</td>\n",
       "      <td>322.750000</td>\n",
       "      <td>310.000000</td>\n",
       "      <td>1144.000000</td>\n",
       "      <td>1.470094e+06</td>\n",
       "    </tr>\n",
       "    <tr>\n",
       "      <th>max</th>\n",
       "      <td>719.000000</td>\n",
       "      <td>667.000000</td>\n",
       "      <td>475.000000</td>\n",
       "      <td>1536.000000</td>\n",
       "      <td>1.914023e+06</td>\n",
       "    </tr>\n",
       "  </tbody>\n",
       "</table>\n",
       "</div>"
      ],
      "text/plain": [
       "       environment_score  social_score  governance_score  total_score  \\\n",
       "count         722.000000    722.000000        722.000000   722.000000   \n",
       "mean          404.806094    292.182825        278.761773   975.750693   \n",
       "std           145.103870     57.017406         47.031536   218.751796   \n",
       "min           200.000000    160.000000         75.000000   600.000000   \n",
       "25%           240.000000    243.000000        235.000000   763.000000   \n",
       "50%           483.000000    302.000000        300.000000  1046.000000   \n",
       "75%           518.750000    322.750000        310.000000  1144.000000   \n",
       "max           719.000000    667.000000        475.000000  1536.000000   \n",
       "\n",
       "                cik  \n",
       "count  7.220000e+02  \n",
       "mean   9.897925e+05  \n",
       "std    5.816815e+05  \n",
       "min    1.800000e+03  \n",
       "25%    7.231572e+05  \n",
       "50%    1.046189e+06  \n",
       "75%    1.470094e+06  \n",
       "max    1.914023e+06  "
      ]
     },
     "execution_count": 130,
     "metadata": {},
     "output_type": "execute_result"
    }
   ],
   "source": [
    "df.describe()"
   ]
  },
  {
   "cell_type": "code",
   "execution_count": 131,
   "metadata": {},
   "outputs": [
    {
     "data": {
      "text/html": [
       "<div>\n",
       "<style scoped>\n",
       "    .dataframe tbody tr th:only-of-type {\n",
       "        vertical-align: middle;\n",
       "    }\n",
       "\n",
       "    .dataframe tbody tr th {\n",
       "        vertical-align: top;\n",
       "    }\n",
       "\n",
       "    .dataframe thead th {\n",
       "        text-align: right;\n",
       "    }\n",
       "</style>\n",
       "<table border=\"1\" class=\"dataframe\">\n",
       "  <thead>\n",
       "    <tr style=\"text-align: right;\">\n",
       "      <th></th>\n",
       "      <th>name</th>\n",
       "      <th>exchange</th>\n",
       "      <th>industry</th>\n",
       "      <th>environment_grade</th>\n",
       "      <th>environment_level</th>\n",
       "      <th>social_grade</th>\n",
       "      <th>social_level</th>\n",
       "      <th>governance_grade</th>\n",
       "      <th>governance_level</th>\n",
       "      <th>environment_score</th>\n",
       "      <th>social_score</th>\n",
       "      <th>governance_score</th>\n",
       "      <th>total_score</th>\n",
       "      <th>total_grade</th>\n",
       "      <th>total_level</th>\n",
       "      <th>cik</th>\n",
       "    </tr>\n",
       "  </thead>\n",
       "  <tbody>\n",
       "    <tr>\n",
       "      <th>0</th>\n",
       "      <td>Walt Disney Co</td>\n",
       "      <td>NEW YORK STOCK EXCHANGE, INC.</td>\n",
       "      <td>Media</td>\n",
       "      <td>A</td>\n",
       "      <td>High</td>\n",
       "      <td>BB</td>\n",
       "      <td>Medium</td>\n",
       "      <td>BB</td>\n",
       "      <td>Medium</td>\n",
       "      <td>510</td>\n",
       "      <td>316</td>\n",
       "      <td>321</td>\n",
       "      <td>1147</td>\n",
       "      <td>BBB</td>\n",
       "      <td>High</td>\n",
       "      <td>1744489</td>\n",
       "    </tr>\n",
       "    <tr>\n",
       "      <th>4</th>\n",
       "      <td>Live Nation Entertainment Inc</td>\n",
       "      <td>NEW YORK STOCK EXCHANGE, INC.</td>\n",
       "      <td>Media</td>\n",
       "      <td>BBB</td>\n",
       "      <td>High</td>\n",
       "      <td>BB</td>\n",
       "      <td>Medium</td>\n",
       "      <td>B</td>\n",
       "      <td>Medium</td>\n",
       "      <td>492</td>\n",
       "      <td>310</td>\n",
       "      <td>250</td>\n",
       "      <td>1052</td>\n",
       "      <td>BBB</td>\n",
       "      <td>High</td>\n",
       "      <td>1335258</td>\n",
       "    </tr>\n",
       "    <tr>\n",
       "      <th>64</th>\n",
       "      <td>Advantage Solutions Inc</td>\n",
       "      <td>NASDAQ NMS - GLOBAL MARKET</td>\n",
       "      <td>Media</td>\n",
       "      <td>A</td>\n",
       "      <td>High</td>\n",
       "      <td>B</td>\n",
       "      <td>Medium</td>\n",
       "      <td>BB</td>\n",
       "      <td>Medium</td>\n",
       "      <td>515</td>\n",
       "      <td>269</td>\n",
       "      <td>328</td>\n",
       "      <td>1112</td>\n",
       "      <td>BBB</td>\n",
       "      <td>High</td>\n",
       "      <td>1776661</td>\n",
       "    </tr>\n",
       "    <tr>\n",
       "      <th>134</th>\n",
       "      <td>Activision Blizzard Inc</td>\n",
       "      <td>NASDAQ NMS - GLOBAL MARKET</td>\n",
       "      <td>Media</td>\n",
       "      <td>B</td>\n",
       "      <td>Medium</td>\n",
       "      <td>BB</td>\n",
       "      <td>Medium</td>\n",
       "      <td>BB</td>\n",
       "      <td>Medium</td>\n",
       "      <td>280</td>\n",
       "      <td>347</td>\n",
       "      <td>330</td>\n",
       "      <td>957</td>\n",
       "      <td>BBB</td>\n",
       "      <td>High</td>\n",
       "      <td>718877</td>\n",
       "    </tr>\n",
       "    <tr>\n",
       "      <th>146</th>\n",
       "      <td>Charter Communications Inc</td>\n",
       "      <td>NASDAQ NMS - GLOBAL MARKET</td>\n",
       "      <td>Media</td>\n",
       "      <td>A</td>\n",
       "      <td>High</td>\n",
       "      <td>BB</td>\n",
       "      <td>Medium</td>\n",
       "      <td>BB</td>\n",
       "      <td>Medium</td>\n",
       "      <td>500</td>\n",
       "      <td>300</td>\n",
       "      <td>300</td>\n",
       "      <td>1100</td>\n",
       "      <td>BBB</td>\n",
       "      <td>High</td>\n",
       "      <td>1091667</td>\n",
       "    </tr>\n",
       "  </tbody>\n",
       "</table>\n",
       "</div>"
      ],
      "text/plain": [
       "                              name                       exchange industry  \\\n",
       "0                   Walt Disney Co  NEW YORK STOCK EXCHANGE, INC.    Media   \n",
       "4    Live Nation Entertainment Inc  NEW YORK STOCK EXCHANGE, INC.    Media   \n",
       "64         Advantage Solutions Inc     NASDAQ NMS - GLOBAL MARKET    Media   \n",
       "134        Activision Blizzard Inc     NASDAQ NMS - GLOBAL MARKET    Media   \n",
       "146     Charter Communications Inc     NASDAQ NMS - GLOBAL MARKET    Media   \n",
       "\n",
       "    environment_grade environment_level social_grade social_level  \\\n",
       "0                   A              High           BB       Medium   \n",
       "4                 BBB              High           BB       Medium   \n",
       "64                  A              High            B       Medium   \n",
       "134                 B            Medium           BB       Medium   \n",
       "146                 A              High           BB       Medium   \n",
       "\n",
       "    governance_grade governance_level  environment_score  social_score  \\\n",
       "0                 BB           Medium                510           316   \n",
       "4                  B           Medium                492           310   \n",
       "64                BB           Medium                515           269   \n",
       "134               BB           Medium                280           347   \n",
       "146               BB           Medium                500           300   \n",
       "\n",
       "     governance_score  total_score total_grade total_level      cik  \n",
       "0                 321         1147         BBB        High  1744489  \n",
       "4                 250         1052         BBB        High  1335258  \n",
       "64                328         1112         BBB        High  1776661  \n",
       "134               330          957         BBB        High   718877  \n",
       "146               300         1100         BBB        High  1091667  "
      ]
     },
     "execution_count": 131,
     "metadata": {},
     "output_type": "execute_result"
    }
   ],
   "source": [
    "df_grouped=df.groupby('industry')\n",
    "df_grouped.get_group('Media').head()"
   ]
  },
  {
   "cell_type": "code",
   "execution_count": 132,
   "metadata": {},
   "outputs": [
    {
     "data": {
      "text/plain": [
       "['Media',\n",
       " 'Automobiles',\n",
       " 'Trading Companies and Distributors',\n",
       " 'Consumer products',\n",
       " 'Hotels Restaurants and Leisure',\n",
       " 'Diversified Consumer Services',\n",
       " 'Airlines',\n",
       " 'Insurance',\n",
       " 'Communications',\n",
       " 'Building',\n",
       " 'Technology',\n",
       " 'Electrical Equipment',\n",
       " 'Logistics and Transportation',\n",
       " nan,\n",
       " 'Biotechnology',\n",
       " 'Health Care',\n",
       " 'Life Sciences Tools and Services',\n",
       " 'Banking',\n",
       " 'Semiconductors',\n",
       " 'Pharmaceuticals',\n",
       " 'Financial Services',\n",
       " 'Commercial Services and Supplies',\n",
       " 'Chemicals',\n",
       " 'Real Estate',\n",
       " 'Utilities',\n",
       " 'Machinery',\n",
       " 'Food Products',\n",
       " 'Retail',\n",
       " 'Energy',\n",
       " 'Road and Rail',\n",
       " 'Distributors',\n",
       " 'Beverages',\n",
       " 'Telecommunication',\n",
       " 'Professional Services',\n",
       " 'Auto Components',\n",
       " 'Packaging',\n",
       " 'Aerospace and Defense',\n",
       " 'Tobacco',\n",
       " 'Metals and Mining',\n",
       " 'Construction',\n",
       " 'Textiles Apparel and Luxury Goods',\n",
       " 'Industrial Conglomerates',\n",
       " 'Leisure Products',\n",
       " 'Marine',\n",
       " 'Hotels, Restaurants & Leisure',\n",
       " 'Metals & Mining',\n",
       " 'Energy ',\n",
       " 'Aerospace & Defense']"
      ]
     },
     "execution_count": 132,
     "metadata": {},
     "output_type": "execute_result"
    }
   ],
   "source": [
    "industries=list(df['industry'].unique())\n",
    "industries"
   ]
  },
  {
   "cell_type": "code",
   "execution_count": 133,
   "metadata": {},
   "outputs": [],
   "source": [
    "df['industry']=df['industry'].str.strip()"
   ]
  },
  {
   "cell_type": "code",
   "execution_count": 134,
   "metadata": {},
   "outputs": [],
   "source": [
    "df['industry']=df['industry'].str.replace('&','and' )"
   ]
  },
  {
   "cell_type": "code",
   "execution_count": 135,
   "metadata": {},
   "outputs": [],
   "source": [
    "df['industry']=df['industry'].str.replace('nan','Other' )"
   ]
  },
  {
   "cell_type": "code",
   "execution_count": 136,
   "metadata": {},
   "outputs": [],
   "source": [
    "df['industry']=df['industry'].str.replace(',','')"
   ]
  },
  {
   "cell_type": "code",
   "execution_count": 137,
   "metadata": {},
   "outputs": [],
   "source": [
    "df['industry']=df['industry'].str.replace('  ',' ')"
   ]
  },
  {
   "cell_type": "code",
   "execution_count": 138,
   "metadata": {},
   "outputs": [
    {
     "data": {
      "text/plain": [
       "['Media',\n",
       " 'Automobiles',\n",
       " 'Trading Companies and Distributors',\n",
       " 'Consumer products',\n",
       " 'Hotels Restaurants and Leisure',\n",
       " 'Diversified Consumer Services',\n",
       " 'Airlines',\n",
       " 'Insurance',\n",
       " 'Communications',\n",
       " 'Building',\n",
       " 'Technology',\n",
       " 'Electrical Equipment',\n",
       " 'Logistics and Transportation',\n",
       " nan,\n",
       " 'Biotechnology',\n",
       " 'Health Care',\n",
       " 'Life Sciences Tools and Services',\n",
       " 'Banking',\n",
       " 'Semiconductors',\n",
       " 'Pharmaceuticals',\n",
       " 'FiOthercial Services',\n",
       " 'Commercial Services and Supplies',\n",
       " 'Chemicals',\n",
       " 'Real Estate',\n",
       " 'Utilities',\n",
       " 'Machinery',\n",
       " 'Food Products',\n",
       " 'Retail',\n",
       " 'Energy',\n",
       " 'Road and Rail',\n",
       " 'Distributors',\n",
       " 'Beverages',\n",
       " 'Telecommunication',\n",
       " 'Professional Services',\n",
       " 'Auto Components',\n",
       " 'Packaging',\n",
       " 'Aerospace and Defense',\n",
       " 'Tobacco',\n",
       " 'Metals and Mining',\n",
       " 'Construction',\n",
       " 'Textiles Apparel and Luxury Goods',\n",
       " 'Industrial Conglomerates',\n",
       " 'Leisure Products',\n",
       " 'Marine']"
      ]
     },
     "execution_count": 138,
     "metadata": {},
     "output_type": "execute_result"
    }
   ],
   "source": [
    "industries=list(df['industry'].unique())\n",
    "industries"
   ]
  },
  {
   "cell_type": "code",
   "execution_count": 139,
   "metadata": {},
   "outputs": [],
   "source": [
    "def industry_mean(data: pd.DataFrame):\n",
    "    result=data.groupby('industry')['total_score'].mean()\n",
    "    return result.sort_values(ascending=True)\n",
    "\n",
    "data_mean=industry_mean(df)\n"
   ]
  },
  {
   "cell_type": "markdown",
   "metadata": {},
   "source": [
    "Mean total score byindustry looks interesting - Tobacco and Utilities are leading the total ESG score while Leisure Products and Diversified Consumer Services have lowest scores."
   ]
  },
  {
   "cell_type": "code",
   "execution_count": 140,
   "metadata": {},
   "outputs": [
    {
     "data": {
      "application/vnd.plotly.v1+json": {
       "config": {
        "plotlyServerURL": "https://plot.ly"
       },
       "data": [
        {
         "type": "bar",
         "x": [
          "Diversified Consumer Services",
          "Leisure Products",
          "Auto Components",
          "Airlines",
          "Automobiles",
          "Marine",
          "Biotechnology",
          "Trading Companies and Distributors",
          "Banking",
          "Pharmaceuticals",
          "Hotels Restaurants and Leisure",
          "FiOthercial Services",
          "Retail",
          "Telecommunication",
          "Electrical Equipment",
          "Media",
          "Communications",
          "Health Care",
          "Textiles Apparel and Luxury Goods",
          "Consumer products",
          "Metals and Mining",
          "Life Sciences Tools and Services",
          "Commercial Services and Supplies",
          "Real Estate",
          "Insurance",
          "Logistics and Transportation",
          "Semiconductors",
          "Technology",
          "Professional Services",
          "Machinery",
          "Aerospace and Defense",
          "Chemicals",
          "Beverages",
          "Building",
          "Road and Rail",
          "Construction",
          "Distributors",
          "Energy",
          "Food Products",
          "Packaging",
          "Industrial Conglomerates",
          "Tobacco",
          "Utilities"
         ],
         "y": [
          739.3333333333334,
          780,
          833.3333333333334,
          838.7142857142857,
          859.25,
          865.3333333333334,
          866.9107142857143,
          885.2,
          898.3103448275862,
          903.6666666666666,
          904.4583333333334,
          909.3333333333334,
          918.5769230769231,
          928.3333333333334,
          933,
          935.2608695652174,
          938.2222222222222,
          938.7647058823529,
          944.4444444444445,
          945.55,
          987,
          993.125,
          995.8571428571429,
          995.9444444444445,
          1012.3703703703703,
          1025.1666666666667,
          1030.5833333333333,
          1031.3174603174602,
          1047.857142857143,
          1048.047619047619,
          1048.1818181818182,
          1058.8947368421052,
          1061,
          1074.2,
          1076.3333333333333,
          1082.6666666666667,
          1109.6666666666667,
          1117.7619047619048,
          1131.0714285714287,
          1156,
          1157,
          1165,
          1190.6333333333334
         ]
        }
       ],
       "layout": {
        "template": {
         "data": {
          "bar": [
           {
            "error_x": {
             "color": "#2a3f5f"
            },
            "error_y": {
             "color": "#2a3f5f"
            },
            "marker": {
             "line": {
              "color": "#E5ECF6",
              "width": 0.5
             },
             "pattern": {
              "fillmode": "overlay",
              "size": 10,
              "solidity": 0.2
             }
            },
            "type": "bar"
           }
          ],
          "barpolar": [
           {
            "marker": {
             "line": {
              "color": "#E5ECF6",
              "width": 0.5
             },
             "pattern": {
              "fillmode": "overlay",
              "size": 10,
              "solidity": 0.2
             }
            },
            "type": "barpolar"
           }
          ],
          "carpet": [
           {
            "aaxis": {
             "endlinecolor": "#2a3f5f",
             "gridcolor": "white",
             "linecolor": "white",
             "minorgridcolor": "white",
             "startlinecolor": "#2a3f5f"
            },
            "baxis": {
             "endlinecolor": "#2a3f5f",
             "gridcolor": "white",
             "linecolor": "white",
             "minorgridcolor": "white",
             "startlinecolor": "#2a3f5f"
            },
            "type": "carpet"
           }
          ],
          "choropleth": [
           {
            "colorbar": {
             "outlinewidth": 0,
             "ticks": ""
            },
            "type": "choropleth"
           }
          ],
          "contour": [
           {
            "colorbar": {
             "outlinewidth": 0,
             "ticks": ""
            },
            "colorscale": [
             [
              0,
              "#0d0887"
             ],
             [
              0.1111111111111111,
              "#46039f"
             ],
             [
              0.2222222222222222,
              "#7201a8"
             ],
             [
              0.3333333333333333,
              "#9c179e"
             ],
             [
              0.4444444444444444,
              "#bd3786"
             ],
             [
              0.5555555555555556,
              "#d8576b"
             ],
             [
              0.6666666666666666,
              "#ed7953"
             ],
             [
              0.7777777777777778,
              "#fb9f3a"
             ],
             [
              0.8888888888888888,
              "#fdca26"
             ],
             [
              1,
              "#f0f921"
             ]
            ],
            "type": "contour"
           }
          ],
          "contourcarpet": [
           {
            "colorbar": {
             "outlinewidth": 0,
             "ticks": ""
            },
            "type": "contourcarpet"
           }
          ],
          "heatmap": [
           {
            "colorbar": {
             "outlinewidth": 0,
             "ticks": ""
            },
            "colorscale": [
             [
              0,
              "#0d0887"
             ],
             [
              0.1111111111111111,
              "#46039f"
             ],
             [
              0.2222222222222222,
              "#7201a8"
             ],
             [
              0.3333333333333333,
              "#9c179e"
             ],
             [
              0.4444444444444444,
              "#bd3786"
             ],
             [
              0.5555555555555556,
              "#d8576b"
             ],
             [
              0.6666666666666666,
              "#ed7953"
             ],
             [
              0.7777777777777778,
              "#fb9f3a"
             ],
             [
              0.8888888888888888,
              "#fdca26"
             ],
             [
              1,
              "#f0f921"
             ]
            ],
            "type": "heatmap"
           }
          ],
          "heatmapgl": [
           {
            "colorbar": {
             "outlinewidth": 0,
             "ticks": ""
            },
            "colorscale": [
             [
              0,
              "#0d0887"
             ],
             [
              0.1111111111111111,
              "#46039f"
             ],
             [
              0.2222222222222222,
              "#7201a8"
             ],
             [
              0.3333333333333333,
              "#9c179e"
             ],
             [
              0.4444444444444444,
              "#bd3786"
             ],
             [
              0.5555555555555556,
              "#d8576b"
             ],
             [
              0.6666666666666666,
              "#ed7953"
             ],
             [
              0.7777777777777778,
              "#fb9f3a"
             ],
             [
              0.8888888888888888,
              "#fdca26"
             ],
             [
              1,
              "#f0f921"
             ]
            ],
            "type": "heatmapgl"
           }
          ],
          "histogram": [
           {
            "marker": {
             "pattern": {
              "fillmode": "overlay",
              "size": 10,
              "solidity": 0.2
             }
            },
            "type": "histogram"
           }
          ],
          "histogram2d": [
           {
            "colorbar": {
             "outlinewidth": 0,
             "ticks": ""
            },
            "colorscale": [
             [
              0,
              "#0d0887"
             ],
             [
              0.1111111111111111,
              "#46039f"
             ],
             [
              0.2222222222222222,
              "#7201a8"
             ],
             [
              0.3333333333333333,
              "#9c179e"
             ],
             [
              0.4444444444444444,
              "#bd3786"
             ],
             [
              0.5555555555555556,
              "#d8576b"
             ],
             [
              0.6666666666666666,
              "#ed7953"
             ],
             [
              0.7777777777777778,
              "#fb9f3a"
             ],
             [
              0.8888888888888888,
              "#fdca26"
             ],
             [
              1,
              "#f0f921"
             ]
            ],
            "type": "histogram2d"
           }
          ],
          "histogram2dcontour": [
           {
            "colorbar": {
             "outlinewidth": 0,
             "ticks": ""
            },
            "colorscale": [
             [
              0,
              "#0d0887"
             ],
             [
              0.1111111111111111,
              "#46039f"
             ],
             [
              0.2222222222222222,
              "#7201a8"
             ],
             [
              0.3333333333333333,
              "#9c179e"
             ],
             [
              0.4444444444444444,
              "#bd3786"
             ],
             [
              0.5555555555555556,
              "#d8576b"
             ],
             [
              0.6666666666666666,
              "#ed7953"
             ],
             [
              0.7777777777777778,
              "#fb9f3a"
             ],
             [
              0.8888888888888888,
              "#fdca26"
             ],
             [
              1,
              "#f0f921"
             ]
            ],
            "type": "histogram2dcontour"
           }
          ],
          "mesh3d": [
           {
            "colorbar": {
             "outlinewidth": 0,
             "ticks": ""
            },
            "type": "mesh3d"
           }
          ],
          "parcoords": [
           {
            "line": {
             "colorbar": {
              "outlinewidth": 0,
              "ticks": ""
             }
            },
            "type": "parcoords"
           }
          ],
          "pie": [
           {
            "automargin": true,
            "type": "pie"
           }
          ],
          "scatter": [
           {
            "fillpattern": {
             "fillmode": "overlay",
             "size": 10,
             "solidity": 0.2
            },
            "type": "scatter"
           }
          ],
          "scatter3d": [
           {
            "line": {
             "colorbar": {
              "outlinewidth": 0,
              "ticks": ""
             }
            },
            "marker": {
             "colorbar": {
              "outlinewidth": 0,
              "ticks": ""
             }
            },
            "type": "scatter3d"
           }
          ],
          "scattercarpet": [
           {
            "marker": {
             "colorbar": {
              "outlinewidth": 0,
              "ticks": ""
             }
            },
            "type": "scattercarpet"
           }
          ],
          "scattergeo": [
           {
            "marker": {
             "colorbar": {
              "outlinewidth": 0,
              "ticks": ""
             }
            },
            "type": "scattergeo"
           }
          ],
          "scattergl": [
           {
            "marker": {
             "colorbar": {
              "outlinewidth": 0,
              "ticks": ""
             }
            },
            "type": "scattergl"
           }
          ],
          "scattermapbox": [
           {
            "marker": {
             "colorbar": {
              "outlinewidth": 0,
              "ticks": ""
             }
            },
            "type": "scattermapbox"
           }
          ],
          "scatterpolar": [
           {
            "marker": {
             "colorbar": {
              "outlinewidth": 0,
              "ticks": ""
             }
            },
            "type": "scatterpolar"
           }
          ],
          "scatterpolargl": [
           {
            "marker": {
             "colorbar": {
              "outlinewidth": 0,
              "ticks": ""
             }
            },
            "type": "scatterpolargl"
           }
          ],
          "scatterternary": [
           {
            "marker": {
             "colorbar": {
              "outlinewidth": 0,
              "ticks": ""
             }
            },
            "type": "scatterternary"
           }
          ],
          "surface": [
           {
            "colorbar": {
             "outlinewidth": 0,
             "ticks": ""
            },
            "colorscale": [
             [
              0,
              "#0d0887"
             ],
             [
              0.1111111111111111,
              "#46039f"
             ],
             [
              0.2222222222222222,
              "#7201a8"
             ],
             [
              0.3333333333333333,
              "#9c179e"
             ],
             [
              0.4444444444444444,
              "#bd3786"
             ],
             [
              0.5555555555555556,
              "#d8576b"
             ],
             [
              0.6666666666666666,
              "#ed7953"
             ],
             [
              0.7777777777777778,
              "#fb9f3a"
             ],
             [
              0.8888888888888888,
              "#fdca26"
             ],
             [
              1,
              "#f0f921"
             ]
            ],
            "type": "surface"
           }
          ],
          "table": [
           {
            "cells": {
             "fill": {
              "color": "#EBF0F8"
             },
             "line": {
              "color": "white"
             }
            },
            "header": {
             "fill": {
              "color": "#C8D4E3"
             },
             "line": {
              "color": "white"
             }
            },
            "type": "table"
           }
          ]
         },
         "layout": {
          "annotationdefaults": {
           "arrowcolor": "#2a3f5f",
           "arrowhead": 0,
           "arrowwidth": 1
          },
          "autotypenumbers": "strict",
          "coloraxis": {
           "colorbar": {
            "outlinewidth": 0,
            "ticks": ""
           }
          },
          "colorscale": {
           "diverging": [
            [
             0,
             "#8e0152"
            ],
            [
             0.1,
             "#c51b7d"
            ],
            [
             0.2,
             "#de77ae"
            ],
            [
             0.3,
             "#f1b6da"
            ],
            [
             0.4,
             "#fde0ef"
            ],
            [
             0.5,
             "#f7f7f7"
            ],
            [
             0.6,
             "#e6f5d0"
            ],
            [
             0.7,
             "#b8e186"
            ],
            [
             0.8,
             "#7fbc41"
            ],
            [
             0.9,
             "#4d9221"
            ],
            [
             1,
             "#276419"
            ]
           ],
           "sequential": [
            [
             0,
             "#0d0887"
            ],
            [
             0.1111111111111111,
             "#46039f"
            ],
            [
             0.2222222222222222,
             "#7201a8"
            ],
            [
             0.3333333333333333,
             "#9c179e"
            ],
            [
             0.4444444444444444,
             "#bd3786"
            ],
            [
             0.5555555555555556,
             "#d8576b"
            ],
            [
             0.6666666666666666,
             "#ed7953"
            ],
            [
             0.7777777777777778,
             "#fb9f3a"
            ],
            [
             0.8888888888888888,
             "#fdca26"
            ],
            [
             1,
             "#f0f921"
            ]
           ],
           "sequentialminus": [
            [
             0,
             "#0d0887"
            ],
            [
             0.1111111111111111,
             "#46039f"
            ],
            [
             0.2222222222222222,
             "#7201a8"
            ],
            [
             0.3333333333333333,
             "#9c179e"
            ],
            [
             0.4444444444444444,
             "#bd3786"
            ],
            [
             0.5555555555555556,
             "#d8576b"
            ],
            [
             0.6666666666666666,
             "#ed7953"
            ],
            [
             0.7777777777777778,
             "#fb9f3a"
            ],
            [
             0.8888888888888888,
             "#fdca26"
            ],
            [
             1,
             "#f0f921"
            ]
           ]
          },
          "colorway": [
           "#636efa",
           "#EF553B",
           "#00cc96",
           "#ab63fa",
           "#FFA15A",
           "#19d3f3",
           "#FF6692",
           "#B6E880",
           "#FF97FF",
           "#FECB52"
          ],
          "font": {
           "color": "#2a3f5f"
          },
          "geo": {
           "bgcolor": "white",
           "lakecolor": "white",
           "landcolor": "#E5ECF6",
           "showlakes": true,
           "showland": true,
           "subunitcolor": "white"
          },
          "hoverlabel": {
           "align": "left"
          },
          "hovermode": "closest",
          "mapbox": {
           "style": "light"
          },
          "paper_bgcolor": "white",
          "plot_bgcolor": "#E5ECF6",
          "polar": {
           "angularaxis": {
            "gridcolor": "white",
            "linecolor": "white",
            "ticks": ""
           },
           "bgcolor": "#E5ECF6",
           "radialaxis": {
            "gridcolor": "white",
            "linecolor": "white",
            "ticks": ""
           }
          },
          "scene": {
           "xaxis": {
            "backgroundcolor": "#E5ECF6",
            "gridcolor": "white",
            "gridwidth": 2,
            "linecolor": "white",
            "showbackground": true,
            "ticks": "",
            "zerolinecolor": "white"
           },
           "yaxis": {
            "backgroundcolor": "#E5ECF6",
            "gridcolor": "white",
            "gridwidth": 2,
            "linecolor": "white",
            "showbackground": true,
            "ticks": "",
            "zerolinecolor": "white"
           },
           "zaxis": {
            "backgroundcolor": "#E5ECF6",
            "gridcolor": "white",
            "gridwidth": 2,
            "linecolor": "white",
            "showbackground": true,
            "ticks": "",
            "zerolinecolor": "white"
           }
          },
          "shapedefaults": {
           "line": {
            "color": "#2a3f5f"
           }
          },
          "ternary": {
           "aaxis": {
            "gridcolor": "white",
            "linecolor": "white",
            "ticks": ""
           },
           "baxis": {
            "gridcolor": "white",
            "linecolor": "white",
            "ticks": ""
           },
           "bgcolor": "#E5ECF6",
           "caxis": {
            "gridcolor": "white",
            "linecolor": "white",
            "ticks": ""
           }
          },
          "title": {
           "x": 0.05
          },
          "xaxis": {
           "automargin": true,
           "gridcolor": "white",
           "linecolor": "white",
           "ticks": "",
           "title": {
            "standoff": 15
           },
           "zerolinecolor": "white",
           "zerolinewidth": 2
          },
          "yaxis": {
           "automargin": true,
           "gridcolor": "white",
           "linecolor": "white",
           "ticks": "",
           "title": {
            "standoff": 15
           },
           "zerolinecolor": "white",
           "zerolinewidth": 2
          }
         }
        },
        "title": {
         "text": "Mean total score by industry"
        }
       }
      }
     },
     "metadata": {},
     "output_type": "display_data"
    }
   ],
   "source": [
    "import plotly.graph_objects as go \n",
    "fig = go.Figure(go.Bar(x=data_mean.index,y=data_mean.values),go.Layout(title_text='Mean total score by industry'))\n",
    "fig.show()\n"
   ]
  },
  {
   "cell_type": "code",
   "execution_count": 141,
   "metadata": {},
   "outputs": [],
   "source": [
    "def industry_env_mean(data: pd.DataFrame):\n",
    "    result=data.groupby('industry')['environment_score'].mean()\n",
    "    return result.sort_values(ascending=True)\n",
    "\n",
    "data_env_mean=industry_env_mean(df)"
   ]
  },
  {
   "cell_type": "code",
   "execution_count": 142,
   "metadata": {},
   "outputs": [
    {
     "data": {
      "application/vnd.plotly.v1+json": {
       "config": {
        "plotlyServerURL": "https://plot.ly"
       },
       "data": [
        {
         "type": "bar",
         "x": [
          "Leisure Products",
          "Diversified Consumer Services",
          "Marine",
          "Biotechnology",
          "Airlines",
          "Trading Companies and Distributors",
          "Auto Components",
          "Banking",
          "Media",
          "Pharmaceuticals",
          "Telecommunication",
          "Hotels Restaurants and Leisure",
          "FiOthercial Services",
          "Health Care",
          "Retail",
          "Electrical Equipment",
          "Textiles Apparel and Luxury Goods",
          "Consumer products",
          "Communications",
          "Automobiles",
          "Commercial Services and Supplies",
          "Life Sciences Tools and Services",
          "Insurance",
          "Metals and Mining",
          "Real Estate",
          "Professional Services",
          "Technology",
          "Semiconductors",
          "Logistics and Transportation",
          "Road and Rail",
          "Machinery",
          "Aerospace and Defense",
          "Chemicals",
          "Beverages",
          "Building",
          "Construction",
          "Tobacco",
          "Energy",
          "Food Products",
          "Distributors",
          "Industrial Conglomerates",
          "Packaging",
          "Utilities"
         ],
         "y": [
          252.33333333333334,
          286,
          305.3333333333333,
          306.5357142857143,
          326.7142857142857,
          332.8,
          338.3333333333333,
          341.48275862068965,
          346.9130434782609,
          360.04761904761904,
          362.3333333333333,
          365.9166666666667,
          367.6363636363636,
          374.52941176470586,
          380.3076923076923,
          381.7037037037037,
          382.1111111111111,
          384.9,
          385,
          393,
          419.42857142857144,
          421.375,
          425.25925925925924,
          427.3,
          431.3888888888889,
          435,
          438.1111111111111,
          448.4583333333333,
          452.3333333333333,
          452.8333333333333,
          459.57142857142856,
          461.3636363636364,
          463.7368421052632,
          473.25,
          476.7,
          495.3333333333333,
          510,
          515.0952380952381,
          516.5714285714286,
          525,
          534.6666666666666,
          536.25,
          550.9666666666667
         ]
        }
       ],
       "layout": {
        "template": {
         "data": {
          "bar": [
           {
            "error_x": {
             "color": "#2a3f5f"
            },
            "error_y": {
             "color": "#2a3f5f"
            },
            "marker": {
             "line": {
              "color": "#E5ECF6",
              "width": 0.5
             },
             "pattern": {
              "fillmode": "overlay",
              "size": 10,
              "solidity": 0.2
             }
            },
            "type": "bar"
           }
          ],
          "barpolar": [
           {
            "marker": {
             "line": {
              "color": "#E5ECF6",
              "width": 0.5
             },
             "pattern": {
              "fillmode": "overlay",
              "size": 10,
              "solidity": 0.2
             }
            },
            "type": "barpolar"
           }
          ],
          "carpet": [
           {
            "aaxis": {
             "endlinecolor": "#2a3f5f",
             "gridcolor": "white",
             "linecolor": "white",
             "minorgridcolor": "white",
             "startlinecolor": "#2a3f5f"
            },
            "baxis": {
             "endlinecolor": "#2a3f5f",
             "gridcolor": "white",
             "linecolor": "white",
             "minorgridcolor": "white",
             "startlinecolor": "#2a3f5f"
            },
            "type": "carpet"
           }
          ],
          "choropleth": [
           {
            "colorbar": {
             "outlinewidth": 0,
             "ticks": ""
            },
            "type": "choropleth"
           }
          ],
          "contour": [
           {
            "colorbar": {
             "outlinewidth": 0,
             "ticks": ""
            },
            "colorscale": [
             [
              0,
              "#0d0887"
             ],
             [
              0.1111111111111111,
              "#46039f"
             ],
             [
              0.2222222222222222,
              "#7201a8"
             ],
             [
              0.3333333333333333,
              "#9c179e"
             ],
             [
              0.4444444444444444,
              "#bd3786"
             ],
             [
              0.5555555555555556,
              "#d8576b"
             ],
             [
              0.6666666666666666,
              "#ed7953"
             ],
             [
              0.7777777777777778,
              "#fb9f3a"
             ],
             [
              0.8888888888888888,
              "#fdca26"
             ],
             [
              1,
              "#f0f921"
             ]
            ],
            "type": "contour"
           }
          ],
          "contourcarpet": [
           {
            "colorbar": {
             "outlinewidth": 0,
             "ticks": ""
            },
            "type": "contourcarpet"
           }
          ],
          "heatmap": [
           {
            "colorbar": {
             "outlinewidth": 0,
             "ticks": ""
            },
            "colorscale": [
             [
              0,
              "#0d0887"
             ],
             [
              0.1111111111111111,
              "#46039f"
             ],
             [
              0.2222222222222222,
              "#7201a8"
             ],
             [
              0.3333333333333333,
              "#9c179e"
             ],
             [
              0.4444444444444444,
              "#bd3786"
             ],
             [
              0.5555555555555556,
              "#d8576b"
             ],
             [
              0.6666666666666666,
              "#ed7953"
             ],
             [
              0.7777777777777778,
              "#fb9f3a"
             ],
             [
              0.8888888888888888,
              "#fdca26"
             ],
             [
              1,
              "#f0f921"
             ]
            ],
            "type": "heatmap"
           }
          ],
          "heatmapgl": [
           {
            "colorbar": {
             "outlinewidth": 0,
             "ticks": ""
            },
            "colorscale": [
             [
              0,
              "#0d0887"
             ],
             [
              0.1111111111111111,
              "#46039f"
             ],
             [
              0.2222222222222222,
              "#7201a8"
             ],
             [
              0.3333333333333333,
              "#9c179e"
             ],
             [
              0.4444444444444444,
              "#bd3786"
             ],
             [
              0.5555555555555556,
              "#d8576b"
             ],
             [
              0.6666666666666666,
              "#ed7953"
             ],
             [
              0.7777777777777778,
              "#fb9f3a"
             ],
             [
              0.8888888888888888,
              "#fdca26"
             ],
             [
              1,
              "#f0f921"
             ]
            ],
            "type": "heatmapgl"
           }
          ],
          "histogram": [
           {
            "marker": {
             "pattern": {
              "fillmode": "overlay",
              "size": 10,
              "solidity": 0.2
             }
            },
            "type": "histogram"
           }
          ],
          "histogram2d": [
           {
            "colorbar": {
             "outlinewidth": 0,
             "ticks": ""
            },
            "colorscale": [
             [
              0,
              "#0d0887"
             ],
             [
              0.1111111111111111,
              "#46039f"
             ],
             [
              0.2222222222222222,
              "#7201a8"
             ],
             [
              0.3333333333333333,
              "#9c179e"
             ],
             [
              0.4444444444444444,
              "#bd3786"
             ],
             [
              0.5555555555555556,
              "#d8576b"
             ],
             [
              0.6666666666666666,
              "#ed7953"
             ],
             [
              0.7777777777777778,
              "#fb9f3a"
             ],
             [
              0.8888888888888888,
              "#fdca26"
             ],
             [
              1,
              "#f0f921"
             ]
            ],
            "type": "histogram2d"
           }
          ],
          "histogram2dcontour": [
           {
            "colorbar": {
             "outlinewidth": 0,
             "ticks": ""
            },
            "colorscale": [
             [
              0,
              "#0d0887"
             ],
             [
              0.1111111111111111,
              "#46039f"
             ],
             [
              0.2222222222222222,
              "#7201a8"
             ],
             [
              0.3333333333333333,
              "#9c179e"
             ],
             [
              0.4444444444444444,
              "#bd3786"
             ],
             [
              0.5555555555555556,
              "#d8576b"
             ],
             [
              0.6666666666666666,
              "#ed7953"
             ],
             [
              0.7777777777777778,
              "#fb9f3a"
             ],
             [
              0.8888888888888888,
              "#fdca26"
             ],
             [
              1,
              "#f0f921"
             ]
            ],
            "type": "histogram2dcontour"
           }
          ],
          "mesh3d": [
           {
            "colorbar": {
             "outlinewidth": 0,
             "ticks": ""
            },
            "type": "mesh3d"
           }
          ],
          "parcoords": [
           {
            "line": {
             "colorbar": {
              "outlinewidth": 0,
              "ticks": ""
             }
            },
            "type": "parcoords"
           }
          ],
          "pie": [
           {
            "automargin": true,
            "type": "pie"
           }
          ],
          "scatter": [
           {
            "fillpattern": {
             "fillmode": "overlay",
             "size": 10,
             "solidity": 0.2
            },
            "type": "scatter"
           }
          ],
          "scatter3d": [
           {
            "line": {
             "colorbar": {
              "outlinewidth": 0,
              "ticks": ""
             }
            },
            "marker": {
             "colorbar": {
              "outlinewidth": 0,
              "ticks": ""
             }
            },
            "type": "scatter3d"
           }
          ],
          "scattercarpet": [
           {
            "marker": {
             "colorbar": {
              "outlinewidth": 0,
              "ticks": ""
             }
            },
            "type": "scattercarpet"
           }
          ],
          "scattergeo": [
           {
            "marker": {
             "colorbar": {
              "outlinewidth": 0,
              "ticks": ""
             }
            },
            "type": "scattergeo"
           }
          ],
          "scattergl": [
           {
            "marker": {
             "colorbar": {
              "outlinewidth": 0,
              "ticks": ""
             }
            },
            "type": "scattergl"
           }
          ],
          "scattermapbox": [
           {
            "marker": {
             "colorbar": {
              "outlinewidth": 0,
              "ticks": ""
             }
            },
            "type": "scattermapbox"
           }
          ],
          "scatterpolar": [
           {
            "marker": {
             "colorbar": {
              "outlinewidth": 0,
              "ticks": ""
             }
            },
            "type": "scatterpolar"
           }
          ],
          "scatterpolargl": [
           {
            "marker": {
             "colorbar": {
              "outlinewidth": 0,
              "ticks": ""
             }
            },
            "type": "scatterpolargl"
           }
          ],
          "scatterternary": [
           {
            "marker": {
             "colorbar": {
              "outlinewidth": 0,
              "ticks": ""
             }
            },
            "type": "scatterternary"
           }
          ],
          "surface": [
           {
            "colorbar": {
             "outlinewidth": 0,
             "ticks": ""
            },
            "colorscale": [
             [
              0,
              "#0d0887"
             ],
             [
              0.1111111111111111,
              "#46039f"
             ],
             [
              0.2222222222222222,
              "#7201a8"
             ],
             [
              0.3333333333333333,
              "#9c179e"
             ],
             [
              0.4444444444444444,
              "#bd3786"
             ],
             [
              0.5555555555555556,
              "#d8576b"
             ],
             [
              0.6666666666666666,
              "#ed7953"
             ],
             [
              0.7777777777777778,
              "#fb9f3a"
             ],
             [
              0.8888888888888888,
              "#fdca26"
             ],
             [
              1,
              "#f0f921"
             ]
            ],
            "type": "surface"
           }
          ],
          "table": [
           {
            "cells": {
             "fill": {
              "color": "#EBF0F8"
             },
             "line": {
              "color": "white"
             }
            },
            "header": {
             "fill": {
              "color": "#C8D4E3"
             },
             "line": {
              "color": "white"
             }
            },
            "type": "table"
           }
          ]
         },
         "layout": {
          "annotationdefaults": {
           "arrowcolor": "#2a3f5f",
           "arrowhead": 0,
           "arrowwidth": 1
          },
          "autotypenumbers": "strict",
          "coloraxis": {
           "colorbar": {
            "outlinewidth": 0,
            "ticks": ""
           }
          },
          "colorscale": {
           "diverging": [
            [
             0,
             "#8e0152"
            ],
            [
             0.1,
             "#c51b7d"
            ],
            [
             0.2,
             "#de77ae"
            ],
            [
             0.3,
             "#f1b6da"
            ],
            [
             0.4,
             "#fde0ef"
            ],
            [
             0.5,
             "#f7f7f7"
            ],
            [
             0.6,
             "#e6f5d0"
            ],
            [
             0.7,
             "#b8e186"
            ],
            [
             0.8,
             "#7fbc41"
            ],
            [
             0.9,
             "#4d9221"
            ],
            [
             1,
             "#276419"
            ]
           ],
           "sequential": [
            [
             0,
             "#0d0887"
            ],
            [
             0.1111111111111111,
             "#46039f"
            ],
            [
             0.2222222222222222,
             "#7201a8"
            ],
            [
             0.3333333333333333,
             "#9c179e"
            ],
            [
             0.4444444444444444,
             "#bd3786"
            ],
            [
             0.5555555555555556,
             "#d8576b"
            ],
            [
             0.6666666666666666,
             "#ed7953"
            ],
            [
             0.7777777777777778,
             "#fb9f3a"
            ],
            [
             0.8888888888888888,
             "#fdca26"
            ],
            [
             1,
             "#f0f921"
            ]
           ],
           "sequentialminus": [
            [
             0,
             "#0d0887"
            ],
            [
             0.1111111111111111,
             "#46039f"
            ],
            [
             0.2222222222222222,
             "#7201a8"
            ],
            [
             0.3333333333333333,
             "#9c179e"
            ],
            [
             0.4444444444444444,
             "#bd3786"
            ],
            [
             0.5555555555555556,
             "#d8576b"
            ],
            [
             0.6666666666666666,
             "#ed7953"
            ],
            [
             0.7777777777777778,
             "#fb9f3a"
            ],
            [
             0.8888888888888888,
             "#fdca26"
            ],
            [
             1,
             "#f0f921"
            ]
           ]
          },
          "colorway": [
           "#636efa",
           "#EF553B",
           "#00cc96",
           "#ab63fa",
           "#FFA15A",
           "#19d3f3",
           "#FF6692",
           "#B6E880",
           "#FF97FF",
           "#FECB52"
          ],
          "font": {
           "color": "#2a3f5f"
          },
          "geo": {
           "bgcolor": "white",
           "lakecolor": "white",
           "landcolor": "#E5ECF6",
           "showlakes": true,
           "showland": true,
           "subunitcolor": "white"
          },
          "hoverlabel": {
           "align": "left"
          },
          "hovermode": "closest",
          "mapbox": {
           "style": "light"
          },
          "paper_bgcolor": "white",
          "plot_bgcolor": "#E5ECF6",
          "polar": {
           "angularaxis": {
            "gridcolor": "white",
            "linecolor": "white",
            "ticks": ""
           },
           "bgcolor": "#E5ECF6",
           "radialaxis": {
            "gridcolor": "white",
            "linecolor": "white",
            "ticks": ""
           }
          },
          "scene": {
           "xaxis": {
            "backgroundcolor": "#E5ECF6",
            "gridcolor": "white",
            "gridwidth": 2,
            "linecolor": "white",
            "showbackground": true,
            "ticks": "",
            "zerolinecolor": "white"
           },
           "yaxis": {
            "backgroundcolor": "#E5ECF6",
            "gridcolor": "white",
            "gridwidth": 2,
            "linecolor": "white",
            "showbackground": true,
            "ticks": "",
            "zerolinecolor": "white"
           },
           "zaxis": {
            "backgroundcolor": "#E5ECF6",
            "gridcolor": "white",
            "gridwidth": 2,
            "linecolor": "white",
            "showbackground": true,
            "ticks": "",
            "zerolinecolor": "white"
           }
          },
          "shapedefaults": {
           "line": {
            "color": "#2a3f5f"
           }
          },
          "ternary": {
           "aaxis": {
            "gridcolor": "white",
            "linecolor": "white",
            "ticks": ""
           },
           "baxis": {
            "gridcolor": "white",
            "linecolor": "white",
            "ticks": ""
           },
           "bgcolor": "#E5ECF6",
           "caxis": {
            "gridcolor": "white",
            "linecolor": "white",
            "ticks": ""
           }
          },
          "title": {
           "x": 0.05
          },
          "xaxis": {
           "automargin": true,
           "gridcolor": "white",
           "linecolor": "white",
           "ticks": "",
           "title": {
            "standoff": 15
           },
           "zerolinecolor": "white",
           "zerolinewidth": 2
          },
          "yaxis": {
           "automargin": true,
           "gridcolor": "white",
           "linecolor": "white",
           "ticks": "",
           "title": {
            "standoff": 15
           },
           "zerolinecolor": "white",
           "zerolinewidth": 2
          }
         }
        },
        "title": {
         "text": "Mean environment score by industry"
        }
       }
      }
     },
     "metadata": {},
     "output_type": "display_data"
    }
   ],
   "source": [
    "import plotly.graph_objects as go \n",
    "fig = go.Figure(go.Bar(x=data_env_mean.index,y=data_env_mean.values),go.Layout(title_text='Mean environment score by industry'))\n",
    "fig.show()"
   ]
  },
  {
   "cell_type": "code",
   "execution_count": 143,
   "metadata": {},
   "outputs": [],
   "source": [
    "def industry_soc_mean(data: pd.DataFrame):\n",
    "    result=data.groupby('industry')['social_score'].mean()\n",
    "    return result.sort_values(ascending=True)\n",
    "\n",
    "data_soc_mean=industry_soc_mean(df)"
   ]
  },
  {
   "cell_type": "code",
   "execution_count": 144,
   "metadata": {},
   "outputs": [
    {
     "data": {
      "application/vnd.plotly.v1+json": {
       "config": {
        "plotlyServerURL": "https://plot.ly"
       },
       "data": [
        {
         "type": "bar",
         "x": [
          "Automobiles",
          "Diversified Consumer Services",
          "Auto Components",
          "Leisure Products",
          "Airlines",
          "Biotechnology",
          "Pharmaceuticals",
          "Electrical Equipment",
          "Retail",
          "FiOthercial Services",
          "Distributors",
          "Communications",
          "Textiles Apparel and Luxury Goods",
          "Hotels Restaurants and Leisure",
          "Marine",
          "Consumer products",
          "Telecommunication",
          "Health Care",
          "Metals and Mining",
          "Logistics and Transportation",
          "Real Estate",
          "Banking",
          "Life Sciences Tools and Services",
          "Insurance",
          "Aerospace and Defense",
          "Semiconductors",
          "Beverages",
          "Commercial Services and Supplies",
          "Trading Companies and Distributors",
          "Chemicals",
          "Building",
          "Construction",
          "Technology",
          "Energy",
          "Food Products",
          "Professional Services",
          "Media",
          "Machinery",
          "Industrial Conglomerates",
          "Packaging",
          "Road and Rail",
          "Tobacco",
          "Utilities"
         ],
         "y": [
          229.25,
          233.33333333333334,
          248.33333333333334,
          259.3333333333333,
          265.7142857142857,
          268.85714285714283,
          269.6666666666667,
          272.1111111111111,
          274.96153846153845,
          276.45454545454544,
          277,
          278.77777777777777,
          280,
          280.1666666666667,
          285,
          285.7,
          286,
          287.4313725490196,
          289.2,
          289.5,
          290.9166666666667,
          292.3448275862069,
          294.5,
          295.6666666666667,
          296.3636363636364,
          296.7083333333333,
          299.5,
          301.2857142857143,
          302.4,
          304.36842105263156,
          305.1,
          306.1666666666667,
          307.9047619047619,
          308.95238095238096,
          311.2857142857143,
          312.42857142857144,
          313,
          313.6666666666667,
          318,
          323,
          326.3333333333333,
          327,
          357.4
         ]
        }
       ],
       "layout": {
        "template": {
         "data": {
          "bar": [
           {
            "error_x": {
             "color": "#2a3f5f"
            },
            "error_y": {
             "color": "#2a3f5f"
            },
            "marker": {
             "line": {
              "color": "#E5ECF6",
              "width": 0.5
             },
             "pattern": {
              "fillmode": "overlay",
              "size": 10,
              "solidity": 0.2
             }
            },
            "type": "bar"
           }
          ],
          "barpolar": [
           {
            "marker": {
             "line": {
              "color": "#E5ECF6",
              "width": 0.5
             },
             "pattern": {
              "fillmode": "overlay",
              "size": 10,
              "solidity": 0.2
             }
            },
            "type": "barpolar"
           }
          ],
          "carpet": [
           {
            "aaxis": {
             "endlinecolor": "#2a3f5f",
             "gridcolor": "white",
             "linecolor": "white",
             "minorgridcolor": "white",
             "startlinecolor": "#2a3f5f"
            },
            "baxis": {
             "endlinecolor": "#2a3f5f",
             "gridcolor": "white",
             "linecolor": "white",
             "minorgridcolor": "white",
             "startlinecolor": "#2a3f5f"
            },
            "type": "carpet"
           }
          ],
          "choropleth": [
           {
            "colorbar": {
             "outlinewidth": 0,
             "ticks": ""
            },
            "type": "choropleth"
           }
          ],
          "contour": [
           {
            "colorbar": {
             "outlinewidth": 0,
             "ticks": ""
            },
            "colorscale": [
             [
              0,
              "#0d0887"
             ],
             [
              0.1111111111111111,
              "#46039f"
             ],
             [
              0.2222222222222222,
              "#7201a8"
             ],
             [
              0.3333333333333333,
              "#9c179e"
             ],
             [
              0.4444444444444444,
              "#bd3786"
             ],
             [
              0.5555555555555556,
              "#d8576b"
             ],
             [
              0.6666666666666666,
              "#ed7953"
             ],
             [
              0.7777777777777778,
              "#fb9f3a"
             ],
             [
              0.8888888888888888,
              "#fdca26"
             ],
             [
              1,
              "#f0f921"
             ]
            ],
            "type": "contour"
           }
          ],
          "contourcarpet": [
           {
            "colorbar": {
             "outlinewidth": 0,
             "ticks": ""
            },
            "type": "contourcarpet"
           }
          ],
          "heatmap": [
           {
            "colorbar": {
             "outlinewidth": 0,
             "ticks": ""
            },
            "colorscale": [
             [
              0,
              "#0d0887"
             ],
             [
              0.1111111111111111,
              "#46039f"
             ],
             [
              0.2222222222222222,
              "#7201a8"
             ],
             [
              0.3333333333333333,
              "#9c179e"
             ],
             [
              0.4444444444444444,
              "#bd3786"
             ],
             [
              0.5555555555555556,
              "#d8576b"
             ],
             [
              0.6666666666666666,
              "#ed7953"
             ],
             [
              0.7777777777777778,
              "#fb9f3a"
             ],
             [
              0.8888888888888888,
              "#fdca26"
             ],
             [
              1,
              "#f0f921"
             ]
            ],
            "type": "heatmap"
           }
          ],
          "heatmapgl": [
           {
            "colorbar": {
             "outlinewidth": 0,
             "ticks": ""
            },
            "colorscale": [
             [
              0,
              "#0d0887"
             ],
             [
              0.1111111111111111,
              "#46039f"
             ],
             [
              0.2222222222222222,
              "#7201a8"
             ],
             [
              0.3333333333333333,
              "#9c179e"
             ],
             [
              0.4444444444444444,
              "#bd3786"
             ],
             [
              0.5555555555555556,
              "#d8576b"
             ],
             [
              0.6666666666666666,
              "#ed7953"
             ],
             [
              0.7777777777777778,
              "#fb9f3a"
             ],
             [
              0.8888888888888888,
              "#fdca26"
             ],
             [
              1,
              "#f0f921"
             ]
            ],
            "type": "heatmapgl"
           }
          ],
          "histogram": [
           {
            "marker": {
             "pattern": {
              "fillmode": "overlay",
              "size": 10,
              "solidity": 0.2
             }
            },
            "type": "histogram"
           }
          ],
          "histogram2d": [
           {
            "colorbar": {
             "outlinewidth": 0,
             "ticks": ""
            },
            "colorscale": [
             [
              0,
              "#0d0887"
             ],
             [
              0.1111111111111111,
              "#46039f"
             ],
             [
              0.2222222222222222,
              "#7201a8"
             ],
             [
              0.3333333333333333,
              "#9c179e"
             ],
             [
              0.4444444444444444,
              "#bd3786"
             ],
             [
              0.5555555555555556,
              "#d8576b"
             ],
             [
              0.6666666666666666,
              "#ed7953"
             ],
             [
              0.7777777777777778,
              "#fb9f3a"
             ],
             [
              0.8888888888888888,
              "#fdca26"
             ],
             [
              1,
              "#f0f921"
             ]
            ],
            "type": "histogram2d"
           }
          ],
          "histogram2dcontour": [
           {
            "colorbar": {
             "outlinewidth": 0,
             "ticks": ""
            },
            "colorscale": [
             [
              0,
              "#0d0887"
             ],
             [
              0.1111111111111111,
              "#46039f"
             ],
             [
              0.2222222222222222,
              "#7201a8"
             ],
             [
              0.3333333333333333,
              "#9c179e"
             ],
             [
              0.4444444444444444,
              "#bd3786"
             ],
             [
              0.5555555555555556,
              "#d8576b"
             ],
             [
              0.6666666666666666,
              "#ed7953"
             ],
             [
              0.7777777777777778,
              "#fb9f3a"
             ],
             [
              0.8888888888888888,
              "#fdca26"
             ],
             [
              1,
              "#f0f921"
             ]
            ],
            "type": "histogram2dcontour"
           }
          ],
          "mesh3d": [
           {
            "colorbar": {
             "outlinewidth": 0,
             "ticks": ""
            },
            "type": "mesh3d"
           }
          ],
          "parcoords": [
           {
            "line": {
             "colorbar": {
              "outlinewidth": 0,
              "ticks": ""
             }
            },
            "type": "parcoords"
           }
          ],
          "pie": [
           {
            "automargin": true,
            "type": "pie"
           }
          ],
          "scatter": [
           {
            "fillpattern": {
             "fillmode": "overlay",
             "size": 10,
             "solidity": 0.2
            },
            "type": "scatter"
           }
          ],
          "scatter3d": [
           {
            "line": {
             "colorbar": {
              "outlinewidth": 0,
              "ticks": ""
             }
            },
            "marker": {
             "colorbar": {
              "outlinewidth": 0,
              "ticks": ""
             }
            },
            "type": "scatter3d"
           }
          ],
          "scattercarpet": [
           {
            "marker": {
             "colorbar": {
              "outlinewidth": 0,
              "ticks": ""
             }
            },
            "type": "scattercarpet"
           }
          ],
          "scattergeo": [
           {
            "marker": {
             "colorbar": {
              "outlinewidth": 0,
              "ticks": ""
             }
            },
            "type": "scattergeo"
           }
          ],
          "scattergl": [
           {
            "marker": {
             "colorbar": {
              "outlinewidth": 0,
              "ticks": ""
             }
            },
            "type": "scattergl"
           }
          ],
          "scattermapbox": [
           {
            "marker": {
             "colorbar": {
              "outlinewidth": 0,
              "ticks": ""
             }
            },
            "type": "scattermapbox"
           }
          ],
          "scatterpolar": [
           {
            "marker": {
             "colorbar": {
              "outlinewidth": 0,
              "ticks": ""
             }
            },
            "type": "scatterpolar"
           }
          ],
          "scatterpolargl": [
           {
            "marker": {
             "colorbar": {
              "outlinewidth": 0,
              "ticks": ""
             }
            },
            "type": "scatterpolargl"
           }
          ],
          "scatterternary": [
           {
            "marker": {
             "colorbar": {
              "outlinewidth": 0,
              "ticks": ""
             }
            },
            "type": "scatterternary"
           }
          ],
          "surface": [
           {
            "colorbar": {
             "outlinewidth": 0,
             "ticks": ""
            },
            "colorscale": [
             [
              0,
              "#0d0887"
             ],
             [
              0.1111111111111111,
              "#46039f"
             ],
             [
              0.2222222222222222,
              "#7201a8"
             ],
             [
              0.3333333333333333,
              "#9c179e"
             ],
             [
              0.4444444444444444,
              "#bd3786"
             ],
             [
              0.5555555555555556,
              "#d8576b"
             ],
             [
              0.6666666666666666,
              "#ed7953"
             ],
             [
              0.7777777777777778,
              "#fb9f3a"
             ],
             [
              0.8888888888888888,
              "#fdca26"
             ],
             [
              1,
              "#f0f921"
             ]
            ],
            "type": "surface"
           }
          ],
          "table": [
           {
            "cells": {
             "fill": {
              "color": "#EBF0F8"
             },
             "line": {
              "color": "white"
             }
            },
            "header": {
             "fill": {
              "color": "#C8D4E3"
             },
             "line": {
              "color": "white"
             }
            },
            "type": "table"
           }
          ]
         },
         "layout": {
          "annotationdefaults": {
           "arrowcolor": "#2a3f5f",
           "arrowhead": 0,
           "arrowwidth": 1
          },
          "autotypenumbers": "strict",
          "coloraxis": {
           "colorbar": {
            "outlinewidth": 0,
            "ticks": ""
           }
          },
          "colorscale": {
           "diverging": [
            [
             0,
             "#8e0152"
            ],
            [
             0.1,
             "#c51b7d"
            ],
            [
             0.2,
             "#de77ae"
            ],
            [
             0.3,
             "#f1b6da"
            ],
            [
             0.4,
             "#fde0ef"
            ],
            [
             0.5,
             "#f7f7f7"
            ],
            [
             0.6,
             "#e6f5d0"
            ],
            [
             0.7,
             "#b8e186"
            ],
            [
             0.8,
             "#7fbc41"
            ],
            [
             0.9,
             "#4d9221"
            ],
            [
             1,
             "#276419"
            ]
           ],
           "sequential": [
            [
             0,
             "#0d0887"
            ],
            [
             0.1111111111111111,
             "#46039f"
            ],
            [
             0.2222222222222222,
             "#7201a8"
            ],
            [
             0.3333333333333333,
             "#9c179e"
            ],
            [
             0.4444444444444444,
             "#bd3786"
            ],
            [
             0.5555555555555556,
             "#d8576b"
            ],
            [
             0.6666666666666666,
             "#ed7953"
            ],
            [
             0.7777777777777778,
             "#fb9f3a"
            ],
            [
             0.8888888888888888,
             "#fdca26"
            ],
            [
             1,
             "#f0f921"
            ]
           ],
           "sequentialminus": [
            [
             0,
             "#0d0887"
            ],
            [
             0.1111111111111111,
             "#46039f"
            ],
            [
             0.2222222222222222,
             "#7201a8"
            ],
            [
             0.3333333333333333,
             "#9c179e"
            ],
            [
             0.4444444444444444,
             "#bd3786"
            ],
            [
             0.5555555555555556,
             "#d8576b"
            ],
            [
             0.6666666666666666,
             "#ed7953"
            ],
            [
             0.7777777777777778,
             "#fb9f3a"
            ],
            [
             0.8888888888888888,
             "#fdca26"
            ],
            [
             1,
             "#f0f921"
            ]
           ]
          },
          "colorway": [
           "#636efa",
           "#EF553B",
           "#00cc96",
           "#ab63fa",
           "#FFA15A",
           "#19d3f3",
           "#FF6692",
           "#B6E880",
           "#FF97FF",
           "#FECB52"
          ],
          "font": {
           "color": "#2a3f5f"
          },
          "geo": {
           "bgcolor": "white",
           "lakecolor": "white",
           "landcolor": "#E5ECF6",
           "showlakes": true,
           "showland": true,
           "subunitcolor": "white"
          },
          "hoverlabel": {
           "align": "left"
          },
          "hovermode": "closest",
          "mapbox": {
           "style": "light"
          },
          "paper_bgcolor": "white",
          "plot_bgcolor": "#E5ECF6",
          "polar": {
           "angularaxis": {
            "gridcolor": "white",
            "linecolor": "white",
            "ticks": ""
           },
           "bgcolor": "#E5ECF6",
           "radialaxis": {
            "gridcolor": "white",
            "linecolor": "white",
            "ticks": ""
           }
          },
          "scene": {
           "xaxis": {
            "backgroundcolor": "#E5ECF6",
            "gridcolor": "white",
            "gridwidth": 2,
            "linecolor": "white",
            "showbackground": true,
            "ticks": "",
            "zerolinecolor": "white"
           },
           "yaxis": {
            "backgroundcolor": "#E5ECF6",
            "gridcolor": "white",
            "gridwidth": 2,
            "linecolor": "white",
            "showbackground": true,
            "ticks": "",
            "zerolinecolor": "white"
           },
           "zaxis": {
            "backgroundcolor": "#E5ECF6",
            "gridcolor": "white",
            "gridwidth": 2,
            "linecolor": "white",
            "showbackground": true,
            "ticks": "",
            "zerolinecolor": "white"
           }
          },
          "shapedefaults": {
           "line": {
            "color": "#2a3f5f"
           }
          },
          "ternary": {
           "aaxis": {
            "gridcolor": "white",
            "linecolor": "white",
            "ticks": ""
           },
           "baxis": {
            "gridcolor": "white",
            "linecolor": "white",
            "ticks": ""
           },
           "bgcolor": "#E5ECF6",
           "caxis": {
            "gridcolor": "white",
            "linecolor": "white",
            "ticks": ""
           }
          },
          "title": {
           "x": 0.05
          },
          "xaxis": {
           "automargin": true,
           "gridcolor": "white",
           "linecolor": "white",
           "ticks": "",
           "title": {
            "standoff": 15
           },
           "zerolinecolor": "white",
           "zerolinewidth": 2
          },
          "yaxis": {
           "automargin": true,
           "gridcolor": "white",
           "linecolor": "white",
           "ticks": "",
           "title": {
            "standoff": 15
           },
           "zerolinecolor": "white",
           "zerolinewidth": 2
          }
         }
        },
        "title": {
         "text": "Mean social score by industry"
        }
       }
      }
     },
     "metadata": {},
     "output_type": "display_data"
    }
   ],
   "source": [
    "import plotly.graph_objects as go \n",
    "fig = go.Figure(go.Bar(x=data_soc_mean.index,y=data_soc_mean.values),go.Layout(title_text='Mean social score by industry'))\n",
    "fig.show()"
   ]
  },
  {
   "cell_type": "code",
   "execution_count": 145,
   "metadata": {},
   "outputs": [],
   "source": [
    "def industry_gov_mean(data: pd.DataFrame):\n",
    "    result=data.groupby('industry')['governance_score'].mean()\n",
    "    return result.sort_values(ascending=True)\n",
    "\n",
    "data_gov_mean=industry_gov_mean(df)"
   ]
  },
  {
   "cell_type": "code",
   "execution_count": 146,
   "metadata": {},
   "outputs": [
    {
     "data": {
      "application/vnd.plotly.v1+json": {
       "config": {
        "plotlyServerURL": "https://plot.ly"
       },
       "data": [
        {
         "type": "bar",
         "x": [
          "Diversified Consumer Services",
          "Automobiles",
          "Airlines",
          "Auto Components",
          "Trading Companies and Distributors",
          "Hotels Restaurants and Leisure",
          "Retail",
          "Banking",
          "FiOthercial Services",
          "Leisure Products",
          "Metals and Mining",
          "Real Estate",
          "Pharmaceuticals",
          "Communications",
          "Machinery",
          "Consumer products",
          "Marine",
          "Commercial Services and Supplies",
          "Media",
          "Health Care",
          "Life Sciences Tools and Services",
          "Electrical Equipment",
          "Telecommunication",
          "Construction",
          "Utilities",
          "Textiles Apparel and Luxury Goods",
          "Logistics and Transportation",
          "Technology",
          "Semiconductors",
          "Beverages",
          "Aerospace and Defense",
          "Chemicals",
          "Insurance",
          "Biotechnology",
          "Building",
          "Energy",
          "Packaging",
          "Road and Rail",
          "Professional Services",
          "Food Products",
          "Industrial Conglomerates",
          "Distributors",
          "Tobacco"
         ],
         "y": [
          220,
          237,
          246.28571428571428,
          246.66666666666666,
          250,
          258.375,
          263.3076923076923,
          264.48275862068965,
          265.24242424242425,
          268.3333333333333,
          270.5,
          273.6388888888889,
          273.95238095238096,
          274.44444444444446,
          274.8095238095238,
          274.95,
          275,
          275.14285714285717,
          275.3478260869565,
          276.80392156862746,
          277.25,
          279.18518518518516,
          280,
          281.1666666666667,
          282.26666666666665,
          282.3333333333333,
          283.3333333333333,
          285.3015873015873,
          285.4166666666667,
          288.25,
          290.45454545454544,
          290.7894736842105,
          291.44444444444446,
          291.51785714285717,
          292.4,
          293.7142857142857,
          296.75,
          297.1666666666667,
          300.42857142857144,
          303.2142857142857,
          304.3333333333333,
          307.6666666666667,
          328
         ]
        }
       ],
       "layout": {
        "template": {
         "data": {
          "bar": [
           {
            "error_x": {
             "color": "#2a3f5f"
            },
            "error_y": {
             "color": "#2a3f5f"
            },
            "marker": {
             "line": {
              "color": "#E5ECF6",
              "width": 0.5
             },
             "pattern": {
              "fillmode": "overlay",
              "size": 10,
              "solidity": 0.2
             }
            },
            "type": "bar"
           }
          ],
          "barpolar": [
           {
            "marker": {
             "line": {
              "color": "#E5ECF6",
              "width": 0.5
             },
             "pattern": {
              "fillmode": "overlay",
              "size": 10,
              "solidity": 0.2
             }
            },
            "type": "barpolar"
           }
          ],
          "carpet": [
           {
            "aaxis": {
             "endlinecolor": "#2a3f5f",
             "gridcolor": "white",
             "linecolor": "white",
             "minorgridcolor": "white",
             "startlinecolor": "#2a3f5f"
            },
            "baxis": {
             "endlinecolor": "#2a3f5f",
             "gridcolor": "white",
             "linecolor": "white",
             "minorgridcolor": "white",
             "startlinecolor": "#2a3f5f"
            },
            "type": "carpet"
           }
          ],
          "choropleth": [
           {
            "colorbar": {
             "outlinewidth": 0,
             "ticks": ""
            },
            "type": "choropleth"
           }
          ],
          "contour": [
           {
            "colorbar": {
             "outlinewidth": 0,
             "ticks": ""
            },
            "colorscale": [
             [
              0,
              "#0d0887"
             ],
             [
              0.1111111111111111,
              "#46039f"
             ],
             [
              0.2222222222222222,
              "#7201a8"
             ],
             [
              0.3333333333333333,
              "#9c179e"
             ],
             [
              0.4444444444444444,
              "#bd3786"
             ],
             [
              0.5555555555555556,
              "#d8576b"
             ],
             [
              0.6666666666666666,
              "#ed7953"
             ],
             [
              0.7777777777777778,
              "#fb9f3a"
             ],
             [
              0.8888888888888888,
              "#fdca26"
             ],
             [
              1,
              "#f0f921"
             ]
            ],
            "type": "contour"
           }
          ],
          "contourcarpet": [
           {
            "colorbar": {
             "outlinewidth": 0,
             "ticks": ""
            },
            "type": "contourcarpet"
           }
          ],
          "heatmap": [
           {
            "colorbar": {
             "outlinewidth": 0,
             "ticks": ""
            },
            "colorscale": [
             [
              0,
              "#0d0887"
             ],
             [
              0.1111111111111111,
              "#46039f"
             ],
             [
              0.2222222222222222,
              "#7201a8"
             ],
             [
              0.3333333333333333,
              "#9c179e"
             ],
             [
              0.4444444444444444,
              "#bd3786"
             ],
             [
              0.5555555555555556,
              "#d8576b"
             ],
             [
              0.6666666666666666,
              "#ed7953"
             ],
             [
              0.7777777777777778,
              "#fb9f3a"
             ],
             [
              0.8888888888888888,
              "#fdca26"
             ],
             [
              1,
              "#f0f921"
             ]
            ],
            "type": "heatmap"
           }
          ],
          "heatmapgl": [
           {
            "colorbar": {
             "outlinewidth": 0,
             "ticks": ""
            },
            "colorscale": [
             [
              0,
              "#0d0887"
             ],
             [
              0.1111111111111111,
              "#46039f"
             ],
             [
              0.2222222222222222,
              "#7201a8"
             ],
             [
              0.3333333333333333,
              "#9c179e"
             ],
             [
              0.4444444444444444,
              "#bd3786"
             ],
             [
              0.5555555555555556,
              "#d8576b"
             ],
             [
              0.6666666666666666,
              "#ed7953"
             ],
             [
              0.7777777777777778,
              "#fb9f3a"
             ],
             [
              0.8888888888888888,
              "#fdca26"
             ],
             [
              1,
              "#f0f921"
             ]
            ],
            "type": "heatmapgl"
           }
          ],
          "histogram": [
           {
            "marker": {
             "pattern": {
              "fillmode": "overlay",
              "size": 10,
              "solidity": 0.2
             }
            },
            "type": "histogram"
           }
          ],
          "histogram2d": [
           {
            "colorbar": {
             "outlinewidth": 0,
             "ticks": ""
            },
            "colorscale": [
             [
              0,
              "#0d0887"
             ],
             [
              0.1111111111111111,
              "#46039f"
             ],
             [
              0.2222222222222222,
              "#7201a8"
             ],
             [
              0.3333333333333333,
              "#9c179e"
             ],
             [
              0.4444444444444444,
              "#bd3786"
             ],
             [
              0.5555555555555556,
              "#d8576b"
             ],
             [
              0.6666666666666666,
              "#ed7953"
             ],
             [
              0.7777777777777778,
              "#fb9f3a"
             ],
             [
              0.8888888888888888,
              "#fdca26"
             ],
             [
              1,
              "#f0f921"
             ]
            ],
            "type": "histogram2d"
           }
          ],
          "histogram2dcontour": [
           {
            "colorbar": {
             "outlinewidth": 0,
             "ticks": ""
            },
            "colorscale": [
             [
              0,
              "#0d0887"
             ],
             [
              0.1111111111111111,
              "#46039f"
             ],
             [
              0.2222222222222222,
              "#7201a8"
             ],
             [
              0.3333333333333333,
              "#9c179e"
             ],
             [
              0.4444444444444444,
              "#bd3786"
             ],
             [
              0.5555555555555556,
              "#d8576b"
             ],
             [
              0.6666666666666666,
              "#ed7953"
             ],
             [
              0.7777777777777778,
              "#fb9f3a"
             ],
             [
              0.8888888888888888,
              "#fdca26"
             ],
             [
              1,
              "#f0f921"
             ]
            ],
            "type": "histogram2dcontour"
           }
          ],
          "mesh3d": [
           {
            "colorbar": {
             "outlinewidth": 0,
             "ticks": ""
            },
            "type": "mesh3d"
           }
          ],
          "parcoords": [
           {
            "line": {
             "colorbar": {
              "outlinewidth": 0,
              "ticks": ""
             }
            },
            "type": "parcoords"
           }
          ],
          "pie": [
           {
            "automargin": true,
            "type": "pie"
           }
          ],
          "scatter": [
           {
            "fillpattern": {
             "fillmode": "overlay",
             "size": 10,
             "solidity": 0.2
            },
            "type": "scatter"
           }
          ],
          "scatter3d": [
           {
            "line": {
             "colorbar": {
              "outlinewidth": 0,
              "ticks": ""
             }
            },
            "marker": {
             "colorbar": {
              "outlinewidth": 0,
              "ticks": ""
             }
            },
            "type": "scatter3d"
           }
          ],
          "scattercarpet": [
           {
            "marker": {
             "colorbar": {
              "outlinewidth": 0,
              "ticks": ""
             }
            },
            "type": "scattercarpet"
           }
          ],
          "scattergeo": [
           {
            "marker": {
             "colorbar": {
              "outlinewidth": 0,
              "ticks": ""
             }
            },
            "type": "scattergeo"
           }
          ],
          "scattergl": [
           {
            "marker": {
             "colorbar": {
              "outlinewidth": 0,
              "ticks": ""
             }
            },
            "type": "scattergl"
           }
          ],
          "scattermapbox": [
           {
            "marker": {
             "colorbar": {
              "outlinewidth": 0,
              "ticks": ""
             }
            },
            "type": "scattermapbox"
           }
          ],
          "scatterpolar": [
           {
            "marker": {
             "colorbar": {
              "outlinewidth": 0,
              "ticks": ""
             }
            },
            "type": "scatterpolar"
           }
          ],
          "scatterpolargl": [
           {
            "marker": {
             "colorbar": {
              "outlinewidth": 0,
              "ticks": ""
             }
            },
            "type": "scatterpolargl"
           }
          ],
          "scatterternary": [
           {
            "marker": {
             "colorbar": {
              "outlinewidth": 0,
              "ticks": ""
             }
            },
            "type": "scatterternary"
           }
          ],
          "surface": [
           {
            "colorbar": {
             "outlinewidth": 0,
             "ticks": ""
            },
            "colorscale": [
             [
              0,
              "#0d0887"
             ],
             [
              0.1111111111111111,
              "#46039f"
             ],
             [
              0.2222222222222222,
              "#7201a8"
             ],
             [
              0.3333333333333333,
              "#9c179e"
             ],
             [
              0.4444444444444444,
              "#bd3786"
             ],
             [
              0.5555555555555556,
              "#d8576b"
             ],
             [
              0.6666666666666666,
              "#ed7953"
             ],
             [
              0.7777777777777778,
              "#fb9f3a"
             ],
             [
              0.8888888888888888,
              "#fdca26"
             ],
             [
              1,
              "#f0f921"
             ]
            ],
            "type": "surface"
           }
          ],
          "table": [
           {
            "cells": {
             "fill": {
              "color": "#EBF0F8"
             },
             "line": {
              "color": "white"
             }
            },
            "header": {
             "fill": {
              "color": "#C8D4E3"
             },
             "line": {
              "color": "white"
             }
            },
            "type": "table"
           }
          ]
         },
         "layout": {
          "annotationdefaults": {
           "arrowcolor": "#2a3f5f",
           "arrowhead": 0,
           "arrowwidth": 1
          },
          "autotypenumbers": "strict",
          "coloraxis": {
           "colorbar": {
            "outlinewidth": 0,
            "ticks": ""
           }
          },
          "colorscale": {
           "diverging": [
            [
             0,
             "#8e0152"
            ],
            [
             0.1,
             "#c51b7d"
            ],
            [
             0.2,
             "#de77ae"
            ],
            [
             0.3,
             "#f1b6da"
            ],
            [
             0.4,
             "#fde0ef"
            ],
            [
             0.5,
             "#f7f7f7"
            ],
            [
             0.6,
             "#e6f5d0"
            ],
            [
             0.7,
             "#b8e186"
            ],
            [
             0.8,
             "#7fbc41"
            ],
            [
             0.9,
             "#4d9221"
            ],
            [
             1,
             "#276419"
            ]
           ],
           "sequential": [
            [
             0,
             "#0d0887"
            ],
            [
             0.1111111111111111,
             "#46039f"
            ],
            [
             0.2222222222222222,
             "#7201a8"
            ],
            [
             0.3333333333333333,
             "#9c179e"
            ],
            [
             0.4444444444444444,
             "#bd3786"
            ],
            [
             0.5555555555555556,
             "#d8576b"
            ],
            [
             0.6666666666666666,
             "#ed7953"
            ],
            [
             0.7777777777777778,
             "#fb9f3a"
            ],
            [
             0.8888888888888888,
             "#fdca26"
            ],
            [
             1,
             "#f0f921"
            ]
           ],
           "sequentialminus": [
            [
             0,
             "#0d0887"
            ],
            [
             0.1111111111111111,
             "#46039f"
            ],
            [
             0.2222222222222222,
             "#7201a8"
            ],
            [
             0.3333333333333333,
             "#9c179e"
            ],
            [
             0.4444444444444444,
             "#bd3786"
            ],
            [
             0.5555555555555556,
             "#d8576b"
            ],
            [
             0.6666666666666666,
             "#ed7953"
            ],
            [
             0.7777777777777778,
             "#fb9f3a"
            ],
            [
             0.8888888888888888,
             "#fdca26"
            ],
            [
             1,
             "#f0f921"
            ]
           ]
          },
          "colorway": [
           "#636efa",
           "#EF553B",
           "#00cc96",
           "#ab63fa",
           "#FFA15A",
           "#19d3f3",
           "#FF6692",
           "#B6E880",
           "#FF97FF",
           "#FECB52"
          ],
          "font": {
           "color": "#2a3f5f"
          },
          "geo": {
           "bgcolor": "white",
           "lakecolor": "white",
           "landcolor": "#E5ECF6",
           "showlakes": true,
           "showland": true,
           "subunitcolor": "white"
          },
          "hoverlabel": {
           "align": "left"
          },
          "hovermode": "closest",
          "mapbox": {
           "style": "light"
          },
          "paper_bgcolor": "white",
          "plot_bgcolor": "#E5ECF6",
          "polar": {
           "angularaxis": {
            "gridcolor": "white",
            "linecolor": "white",
            "ticks": ""
           },
           "bgcolor": "#E5ECF6",
           "radialaxis": {
            "gridcolor": "white",
            "linecolor": "white",
            "ticks": ""
           }
          },
          "scene": {
           "xaxis": {
            "backgroundcolor": "#E5ECF6",
            "gridcolor": "white",
            "gridwidth": 2,
            "linecolor": "white",
            "showbackground": true,
            "ticks": "",
            "zerolinecolor": "white"
           },
           "yaxis": {
            "backgroundcolor": "#E5ECF6",
            "gridcolor": "white",
            "gridwidth": 2,
            "linecolor": "white",
            "showbackground": true,
            "ticks": "",
            "zerolinecolor": "white"
           },
           "zaxis": {
            "backgroundcolor": "#E5ECF6",
            "gridcolor": "white",
            "gridwidth": 2,
            "linecolor": "white",
            "showbackground": true,
            "ticks": "",
            "zerolinecolor": "white"
           }
          },
          "shapedefaults": {
           "line": {
            "color": "#2a3f5f"
           }
          },
          "ternary": {
           "aaxis": {
            "gridcolor": "white",
            "linecolor": "white",
            "ticks": ""
           },
           "baxis": {
            "gridcolor": "white",
            "linecolor": "white",
            "ticks": ""
           },
           "bgcolor": "#E5ECF6",
           "caxis": {
            "gridcolor": "white",
            "linecolor": "white",
            "ticks": ""
           }
          },
          "title": {
           "x": 0.05
          },
          "xaxis": {
           "automargin": true,
           "gridcolor": "white",
           "linecolor": "white",
           "ticks": "",
           "title": {
            "standoff": 15
           },
           "zerolinecolor": "white",
           "zerolinewidth": 2
          },
          "yaxis": {
           "automargin": true,
           "gridcolor": "white",
           "linecolor": "white",
           "ticks": "",
           "title": {
            "standoff": 15
           },
           "zerolinecolor": "white",
           "zerolinewidth": 2
          }
         }
        },
        "title": {
         "text": "Mean governance score by industry"
        }
       }
      }
     },
     "metadata": {},
     "output_type": "display_data"
    }
   ],
   "source": [
    "import plotly.graph_objects as go \n",
    "fig = go.Figure(go.Bar(x=data_gov_mean.index,y=data_gov_mean.values),go.Layout(title_text='Mean governance score by industry'))\n",
    "fig.show()"
   ]
  },
  {
   "cell_type": "code",
   "execution_count": 147,
   "metadata": {},
   "outputs": [
    {
     "data": {
      "application/vnd.plotly.v1+json": {
       "config": {
        "plotlyServerURL": "https://plot.ly"
       },
       "data": [
        {
         "type": "bar",
         "x": [
          "General Motors Co",
          "WW Grainger Inc",
          "Mohawk Industries Inc",
          "Live Nation Entertainment Inc",
          "Las Vegas Sands Corp",
          "Clorox Co",
          "ATA Creativity Global",
          "American Airlines Group Inc",
          "Atlantic American Corp",
          "Applied Optoelectronics Inc",
          "Aaon Inc",
          "Apple Inc",
          "Autoscope Technologies Corp",
          "Atlas Air Worldwide Holdings Inc",
          "Armada Acquisition Corp I",
          "Aadi Bioscience Inc",
          "Abeona Therapeutics Inc",
          "Airbnb Inc",
          "ARCA Biopharma Inc",
          "ABIOMED Inc",
          "Acumen Pharmaceuticals Inc",
          "Absci Corp",
          "Allegiance Bancshares Inc",
          "Arbutus Biopharma Corp",
          "ABVC Biopharma Inc",
          "ACADIA Pharmaceuticals Inc",
          "Acri Capital Acquisition Corp",
          "Accolade Inc",
          "Adicet Bio Inc",
          "Abcellera Biologics Inc",
          "Ameris Bancorp",
          "ACE Convergence Acquisition Corp",
          "Achilles Therapeutics PLC",
          "Acadia Healthcare Company Inc",
          "ACI Worldwide Inc",
          "Axcelis Technologies Inc",
          "AC Immune SA",
          "Achieve Life Sciences Inc",
          "ACM Research Inc",
          "Acorda Therapeutics Inc",
          "ACNB Corp",
          "Aclaris Therapeutics Inc",
          "AcelRx Pharmaceuticals Inc",
          "Enact Holdings Inc",
          "Acacia Research Corp",
          "ACV Auctions Inc",
          "Adagene Inc",
          "Acurx Pharmaceuticals Inc",
          "Adobe Inc"
         ],
         "y": [
          1147,
          1068,
          880,
          1171,
          1052,
          1178,
          1255,
          608,
          746,
          741,
          785,
          1023,
          891,
          936,
          1000,
          605,
          604,
          821,
          1475,
          712,
          1129,
          606,
          659,
          898,
          745,
          637,
          765,
          705,
          744,
          731,
          1239,
          840,
          651,
          803,
          781,
          1127,
          1081,
          851,
          742,
          967,
          847,
          654,
          657,
          737,
          1183,
          675,
          812,
          901,
          841,
          621,
          953,
          824,
          706,
          968,
          703,
          704,
          824,
          816,
          643,
          1100,
          868,
          1169,
          1000,
          739,
          1112,
          818,
          852,
          800,
          937,
          1100,
          1100,
          777,
          600,
          844,
          1074,
          769,
          600,
          982,
          685,
          607,
          895,
          651,
          835,
          698,
          1076,
          1206,
          944,
          619,
          1148,
          628,
          929,
          1063,
          703,
          1103,
          863,
          656,
          763,
          742,
          1118,
          673,
          640,
          635,
          1086,
          801,
          769,
          1145,
          633,
          1130,
          616,
          1161,
          1102,
          721,
          952,
          746,
          1110,
          1030,
          1100,
          727,
          817,
          1106,
          800,
          775,
          667,
          768,
          1050,
          691,
          743,
          770,
          845,
          1002,
          1142,
          1164,
          1142,
          608,
          957,
          622,
          1202,
          1433,
          623,
          1151,
          1047,
          1174,
          1103,
          634,
          1243,
          760,
          1100,
          1165,
          679,
          1068,
          1145,
          1270,
          812,
          734,
          1100,
          1140,
          693,
          678,
          658,
          666,
          885,
          1126,
          1084,
          1107,
          1120,
          1012,
          630,
          1100,
          1150,
          1127,
          652,
          653,
          1159,
          1100,
          945,
          852,
          1533,
          1160,
          1115,
          1125,
          701,
          1143,
          899,
          773,
          1109,
          1170,
          1216,
          1139,
          1100,
          1000,
          1175,
          1000,
          716,
          1009,
          1144,
          1417,
          1155,
          1312,
          1150,
          1160,
          891,
          899,
          1137,
          1215,
          1156,
          1195,
          1078,
          1150,
          1088,
          1280,
          1145,
          842,
          993,
          1000,
          1100,
          903,
          629,
          1281,
          647,
          1100,
          1000,
          1227,
          1140,
          1229,
          629,
          1153,
          937,
          735,
          600,
          626,
          1037,
          1122,
          1120,
          1245,
          1125,
          1207,
          1221,
          989,
          1180,
          1184,
          1054,
          1077,
          1182,
          1151,
          1050,
          1179,
          971,
          1139,
          1168,
          1135,
          1442,
          1077,
          1049,
          1290,
          1255,
          1348,
          1282,
          1204,
          1098,
          1207,
          679,
          879,
          1116,
          1128,
          1306,
          802,
          961,
          1100,
          664,
          1188,
          1131,
          1025,
          695,
          1224,
          1197,
          1176,
          1150,
          1118,
          709,
          694,
          609,
          1000,
          1229,
          810,
          726,
          1125,
          1124,
          1119,
          669,
          664,
          735,
          1161,
          1267,
          626,
          969,
          1294,
          1153,
          1142,
          1171,
          1245,
          752,
          1115,
          1528,
          600,
          892,
          1144,
          1135,
          1136,
          1168,
          1358,
          1186,
          1173,
          1162,
          601,
          788,
          1100,
          1100,
          1136,
          725,
          1167,
          1269,
          1058,
          1113,
          1150,
          618,
          1138,
          1100,
          1127,
          1000,
          1100,
          1168,
          696,
          1120,
          1148,
          1381,
          1178,
          1063,
          1045,
          1157,
          1287,
          1262,
          1101,
          906,
          1107,
          1274,
          939,
          1110,
          1027,
          676,
          975,
          1100,
          658,
          853,
          1156,
          1268,
          749,
          685,
          1078,
          1162,
          1103,
          1242,
          873,
          1078,
          1408,
          1131,
          1232,
          1119,
          1099,
          1140,
          1075,
          1052,
          899,
          1412,
          1105,
          942,
          1115,
          761,
          1100,
          1130,
          1260,
          1170,
          1067,
          1131,
          1161,
          774,
          1086,
          1116,
          947,
          677,
          1396,
          1152,
          646,
          1061,
          1250,
          1110,
          600,
          600,
          1088,
          1100,
          1205,
          1100,
          1093,
          1100,
          1139,
          1409,
          1244,
          1011,
          1000,
          1100,
          1159,
          741,
          1218,
          1209,
          953,
          1090,
          1191,
          1245,
          1106,
          1182,
          1100,
          1189,
          1373,
          1063,
          797,
          1306,
          1238,
          1100,
          1100,
          1101,
          1175,
          954,
          811,
          638,
          1130,
          838,
          1340,
          1184,
          1173,
          1160,
          1178,
          1204,
          1186,
          1170,
          1157,
          1128,
          656,
          637,
          1242,
          1194,
          1091,
          1121,
          1067,
          1536,
          1100,
          1137,
          1218,
          1130,
          1192,
          1130,
          1140,
          1141,
          650,
          1131,
          1146,
          1120,
          655,
          901,
          786,
          1186,
          827,
          1300,
          927,
          1292,
          1155,
          1107,
          1093,
          1090,
          1005,
          1262,
          916,
          1121,
          1181,
          1000,
          1100,
          610,
          715,
          792,
          1419,
          868,
          680,
          753,
          1154,
          744,
          1181,
          1413,
          1112,
          772,
          732,
          636,
          1007,
          1153,
          1111,
          711,
          980,
          1157,
          1259,
          995,
          1100,
          1258,
          1243,
          1042,
          653,
          1295,
          891,
          828,
          1343,
          1086,
          928,
          940,
          1226,
          1114,
          1012,
          1138,
          989,
          1132,
          1127,
          1171,
          1164,
          647,
          1131,
          1180,
          1086,
          1165,
          1112,
          1103,
          1154,
          615,
          1197,
          1146,
          1120,
          856,
          908,
          668,
          1065,
          1096,
          918,
          1173,
          838,
          1175,
          819,
          1140,
          698,
          1192,
          656,
          1062,
          1160,
          1201,
          1276,
          1133,
          1038,
          1083,
          769,
          1133,
          827,
          973,
          949,
          1152,
          897,
          610,
          642,
          1123,
          707,
          1166,
          674,
          1000,
          871,
          1100,
          998,
          1173,
          1110,
          950,
          865,
          1039,
          1088,
          658,
          834,
          615,
          922,
          722,
          996,
          759,
          1199,
          623,
          1178,
          747,
          600,
          620,
          755,
          697,
          933,
          763,
          1127,
          751,
          747,
          1005,
          1106,
          690,
          1256,
          1127,
          748,
          640,
          717,
          1081,
          768,
          968,
          886,
          1195,
          692,
          607,
          931,
          941,
          808,
          769,
          914,
          1057,
          686,
          899,
          721,
          1206,
          645,
          758,
          690,
          877,
          641,
          1182,
          1142,
          763,
          621,
          737,
          673,
          732,
          632,
          771,
          809,
          820,
          1189,
          750,
          1095,
          1101,
          717,
          651,
          1225,
          849,
          826,
          795,
          600,
          653,
          1165,
          657,
          660,
          751,
          1208,
          1060,
          1022,
          1104,
          919,
          630,
          724,
          667,
          713,
          912,
          991,
          1109,
          747,
          820,
          716,
          955,
          817,
          1146,
          940,
          669,
          1018,
          770,
          792,
          751,
          935,
          617,
          616,
          1015,
          630,
          958,
          634,
          635,
          1033,
          726,
          1127,
          762,
          620,
          1011,
          930,
          621,
          1137,
          1209,
          646,
          600,
          929,
          649,
          1363,
          1140,
          747,
          615,
          765,
          1243,
          1200,
          1056,
          951,
          843,
          1138,
          1100,
          1129,
          819,
          633
         ]
        }
       ],
       "layout": {
        "template": {
         "data": {
          "bar": [
           {
            "error_x": {
             "color": "#2a3f5f"
            },
            "error_y": {
             "color": "#2a3f5f"
            },
            "marker": {
             "line": {
              "color": "#E5ECF6",
              "width": 0.5
             },
             "pattern": {
              "fillmode": "overlay",
              "size": 10,
              "solidity": 0.2
             }
            },
            "type": "bar"
           }
          ],
          "barpolar": [
           {
            "marker": {
             "line": {
              "color": "#E5ECF6",
              "width": 0.5
             },
             "pattern": {
              "fillmode": "overlay",
              "size": 10,
              "solidity": 0.2
             }
            },
            "type": "barpolar"
           }
          ],
          "carpet": [
           {
            "aaxis": {
             "endlinecolor": "#2a3f5f",
             "gridcolor": "white",
             "linecolor": "white",
             "minorgridcolor": "white",
             "startlinecolor": "#2a3f5f"
            },
            "baxis": {
             "endlinecolor": "#2a3f5f",
             "gridcolor": "white",
             "linecolor": "white",
             "minorgridcolor": "white",
             "startlinecolor": "#2a3f5f"
            },
            "type": "carpet"
           }
          ],
          "choropleth": [
           {
            "colorbar": {
             "outlinewidth": 0,
             "ticks": ""
            },
            "type": "choropleth"
           }
          ],
          "contour": [
           {
            "colorbar": {
             "outlinewidth": 0,
             "ticks": ""
            },
            "colorscale": [
             [
              0,
              "#0d0887"
             ],
             [
              0.1111111111111111,
              "#46039f"
             ],
             [
              0.2222222222222222,
              "#7201a8"
             ],
             [
              0.3333333333333333,
              "#9c179e"
             ],
             [
              0.4444444444444444,
              "#bd3786"
             ],
             [
              0.5555555555555556,
              "#d8576b"
             ],
             [
              0.6666666666666666,
              "#ed7953"
             ],
             [
              0.7777777777777778,
              "#fb9f3a"
             ],
             [
              0.8888888888888888,
              "#fdca26"
             ],
             [
              1,
              "#f0f921"
             ]
            ],
            "type": "contour"
           }
          ],
          "contourcarpet": [
           {
            "colorbar": {
             "outlinewidth": 0,
             "ticks": ""
            },
            "type": "contourcarpet"
           }
          ],
          "heatmap": [
           {
            "colorbar": {
             "outlinewidth": 0,
             "ticks": ""
            },
            "colorscale": [
             [
              0,
              "#0d0887"
             ],
             [
              0.1111111111111111,
              "#46039f"
             ],
             [
              0.2222222222222222,
              "#7201a8"
             ],
             [
              0.3333333333333333,
              "#9c179e"
             ],
             [
              0.4444444444444444,
              "#bd3786"
             ],
             [
              0.5555555555555556,
              "#d8576b"
             ],
             [
              0.6666666666666666,
              "#ed7953"
             ],
             [
              0.7777777777777778,
              "#fb9f3a"
             ],
             [
              0.8888888888888888,
              "#fdca26"
             ],
             [
              1,
              "#f0f921"
             ]
            ],
            "type": "heatmap"
           }
          ],
          "heatmapgl": [
           {
            "colorbar": {
             "outlinewidth": 0,
             "ticks": ""
            },
            "colorscale": [
             [
              0,
              "#0d0887"
             ],
             [
              0.1111111111111111,
              "#46039f"
             ],
             [
              0.2222222222222222,
              "#7201a8"
             ],
             [
              0.3333333333333333,
              "#9c179e"
             ],
             [
              0.4444444444444444,
              "#bd3786"
             ],
             [
              0.5555555555555556,
              "#d8576b"
             ],
             [
              0.6666666666666666,
              "#ed7953"
             ],
             [
              0.7777777777777778,
              "#fb9f3a"
             ],
             [
              0.8888888888888888,
              "#fdca26"
             ],
             [
              1,
              "#f0f921"
             ]
            ],
            "type": "heatmapgl"
           }
          ],
          "histogram": [
           {
            "marker": {
             "pattern": {
              "fillmode": "overlay",
              "size": 10,
              "solidity": 0.2
             }
            },
            "type": "histogram"
           }
          ],
          "histogram2d": [
           {
            "colorbar": {
             "outlinewidth": 0,
             "ticks": ""
            },
            "colorscale": [
             [
              0,
              "#0d0887"
             ],
             [
              0.1111111111111111,
              "#46039f"
             ],
             [
              0.2222222222222222,
              "#7201a8"
             ],
             [
              0.3333333333333333,
              "#9c179e"
             ],
             [
              0.4444444444444444,
              "#bd3786"
             ],
             [
              0.5555555555555556,
              "#d8576b"
             ],
             [
              0.6666666666666666,
              "#ed7953"
             ],
             [
              0.7777777777777778,
              "#fb9f3a"
             ],
             [
              0.8888888888888888,
              "#fdca26"
             ],
             [
              1,
              "#f0f921"
             ]
            ],
            "type": "histogram2d"
           }
          ],
          "histogram2dcontour": [
           {
            "colorbar": {
             "outlinewidth": 0,
             "ticks": ""
            },
            "colorscale": [
             [
              0,
              "#0d0887"
             ],
             [
              0.1111111111111111,
              "#46039f"
             ],
             [
              0.2222222222222222,
              "#7201a8"
             ],
             [
              0.3333333333333333,
              "#9c179e"
             ],
             [
              0.4444444444444444,
              "#bd3786"
             ],
             [
              0.5555555555555556,
              "#d8576b"
             ],
             [
              0.6666666666666666,
              "#ed7953"
             ],
             [
              0.7777777777777778,
              "#fb9f3a"
             ],
             [
              0.8888888888888888,
              "#fdca26"
             ],
             [
              1,
              "#f0f921"
             ]
            ],
            "type": "histogram2dcontour"
           }
          ],
          "mesh3d": [
           {
            "colorbar": {
             "outlinewidth": 0,
             "ticks": ""
            },
            "type": "mesh3d"
           }
          ],
          "parcoords": [
           {
            "line": {
             "colorbar": {
              "outlinewidth": 0,
              "ticks": ""
             }
            },
            "type": "parcoords"
           }
          ],
          "pie": [
           {
            "automargin": true,
            "type": "pie"
           }
          ],
          "scatter": [
           {
            "fillpattern": {
             "fillmode": "overlay",
             "size": 10,
             "solidity": 0.2
            },
            "type": "scatter"
           }
          ],
          "scatter3d": [
           {
            "line": {
             "colorbar": {
              "outlinewidth": 0,
              "ticks": ""
             }
            },
            "marker": {
             "colorbar": {
              "outlinewidth": 0,
              "ticks": ""
             }
            },
            "type": "scatter3d"
           }
          ],
          "scattercarpet": [
           {
            "marker": {
             "colorbar": {
              "outlinewidth": 0,
              "ticks": ""
             }
            },
            "type": "scattercarpet"
           }
          ],
          "scattergeo": [
           {
            "marker": {
             "colorbar": {
              "outlinewidth": 0,
              "ticks": ""
             }
            },
            "type": "scattergeo"
           }
          ],
          "scattergl": [
           {
            "marker": {
             "colorbar": {
              "outlinewidth": 0,
              "ticks": ""
             }
            },
            "type": "scattergl"
           }
          ],
          "scattermapbox": [
           {
            "marker": {
             "colorbar": {
              "outlinewidth": 0,
              "ticks": ""
             }
            },
            "type": "scattermapbox"
           }
          ],
          "scatterpolar": [
           {
            "marker": {
             "colorbar": {
              "outlinewidth": 0,
              "ticks": ""
             }
            },
            "type": "scatterpolar"
           }
          ],
          "scatterpolargl": [
           {
            "marker": {
             "colorbar": {
              "outlinewidth": 0,
              "ticks": ""
             }
            },
            "type": "scatterpolargl"
           }
          ],
          "scatterternary": [
           {
            "marker": {
             "colorbar": {
              "outlinewidth": 0,
              "ticks": ""
             }
            },
            "type": "scatterternary"
           }
          ],
          "surface": [
           {
            "colorbar": {
             "outlinewidth": 0,
             "ticks": ""
            },
            "colorscale": [
             [
              0,
              "#0d0887"
             ],
             [
              0.1111111111111111,
              "#46039f"
             ],
             [
              0.2222222222222222,
              "#7201a8"
             ],
             [
              0.3333333333333333,
              "#9c179e"
             ],
             [
              0.4444444444444444,
              "#bd3786"
             ],
             [
              0.5555555555555556,
              "#d8576b"
             ],
             [
              0.6666666666666666,
              "#ed7953"
             ],
             [
              0.7777777777777778,
              "#fb9f3a"
             ],
             [
              0.8888888888888888,
              "#fdca26"
             ],
             [
              1,
              "#f0f921"
             ]
            ],
            "type": "surface"
           }
          ],
          "table": [
           {
            "cells": {
             "fill": {
              "color": "#EBF0F8"
             },
             "line": {
              "color": "white"
             }
            },
            "header": {
             "fill": {
              "color": "#C8D4E3"
             },
             "line": {
              "color": "white"
             }
            },
            "type": "table"
           }
          ]
         },
         "layout": {
          "annotationdefaults": {
           "arrowcolor": "#2a3f5f",
           "arrowhead": 0,
           "arrowwidth": 1
          },
          "autotypenumbers": "strict",
          "coloraxis": {
           "colorbar": {
            "outlinewidth": 0,
            "ticks": ""
           }
          },
          "colorscale": {
           "diverging": [
            [
             0,
             "#8e0152"
            ],
            [
             0.1,
             "#c51b7d"
            ],
            [
             0.2,
             "#de77ae"
            ],
            [
             0.3,
             "#f1b6da"
            ],
            [
             0.4,
             "#fde0ef"
            ],
            [
             0.5,
             "#f7f7f7"
            ],
            [
             0.6,
             "#e6f5d0"
            ],
            [
             0.7,
             "#b8e186"
            ],
            [
             0.8,
             "#7fbc41"
            ],
            [
             0.9,
             "#4d9221"
            ],
            [
             1,
             "#276419"
            ]
           ],
           "sequential": [
            [
             0,
             "#0d0887"
            ],
            [
             0.1111111111111111,
             "#46039f"
            ],
            [
             0.2222222222222222,
             "#7201a8"
            ],
            [
             0.3333333333333333,
             "#9c179e"
            ],
            [
             0.4444444444444444,
             "#bd3786"
            ],
            [
             0.5555555555555556,
             "#d8576b"
            ],
            [
             0.6666666666666666,
             "#ed7953"
            ],
            [
             0.7777777777777778,
             "#fb9f3a"
            ],
            [
             0.8888888888888888,
             "#fdca26"
            ],
            [
             1,
             "#f0f921"
            ]
           ],
           "sequentialminus": [
            [
             0,
             "#0d0887"
            ],
            [
             0.1111111111111111,
             "#46039f"
            ],
            [
             0.2222222222222222,
             "#7201a8"
            ],
            [
             0.3333333333333333,
             "#9c179e"
            ],
            [
             0.4444444444444444,
             "#bd3786"
            ],
            [
             0.5555555555555556,
             "#d8576b"
            ],
            [
             0.6666666666666666,
             "#ed7953"
            ],
            [
             0.7777777777777778,
             "#fb9f3a"
            ],
            [
             0.8888888888888888,
             "#fdca26"
            ],
            [
             1,
             "#f0f921"
            ]
           ]
          },
          "colorway": [
           "#636efa",
           "#EF553B",
           "#00cc96",
           "#ab63fa",
           "#FFA15A",
           "#19d3f3",
           "#FF6692",
           "#B6E880",
           "#FF97FF",
           "#FECB52"
          ],
          "font": {
           "color": "#2a3f5f"
          },
          "geo": {
           "bgcolor": "white",
           "lakecolor": "white",
           "landcolor": "#E5ECF6",
           "showlakes": true,
           "showland": true,
           "subunitcolor": "white"
          },
          "hoverlabel": {
           "align": "left"
          },
          "hovermode": "closest",
          "mapbox": {
           "style": "light"
          },
          "paper_bgcolor": "white",
          "plot_bgcolor": "#E5ECF6",
          "polar": {
           "angularaxis": {
            "gridcolor": "white",
            "linecolor": "white",
            "ticks": ""
           },
           "bgcolor": "#E5ECF6",
           "radialaxis": {
            "gridcolor": "white",
            "linecolor": "white",
            "ticks": ""
           }
          },
          "scene": {
           "xaxis": {
            "backgroundcolor": "#E5ECF6",
            "gridcolor": "white",
            "gridwidth": 2,
            "linecolor": "white",
            "showbackground": true,
            "ticks": "",
            "zerolinecolor": "white"
           },
           "yaxis": {
            "backgroundcolor": "#E5ECF6",
            "gridcolor": "white",
            "gridwidth": 2,
            "linecolor": "white",
            "showbackground": true,
            "ticks": "",
            "zerolinecolor": "white"
           },
           "zaxis": {
            "backgroundcolor": "#E5ECF6",
            "gridcolor": "white",
            "gridwidth": 2,
            "linecolor": "white",
            "showbackground": true,
            "ticks": "",
            "zerolinecolor": "white"
           }
          },
          "shapedefaults": {
           "line": {
            "color": "#2a3f5f"
           }
          },
          "ternary": {
           "aaxis": {
            "gridcolor": "white",
            "linecolor": "white",
            "ticks": ""
           },
           "baxis": {
            "gridcolor": "white",
            "linecolor": "white",
            "ticks": ""
           },
           "bgcolor": "#E5ECF6",
           "caxis": {
            "gridcolor": "white",
            "linecolor": "white",
            "ticks": ""
           }
          },
          "title": {
           "x": 0.05
          },
          "xaxis": {
           "automargin": true,
           "gridcolor": "white",
           "linecolor": "white",
           "ticks": "",
           "title": {
            "standoff": 15
           },
           "zerolinecolor": "white",
           "zerolinewidth": 2
          },
          "yaxis": {
           "automargin": true,
           "gridcolor": "white",
           "linecolor": "white",
           "ticks": "",
           "title": {
            "standoff": 15
           },
           "zerolinecolor": "white",
           "zerolinewidth": 2
          }
         }
        },
        "title": {
         "text": "Total score by company"
        }
       }
      }
     },
     "metadata": {},
     "output_type": "display_data"
    }
   ],
   "source": [
    "import plotly.graph_objects as go \n",
    "\n",
    "fig = go.Figure(go.Bar(x=df.iloc[1:50]['name'],y=df['total_score'].values),go.Layout(title_text='Total score by company'))\n",
    "fig.show()"
   ]
  },
  {
   "cell_type": "code",
   "execution_count": 148,
   "metadata": {},
   "outputs": [
    {
     "data": {
      "application/vnd.plotly.v1+json": {
       "config": {
        "plotlyServerURL": "https://plot.ly"
       },
       "data": [
        {
         "type": "bar",
         "x": [
          "ADMA Biologics Inc",
          "Advanced Emissions Solutions Inc",
          "Analog Devices Inc",
          "Adial Pharmaceuticals Inc",
          "Adamis Pharmaceuticals Corp",
          "Acer Therapeutics Inc",
          "Edoc Acquisition Corp",
          "Addus Homecare Corp",
          "Arch Capital Group Ltd",
          "Adaptive Biotechnologies Corp",
          "Autodesk Inc",
          "Automatic Data Processing Inc",
          "Aditxt Inc",
          "Advantage Solutions Inc",
          "Adverum Biotechnologies Inc",
          "Aehr Test Systems",
          "Antelope Enterprise Holdings Ltd",
          "Alset Ehome International Inc",
          "Advanced Energy Industries Inc",
          "American Electric Power Company Inc",
          "Aethlon Medical Inc",
          "Allied Esports Entertainment Inc",
          "AudioEye Inc",
          "Aerie Pharmaceuticals Inc",
          "ADDvantage Technologies Group Inc",
          "AF Acquisition Corp",
          "Affimed NV",
          "AFC Gamma Inc",
          "Affinity Bancshares Inc",
          "Affirm Holdings Inc",
          "Acutus Medical Inc",
          "Agenus Inc",
          "Afya Ltd",
          "AgroFresh Solutions Inc",
          "Agrify Corp",
          "AgileThought Inc",
          "AGM Group Holdings Inc",
          "Agios Pharmaceuticals Inc",
          "Aeglea Bio Therapeutics Inc",
          "AGNC Investment Corp",
          "AgriFORCE Growing Systems Ltd",
          "Agile Therapeutics Inc",
          "Agilysys Inc",
          "Applied Genetic Technologies Corp",
          "Adapthealth Corp",
          "Allied Healthcare Products Inc",
          "AIB Acquisition Corp",
          "ADTRAN Inc",
          "Advent Technologies Holdings Inc"
         ],
         "y": [
          1147,
          1068,
          880,
          1171,
          1052,
          1178,
          1255,
          608,
          746,
          741,
          785,
          1023,
          891,
          936,
          1000,
          605,
          604,
          821,
          1475,
          712,
          1129,
          606,
          659,
          898,
          745,
          637,
          765,
          705,
          744,
          731,
          1239,
          840,
          651,
          803,
          781,
          1127,
          1081,
          851,
          742,
          967,
          847,
          654,
          657,
          737,
          1183,
          675,
          812,
          901,
          841,
          621,
          953,
          824,
          706,
          968,
          703,
          704,
          824,
          816,
          643,
          1100,
          868,
          1169,
          1000,
          739,
          1112,
          818,
          852,
          800,
          937,
          1100,
          1100,
          777,
          600,
          844,
          1074,
          769,
          600,
          982,
          685,
          607,
          895,
          651,
          835,
          698,
          1076,
          1206,
          944,
          619,
          1148,
          628,
          929,
          1063,
          703,
          1103,
          863,
          656,
          763,
          742,
          1118,
          673,
          640,
          635,
          1086,
          801,
          769,
          1145,
          633,
          1130,
          616,
          1161,
          1102,
          721,
          952,
          746,
          1110,
          1030,
          1100,
          727,
          817,
          1106,
          800,
          775,
          667,
          768,
          1050,
          691,
          743,
          770,
          845,
          1002,
          1142,
          1164,
          1142,
          608,
          957,
          622,
          1202,
          1433,
          623,
          1151,
          1047,
          1174,
          1103,
          634,
          1243,
          760,
          1100,
          1165,
          679,
          1068,
          1145,
          1270,
          812,
          734,
          1100,
          1140,
          693,
          678,
          658,
          666,
          885,
          1126,
          1084,
          1107,
          1120,
          1012,
          630,
          1100,
          1150,
          1127,
          652,
          653,
          1159,
          1100,
          945,
          852,
          1533,
          1160,
          1115,
          1125,
          701,
          1143,
          899,
          773,
          1109,
          1170,
          1216,
          1139,
          1100,
          1000,
          1175,
          1000,
          716,
          1009,
          1144,
          1417,
          1155,
          1312,
          1150,
          1160,
          891,
          899,
          1137,
          1215,
          1156,
          1195,
          1078,
          1150,
          1088,
          1280,
          1145,
          842,
          993,
          1000,
          1100,
          903,
          629,
          1281,
          647,
          1100,
          1000,
          1227,
          1140,
          1229,
          629,
          1153,
          937,
          735,
          600,
          626,
          1037,
          1122,
          1120,
          1245,
          1125,
          1207,
          1221,
          989,
          1180,
          1184,
          1054,
          1077,
          1182,
          1151,
          1050,
          1179,
          971,
          1139,
          1168,
          1135,
          1442,
          1077,
          1049,
          1290,
          1255,
          1348,
          1282,
          1204,
          1098,
          1207,
          679,
          879,
          1116,
          1128,
          1306,
          802,
          961,
          1100,
          664,
          1188,
          1131,
          1025,
          695,
          1224,
          1197,
          1176,
          1150,
          1118,
          709,
          694,
          609,
          1000,
          1229,
          810,
          726,
          1125,
          1124,
          1119,
          669,
          664,
          735,
          1161,
          1267,
          626,
          969,
          1294,
          1153,
          1142,
          1171,
          1245,
          752,
          1115,
          1528,
          600,
          892,
          1144,
          1135,
          1136,
          1168,
          1358,
          1186,
          1173,
          1162,
          601,
          788,
          1100,
          1100,
          1136,
          725,
          1167,
          1269,
          1058,
          1113,
          1150,
          618,
          1138,
          1100,
          1127,
          1000,
          1100,
          1168,
          696,
          1120,
          1148,
          1381,
          1178,
          1063,
          1045,
          1157,
          1287,
          1262,
          1101,
          906,
          1107,
          1274,
          939,
          1110,
          1027,
          676,
          975,
          1100,
          658,
          853,
          1156,
          1268,
          749,
          685,
          1078,
          1162,
          1103,
          1242,
          873,
          1078,
          1408,
          1131,
          1232,
          1119,
          1099,
          1140,
          1075,
          1052,
          899,
          1412,
          1105,
          942,
          1115,
          761,
          1100,
          1130,
          1260,
          1170,
          1067,
          1131,
          1161,
          774,
          1086,
          1116,
          947,
          677,
          1396,
          1152,
          646,
          1061,
          1250,
          1110,
          600,
          600,
          1088,
          1100,
          1205,
          1100,
          1093,
          1100,
          1139,
          1409,
          1244,
          1011,
          1000,
          1100,
          1159,
          741,
          1218,
          1209,
          953,
          1090,
          1191,
          1245,
          1106,
          1182,
          1100,
          1189,
          1373,
          1063,
          797,
          1306,
          1238,
          1100,
          1100,
          1101,
          1175,
          954,
          811,
          638,
          1130,
          838,
          1340,
          1184,
          1173,
          1160,
          1178,
          1204,
          1186,
          1170,
          1157,
          1128,
          656,
          637,
          1242,
          1194,
          1091,
          1121,
          1067,
          1536,
          1100,
          1137,
          1218,
          1130,
          1192,
          1130,
          1140,
          1141,
          650,
          1131,
          1146,
          1120,
          655,
          901,
          786,
          1186,
          827,
          1300,
          927,
          1292,
          1155,
          1107,
          1093,
          1090,
          1005,
          1262,
          916,
          1121,
          1181,
          1000,
          1100,
          610,
          715,
          792,
          1419,
          868,
          680,
          753,
          1154,
          744,
          1181,
          1413,
          1112,
          772,
          732,
          636,
          1007,
          1153,
          1111,
          711,
          980,
          1157,
          1259,
          995,
          1100,
          1258,
          1243,
          1042,
          653,
          1295,
          891,
          828,
          1343,
          1086,
          928,
          940,
          1226,
          1114,
          1012,
          1138,
          989,
          1132,
          1127,
          1171,
          1164,
          647,
          1131,
          1180,
          1086,
          1165,
          1112,
          1103,
          1154,
          615,
          1197,
          1146,
          1120,
          856,
          908,
          668,
          1065,
          1096,
          918,
          1173,
          838,
          1175,
          819,
          1140,
          698,
          1192,
          656,
          1062,
          1160,
          1201,
          1276,
          1133,
          1038,
          1083,
          769,
          1133,
          827,
          973,
          949,
          1152,
          897,
          610,
          642,
          1123,
          707,
          1166,
          674,
          1000,
          871,
          1100,
          998,
          1173,
          1110,
          950,
          865,
          1039,
          1088,
          658,
          834,
          615,
          922,
          722,
          996,
          759,
          1199,
          623,
          1178,
          747,
          600,
          620,
          755,
          697,
          933,
          763,
          1127,
          751,
          747,
          1005,
          1106,
          690,
          1256,
          1127,
          748,
          640,
          717,
          1081,
          768,
          968,
          886,
          1195,
          692,
          607,
          931,
          941,
          808,
          769,
          914,
          1057,
          686,
          899,
          721,
          1206,
          645,
          758,
          690,
          877,
          641,
          1182,
          1142,
          763,
          621,
          737,
          673,
          732,
          632,
          771,
          809,
          820,
          1189,
          750,
          1095,
          1101,
          717,
          651,
          1225,
          849,
          826,
          795,
          600,
          653,
          1165,
          657,
          660,
          751,
          1208,
          1060,
          1022,
          1104,
          919,
          630,
          724,
          667,
          713,
          912,
          991,
          1109,
          747,
          820,
          716,
          955,
          817,
          1146,
          940,
          669,
          1018,
          770,
          792,
          751,
          935,
          617,
          616,
          1015,
          630,
          958,
          634,
          635,
          1033,
          726,
          1127,
          762,
          620,
          1011,
          930,
          621,
          1137,
          1209,
          646,
          600,
          929,
          649,
          1363,
          1140,
          747,
          615,
          765,
          1243,
          1200,
          1056,
          951,
          843,
          1138,
          1100,
          1129,
          819,
          633
         ]
        }
       ],
       "layout": {
        "template": {
         "data": {
          "bar": [
           {
            "error_x": {
             "color": "#2a3f5f"
            },
            "error_y": {
             "color": "#2a3f5f"
            },
            "marker": {
             "line": {
              "color": "#E5ECF6",
              "width": 0.5
             },
             "pattern": {
              "fillmode": "overlay",
              "size": 10,
              "solidity": 0.2
             }
            },
            "type": "bar"
           }
          ],
          "barpolar": [
           {
            "marker": {
             "line": {
              "color": "#E5ECF6",
              "width": 0.5
             },
             "pattern": {
              "fillmode": "overlay",
              "size": 10,
              "solidity": 0.2
             }
            },
            "type": "barpolar"
           }
          ],
          "carpet": [
           {
            "aaxis": {
             "endlinecolor": "#2a3f5f",
             "gridcolor": "white",
             "linecolor": "white",
             "minorgridcolor": "white",
             "startlinecolor": "#2a3f5f"
            },
            "baxis": {
             "endlinecolor": "#2a3f5f",
             "gridcolor": "white",
             "linecolor": "white",
             "minorgridcolor": "white",
             "startlinecolor": "#2a3f5f"
            },
            "type": "carpet"
           }
          ],
          "choropleth": [
           {
            "colorbar": {
             "outlinewidth": 0,
             "ticks": ""
            },
            "type": "choropleth"
           }
          ],
          "contour": [
           {
            "colorbar": {
             "outlinewidth": 0,
             "ticks": ""
            },
            "colorscale": [
             [
              0,
              "#0d0887"
             ],
             [
              0.1111111111111111,
              "#46039f"
             ],
             [
              0.2222222222222222,
              "#7201a8"
             ],
             [
              0.3333333333333333,
              "#9c179e"
             ],
             [
              0.4444444444444444,
              "#bd3786"
             ],
             [
              0.5555555555555556,
              "#d8576b"
             ],
             [
              0.6666666666666666,
              "#ed7953"
             ],
             [
              0.7777777777777778,
              "#fb9f3a"
             ],
             [
              0.8888888888888888,
              "#fdca26"
             ],
             [
              1,
              "#f0f921"
             ]
            ],
            "type": "contour"
           }
          ],
          "contourcarpet": [
           {
            "colorbar": {
             "outlinewidth": 0,
             "ticks": ""
            },
            "type": "contourcarpet"
           }
          ],
          "heatmap": [
           {
            "colorbar": {
             "outlinewidth": 0,
             "ticks": ""
            },
            "colorscale": [
             [
              0,
              "#0d0887"
             ],
             [
              0.1111111111111111,
              "#46039f"
             ],
             [
              0.2222222222222222,
              "#7201a8"
             ],
             [
              0.3333333333333333,
              "#9c179e"
             ],
             [
              0.4444444444444444,
              "#bd3786"
             ],
             [
              0.5555555555555556,
              "#d8576b"
             ],
             [
              0.6666666666666666,
              "#ed7953"
             ],
             [
              0.7777777777777778,
              "#fb9f3a"
             ],
             [
              0.8888888888888888,
              "#fdca26"
             ],
             [
              1,
              "#f0f921"
             ]
            ],
            "type": "heatmap"
           }
          ],
          "heatmapgl": [
           {
            "colorbar": {
             "outlinewidth": 0,
             "ticks": ""
            },
            "colorscale": [
             [
              0,
              "#0d0887"
             ],
             [
              0.1111111111111111,
              "#46039f"
             ],
             [
              0.2222222222222222,
              "#7201a8"
             ],
             [
              0.3333333333333333,
              "#9c179e"
             ],
             [
              0.4444444444444444,
              "#bd3786"
             ],
             [
              0.5555555555555556,
              "#d8576b"
             ],
             [
              0.6666666666666666,
              "#ed7953"
             ],
             [
              0.7777777777777778,
              "#fb9f3a"
             ],
             [
              0.8888888888888888,
              "#fdca26"
             ],
             [
              1,
              "#f0f921"
             ]
            ],
            "type": "heatmapgl"
           }
          ],
          "histogram": [
           {
            "marker": {
             "pattern": {
              "fillmode": "overlay",
              "size": 10,
              "solidity": 0.2
             }
            },
            "type": "histogram"
           }
          ],
          "histogram2d": [
           {
            "colorbar": {
             "outlinewidth": 0,
             "ticks": ""
            },
            "colorscale": [
             [
              0,
              "#0d0887"
             ],
             [
              0.1111111111111111,
              "#46039f"
             ],
             [
              0.2222222222222222,
              "#7201a8"
             ],
             [
              0.3333333333333333,
              "#9c179e"
             ],
             [
              0.4444444444444444,
              "#bd3786"
             ],
             [
              0.5555555555555556,
              "#d8576b"
             ],
             [
              0.6666666666666666,
              "#ed7953"
             ],
             [
              0.7777777777777778,
              "#fb9f3a"
             ],
             [
              0.8888888888888888,
              "#fdca26"
             ],
             [
              1,
              "#f0f921"
             ]
            ],
            "type": "histogram2d"
           }
          ],
          "histogram2dcontour": [
           {
            "colorbar": {
             "outlinewidth": 0,
             "ticks": ""
            },
            "colorscale": [
             [
              0,
              "#0d0887"
             ],
             [
              0.1111111111111111,
              "#46039f"
             ],
             [
              0.2222222222222222,
              "#7201a8"
             ],
             [
              0.3333333333333333,
              "#9c179e"
             ],
             [
              0.4444444444444444,
              "#bd3786"
             ],
             [
              0.5555555555555556,
              "#d8576b"
             ],
             [
              0.6666666666666666,
              "#ed7953"
             ],
             [
              0.7777777777777778,
              "#fb9f3a"
             ],
             [
              0.8888888888888888,
              "#fdca26"
             ],
             [
              1,
              "#f0f921"
             ]
            ],
            "type": "histogram2dcontour"
           }
          ],
          "mesh3d": [
           {
            "colorbar": {
             "outlinewidth": 0,
             "ticks": ""
            },
            "type": "mesh3d"
           }
          ],
          "parcoords": [
           {
            "line": {
             "colorbar": {
              "outlinewidth": 0,
              "ticks": ""
             }
            },
            "type": "parcoords"
           }
          ],
          "pie": [
           {
            "automargin": true,
            "type": "pie"
           }
          ],
          "scatter": [
           {
            "fillpattern": {
             "fillmode": "overlay",
             "size": 10,
             "solidity": 0.2
            },
            "type": "scatter"
           }
          ],
          "scatter3d": [
           {
            "line": {
             "colorbar": {
              "outlinewidth": 0,
              "ticks": ""
             }
            },
            "marker": {
             "colorbar": {
              "outlinewidth": 0,
              "ticks": ""
             }
            },
            "type": "scatter3d"
           }
          ],
          "scattercarpet": [
           {
            "marker": {
             "colorbar": {
              "outlinewidth": 0,
              "ticks": ""
             }
            },
            "type": "scattercarpet"
           }
          ],
          "scattergeo": [
           {
            "marker": {
             "colorbar": {
              "outlinewidth": 0,
              "ticks": ""
             }
            },
            "type": "scattergeo"
           }
          ],
          "scattergl": [
           {
            "marker": {
             "colorbar": {
              "outlinewidth": 0,
              "ticks": ""
             }
            },
            "type": "scattergl"
           }
          ],
          "scattermapbox": [
           {
            "marker": {
             "colorbar": {
              "outlinewidth": 0,
              "ticks": ""
             }
            },
            "type": "scattermapbox"
           }
          ],
          "scatterpolar": [
           {
            "marker": {
             "colorbar": {
              "outlinewidth": 0,
              "ticks": ""
             }
            },
            "type": "scatterpolar"
           }
          ],
          "scatterpolargl": [
           {
            "marker": {
             "colorbar": {
              "outlinewidth": 0,
              "ticks": ""
             }
            },
            "type": "scatterpolargl"
           }
          ],
          "scatterternary": [
           {
            "marker": {
             "colorbar": {
              "outlinewidth": 0,
              "ticks": ""
             }
            },
            "type": "scatterternary"
           }
          ],
          "surface": [
           {
            "colorbar": {
             "outlinewidth": 0,
             "ticks": ""
            },
            "colorscale": [
             [
              0,
              "#0d0887"
             ],
             [
              0.1111111111111111,
              "#46039f"
             ],
             [
              0.2222222222222222,
              "#7201a8"
             ],
             [
              0.3333333333333333,
              "#9c179e"
             ],
             [
              0.4444444444444444,
              "#bd3786"
             ],
             [
              0.5555555555555556,
              "#d8576b"
             ],
             [
              0.6666666666666666,
              "#ed7953"
             ],
             [
              0.7777777777777778,
              "#fb9f3a"
             ],
             [
              0.8888888888888888,
              "#fdca26"
             ],
             [
              1,
              "#f0f921"
             ]
            ],
            "type": "surface"
           }
          ],
          "table": [
           {
            "cells": {
             "fill": {
              "color": "#EBF0F8"
             },
             "line": {
              "color": "white"
             }
            },
            "header": {
             "fill": {
              "color": "#C8D4E3"
             },
             "line": {
              "color": "white"
             }
            },
            "type": "table"
           }
          ]
         },
         "layout": {
          "annotationdefaults": {
           "arrowcolor": "#2a3f5f",
           "arrowhead": 0,
           "arrowwidth": 1
          },
          "autotypenumbers": "strict",
          "coloraxis": {
           "colorbar": {
            "outlinewidth": 0,
            "ticks": ""
           }
          },
          "colorscale": {
           "diverging": [
            [
             0,
             "#8e0152"
            ],
            [
             0.1,
             "#c51b7d"
            ],
            [
             0.2,
             "#de77ae"
            ],
            [
             0.3,
             "#f1b6da"
            ],
            [
             0.4,
             "#fde0ef"
            ],
            [
             0.5,
             "#f7f7f7"
            ],
            [
             0.6,
             "#e6f5d0"
            ],
            [
             0.7,
             "#b8e186"
            ],
            [
             0.8,
             "#7fbc41"
            ],
            [
             0.9,
             "#4d9221"
            ],
            [
             1,
             "#276419"
            ]
           ],
           "sequential": [
            [
             0,
             "#0d0887"
            ],
            [
             0.1111111111111111,
             "#46039f"
            ],
            [
             0.2222222222222222,
             "#7201a8"
            ],
            [
             0.3333333333333333,
             "#9c179e"
            ],
            [
             0.4444444444444444,
             "#bd3786"
            ],
            [
             0.5555555555555556,
             "#d8576b"
            ],
            [
             0.6666666666666666,
             "#ed7953"
            ],
            [
             0.7777777777777778,
             "#fb9f3a"
            ],
            [
             0.8888888888888888,
             "#fdca26"
            ],
            [
             1,
             "#f0f921"
            ]
           ],
           "sequentialminus": [
            [
             0,
             "#0d0887"
            ],
            [
             0.1111111111111111,
             "#46039f"
            ],
            [
             0.2222222222222222,
             "#7201a8"
            ],
            [
             0.3333333333333333,
             "#9c179e"
            ],
            [
             0.4444444444444444,
             "#bd3786"
            ],
            [
             0.5555555555555556,
             "#d8576b"
            ],
            [
             0.6666666666666666,
             "#ed7953"
            ],
            [
             0.7777777777777778,
             "#fb9f3a"
            ],
            [
             0.8888888888888888,
             "#fdca26"
            ],
            [
             1,
             "#f0f921"
            ]
           ]
          },
          "colorway": [
           "#636efa",
           "#EF553B",
           "#00cc96",
           "#ab63fa",
           "#FFA15A",
           "#19d3f3",
           "#FF6692",
           "#B6E880",
           "#FF97FF",
           "#FECB52"
          ],
          "font": {
           "color": "#2a3f5f"
          },
          "geo": {
           "bgcolor": "white",
           "lakecolor": "white",
           "landcolor": "#E5ECF6",
           "showlakes": true,
           "showland": true,
           "subunitcolor": "white"
          },
          "hoverlabel": {
           "align": "left"
          },
          "hovermode": "closest",
          "mapbox": {
           "style": "light"
          },
          "paper_bgcolor": "white",
          "plot_bgcolor": "#E5ECF6",
          "polar": {
           "angularaxis": {
            "gridcolor": "white",
            "linecolor": "white",
            "ticks": ""
           },
           "bgcolor": "#E5ECF6",
           "radialaxis": {
            "gridcolor": "white",
            "linecolor": "white",
            "ticks": ""
           }
          },
          "scene": {
           "xaxis": {
            "backgroundcolor": "#E5ECF6",
            "gridcolor": "white",
            "gridwidth": 2,
            "linecolor": "white",
            "showbackground": true,
            "ticks": "",
            "zerolinecolor": "white"
           },
           "yaxis": {
            "backgroundcolor": "#E5ECF6",
            "gridcolor": "white",
            "gridwidth": 2,
            "linecolor": "white",
            "showbackground": true,
            "ticks": "",
            "zerolinecolor": "white"
           },
           "zaxis": {
            "backgroundcolor": "#E5ECF6",
            "gridcolor": "white",
            "gridwidth": 2,
            "linecolor": "white",
            "showbackground": true,
            "ticks": "",
            "zerolinecolor": "white"
           }
          },
          "shapedefaults": {
           "line": {
            "color": "#2a3f5f"
           }
          },
          "ternary": {
           "aaxis": {
            "gridcolor": "white",
            "linecolor": "white",
            "ticks": ""
           },
           "baxis": {
            "gridcolor": "white",
            "linecolor": "white",
            "ticks": ""
           },
           "bgcolor": "#E5ECF6",
           "caxis": {
            "gridcolor": "white",
            "linecolor": "white",
            "ticks": ""
           }
          },
          "title": {
           "x": 0.05
          },
          "xaxis": {
           "automargin": true,
           "gridcolor": "white",
           "linecolor": "white",
           "ticks": "",
           "title": {
            "standoff": 15
           },
           "zerolinecolor": "white",
           "zerolinewidth": 2
          },
          "yaxis": {
           "automargin": true,
           "gridcolor": "white",
           "linecolor": "white",
           "ticks": "",
           "title": {
            "standoff": 15
           },
           "zerolinecolor": "white",
           "zerolinewidth": 2
          }
         }
        },
        "title": {
         "text": "Total score by company"
        }
       }
      }
     },
     "metadata": {},
     "output_type": "display_data"
    }
   ],
   "source": [
    "import plotly.graph_objects as go \n",
    "\n",
    "fig = go.Figure(go.Bar(x=df.iloc[51:100]['name'],y=df['total_score'].values),go.Layout(title_text='Total score by company'))\n",
    "fig.show()"
   ]
  },
  {
   "cell_type": "code",
   "execution_count": 149,
   "metadata": {},
   "outputs": [
    {
     "data": {
      "application/vnd.plotly.v1+json": {
       "config": {
        "plotlyServerURL": "https://plot.ly"
       },
       "data": [
        {
         "type": "bar",
         "x": [
          "Sports Ventures Acquisition Corp",
          "Arteris Inc",
          "Akero Therapeutics Inc",
          "Air T Inc",
          "Altra Industrial Motion Corp",
          "Akebia Therapeutics Inc",
          "Airgain Inc",
          "Airsculpt Technologies Inc",
          "Akamai Technologies Inc",
          "Akumin Inc",
          "Akouos Inc",
          "Akoustis Technologies Inc",
          "Akari Therapeutics PLC",
          "Albireo Pharma Inc",
          "Akoya Biosciences Inc",
          "Alico Inc",
          "Aldeyra Therapeutics Inc",
          "Alector Inc",
          "Allegro Microsystems Inc",
          "Alfi Inc",
          "Align Technology Inc",
          "Aligos Therapeutics Inc",
          "Alignment Healthcare LLC",
          "Alkermes Plc",
          "Alimera Sciences Inc",
          "Allegiant Travel Co",
          "Aesthetic Medical International Holdings Group Ltd",
          "Alkami Technology Inc",
          "Alnylam Pharmaceuticals Inc",
          "Allot Ltd",
          "Allogene Therapeutics Inc",
          "Applied Materials Inc",
          "Advanced Micro Devices Inc",
          "Activision Blizzard Inc",
          "Broadcom Inc",
          "ANSYS Inc",
          "Amazon.com Inc",
          "Senmiao Technology Ltd",
          "APA Corp (US)",
          "Biogen Inc",
          "Booking Holdings Inc",
          "Cadence Design Systems Inc",
          "CDW Corp",
          "CH Robinson Worldwide Inc",
          "Cincinnati Financial Corp",
          "Charter Communications Inc",
          "Comcast Corp",
          "Copart Inc",
          "Costco Wholesale Corp"
         ],
         "y": [
          1147,
          1068,
          880,
          1171,
          1052,
          1178,
          1255,
          608,
          746,
          741,
          785,
          1023,
          891,
          936,
          1000,
          605,
          604,
          821,
          1475,
          712,
          1129,
          606,
          659,
          898,
          745,
          637,
          765,
          705,
          744,
          731,
          1239,
          840,
          651,
          803,
          781,
          1127,
          1081,
          851,
          742,
          967,
          847,
          654,
          657,
          737,
          1183,
          675,
          812,
          901,
          841,
          621,
          953,
          824,
          706,
          968,
          703,
          704,
          824,
          816,
          643,
          1100,
          868,
          1169,
          1000,
          739,
          1112,
          818,
          852,
          800,
          937,
          1100,
          1100,
          777,
          600,
          844,
          1074,
          769,
          600,
          982,
          685,
          607,
          895,
          651,
          835,
          698,
          1076,
          1206,
          944,
          619,
          1148,
          628,
          929,
          1063,
          703,
          1103,
          863,
          656,
          763,
          742,
          1118,
          673,
          640,
          635,
          1086,
          801,
          769,
          1145,
          633,
          1130,
          616,
          1161,
          1102,
          721,
          952,
          746,
          1110,
          1030,
          1100,
          727,
          817,
          1106,
          800,
          775,
          667,
          768,
          1050,
          691,
          743,
          770,
          845,
          1002,
          1142,
          1164,
          1142,
          608,
          957,
          622,
          1202,
          1433,
          623,
          1151,
          1047,
          1174,
          1103,
          634,
          1243,
          760,
          1100,
          1165,
          679,
          1068,
          1145,
          1270,
          812,
          734,
          1100,
          1140,
          693,
          678,
          658,
          666,
          885,
          1126,
          1084,
          1107,
          1120,
          1012,
          630,
          1100,
          1150,
          1127,
          652,
          653,
          1159,
          1100,
          945,
          852,
          1533,
          1160,
          1115,
          1125,
          701,
          1143,
          899,
          773,
          1109,
          1170,
          1216,
          1139,
          1100,
          1000,
          1175,
          1000,
          716,
          1009,
          1144,
          1417,
          1155,
          1312,
          1150,
          1160,
          891,
          899,
          1137,
          1215,
          1156,
          1195,
          1078,
          1150,
          1088,
          1280,
          1145,
          842,
          993,
          1000,
          1100,
          903,
          629,
          1281,
          647,
          1100,
          1000,
          1227,
          1140,
          1229,
          629,
          1153,
          937,
          735,
          600,
          626,
          1037,
          1122,
          1120,
          1245,
          1125,
          1207,
          1221,
          989,
          1180,
          1184,
          1054,
          1077,
          1182,
          1151,
          1050,
          1179,
          971,
          1139,
          1168,
          1135,
          1442,
          1077,
          1049,
          1290,
          1255,
          1348,
          1282,
          1204,
          1098,
          1207,
          679,
          879,
          1116,
          1128,
          1306,
          802,
          961,
          1100,
          664,
          1188,
          1131,
          1025,
          695,
          1224,
          1197,
          1176,
          1150,
          1118,
          709,
          694,
          609,
          1000,
          1229,
          810,
          726,
          1125,
          1124,
          1119,
          669,
          664,
          735,
          1161,
          1267,
          626,
          969,
          1294,
          1153,
          1142,
          1171,
          1245,
          752,
          1115,
          1528,
          600,
          892,
          1144,
          1135,
          1136,
          1168,
          1358,
          1186,
          1173,
          1162,
          601,
          788,
          1100,
          1100,
          1136,
          725,
          1167,
          1269,
          1058,
          1113,
          1150,
          618,
          1138,
          1100,
          1127,
          1000,
          1100,
          1168,
          696,
          1120,
          1148,
          1381,
          1178,
          1063,
          1045,
          1157,
          1287,
          1262,
          1101,
          906,
          1107,
          1274,
          939,
          1110,
          1027,
          676,
          975,
          1100,
          658,
          853,
          1156,
          1268,
          749,
          685,
          1078,
          1162,
          1103,
          1242,
          873,
          1078,
          1408,
          1131,
          1232,
          1119,
          1099,
          1140,
          1075,
          1052,
          899,
          1412,
          1105,
          942,
          1115,
          761,
          1100,
          1130,
          1260,
          1170,
          1067,
          1131,
          1161,
          774,
          1086,
          1116,
          947,
          677,
          1396,
          1152,
          646,
          1061,
          1250,
          1110,
          600,
          600,
          1088,
          1100,
          1205,
          1100,
          1093,
          1100,
          1139,
          1409,
          1244,
          1011,
          1000,
          1100,
          1159,
          741,
          1218,
          1209,
          953,
          1090,
          1191,
          1245,
          1106,
          1182,
          1100,
          1189,
          1373,
          1063,
          797,
          1306,
          1238,
          1100,
          1100,
          1101,
          1175,
          954,
          811,
          638,
          1130,
          838,
          1340,
          1184,
          1173,
          1160,
          1178,
          1204,
          1186,
          1170,
          1157,
          1128,
          656,
          637,
          1242,
          1194,
          1091,
          1121,
          1067,
          1536,
          1100,
          1137,
          1218,
          1130,
          1192,
          1130,
          1140,
          1141,
          650,
          1131,
          1146,
          1120,
          655,
          901,
          786,
          1186,
          827,
          1300,
          927,
          1292,
          1155,
          1107,
          1093,
          1090,
          1005,
          1262,
          916,
          1121,
          1181,
          1000,
          1100,
          610,
          715,
          792,
          1419,
          868,
          680,
          753,
          1154,
          744,
          1181,
          1413,
          1112,
          772,
          732,
          636,
          1007,
          1153,
          1111,
          711,
          980,
          1157,
          1259,
          995,
          1100,
          1258,
          1243,
          1042,
          653,
          1295,
          891,
          828,
          1343,
          1086,
          928,
          940,
          1226,
          1114,
          1012,
          1138,
          989,
          1132,
          1127,
          1171,
          1164,
          647,
          1131,
          1180,
          1086,
          1165,
          1112,
          1103,
          1154,
          615,
          1197,
          1146,
          1120,
          856,
          908,
          668,
          1065,
          1096,
          918,
          1173,
          838,
          1175,
          819,
          1140,
          698,
          1192,
          656,
          1062,
          1160,
          1201,
          1276,
          1133,
          1038,
          1083,
          769,
          1133,
          827,
          973,
          949,
          1152,
          897,
          610,
          642,
          1123,
          707,
          1166,
          674,
          1000,
          871,
          1100,
          998,
          1173,
          1110,
          950,
          865,
          1039,
          1088,
          658,
          834,
          615,
          922,
          722,
          996,
          759,
          1199,
          623,
          1178,
          747,
          600,
          620,
          755,
          697,
          933,
          763,
          1127,
          751,
          747,
          1005,
          1106,
          690,
          1256,
          1127,
          748,
          640,
          717,
          1081,
          768,
          968,
          886,
          1195,
          692,
          607,
          931,
          941,
          808,
          769,
          914,
          1057,
          686,
          899,
          721,
          1206,
          645,
          758,
          690,
          877,
          641,
          1182,
          1142,
          763,
          621,
          737,
          673,
          732,
          632,
          771,
          809,
          820,
          1189,
          750,
          1095,
          1101,
          717,
          651,
          1225,
          849,
          826,
          795,
          600,
          653,
          1165,
          657,
          660,
          751,
          1208,
          1060,
          1022,
          1104,
          919,
          630,
          724,
          667,
          713,
          912,
          991,
          1109,
          747,
          820,
          716,
          955,
          817,
          1146,
          940,
          669,
          1018,
          770,
          792,
          751,
          935,
          617,
          616,
          1015,
          630,
          958,
          634,
          635,
          1033,
          726,
          1127,
          762,
          620,
          1011,
          930,
          621,
          1137,
          1209,
          646,
          600,
          929,
          649,
          1363,
          1140,
          747,
          615,
          765,
          1243,
          1200,
          1056,
          951,
          843,
          1138,
          1100,
          1129,
          819,
          633
         ]
        }
       ],
       "layout": {
        "template": {
         "data": {
          "bar": [
           {
            "error_x": {
             "color": "#2a3f5f"
            },
            "error_y": {
             "color": "#2a3f5f"
            },
            "marker": {
             "line": {
              "color": "#E5ECF6",
              "width": 0.5
             },
             "pattern": {
              "fillmode": "overlay",
              "size": 10,
              "solidity": 0.2
             }
            },
            "type": "bar"
           }
          ],
          "barpolar": [
           {
            "marker": {
             "line": {
              "color": "#E5ECF6",
              "width": 0.5
             },
             "pattern": {
              "fillmode": "overlay",
              "size": 10,
              "solidity": 0.2
             }
            },
            "type": "barpolar"
           }
          ],
          "carpet": [
           {
            "aaxis": {
             "endlinecolor": "#2a3f5f",
             "gridcolor": "white",
             "linecolor": "white",
             "minorgridcolor": "white",
             "startlinecolor": "#2a3f5f"
            },
            "baxis": {
             "endlinecolor": "#2a3f5f",
             "gridcolor": "white",
             "linecolor": "white",
             "minorgridcolor": "white",
             "startlinecolor": "#2a3f5f"
            },
            "type": "carpet"
           }
          ],
          "choropleth": [
           {
            "colorbar": {
             "outlinewidth": 0,
             "ticks": ""
            },
            "type": "choropleth"
           }
          ],
          "contour": [
           {
            "colorbar": {
             "outlinewidth": 0,
             "ticks": ""
            },
            "colorscale": [
             [
              0,
              "#0d0887"
             ],
             [
              0.1111111111111111,
              "#46039f"
             ],
             [
              0.2222222222222222,
              "#7201a8"
             ],
             [
              0.3333333333333333,
              "#9c179e"
             ],
             [
              0.4444444444444444,
              "#bd3786"
             ],
             [
              0.5555555555555556,
              "#d8576b"
             ],
             [
              0.6666666666666666,
              "#ed7953"
             ],
             [
              0.7777777777777778,
              "#fb9f3a"
             ],
             [
              0.8888888888888888,
              "#fdca26"
             ],
             [
              1,
              "#f0f921"
             ]
            ],
            "type": "contour"
           }
          ],
          "contourcarpet": [
           {
            "colorbar": {
             "outlinewidth": 0,
             "ticks": ""
            },
            "type": "contourcarpet"
           }
          ],
          "heatmap": [
           {
            "colorbar": {
             "outlinewidth": 0,
             "ticks": ""
            },
            "colorscale": [
             [
              0,
              "#0d0887"
             ],
             [
              0.1111111111111111,
              "#46039f"
             ],
             [
              0.2222222222222222,
              "#7201a8"
             ],
             [
              0.3333333333333333,
              "#9c179e"
             ],
             [
              0.4444444444444444,
              "#bd3786"
             ],
             [
              0.5555555555555556,
              "#d8576b"
             ],
             [
              0.6666666666666666,
              "#ed7953"
             ],
             [
              0.7777777777777778,
              "#fb9f3a"
             ],
             [
              0.8888888888888888,
              "#fdca26"
             ],
             [
              1,
              "#f0f921"
             ]
            ],
            "type": "heatmap"
           }
          ],
          "heatmapgl": [
           {
            "colorbar": {
             "outlinewidth": 0,
             "ticks": ""
            },
            "colorscale": [
             [
              0,
              "#0d0887"
             ],
             [
              0.1111111111111111,
              "#46039f"
             ],
             [
              0.2222222222222222,
              "#7201a8"
             ],
             [
              0.3333333333333333,
              "#9c179e"
             ],
             [
              0.4444444444444444,
              "#bd3786"
             ],
             [
              0.5555555555555556,
              "#d8576b"
             ],
             [
              0.6666666666666666,
              "#ed7953"
             ],
             [
              0.7777777777777778,
              "#fb9f3a"
             ],
             [
              0.8888888888888888,
              "#fdca26"
             ],
             [
              1,
              "#f0f921"
             ]
            ],
            "type": "heatmapgl"
           }
          ],
          "histogram": [
           {
            "marker": {
             "pattern": {
              "fillmode": "overlay",
              "size": 10,
              "solidity": 0.2
             }
            },
            "type": "histogram"
           }
          ],
          "histogram2d": [
           {
            "colorbar": {
             "outlinewidth": 0,
             "ticks": ""
            },
            "colorscale": [
             [
              0,
              "#0d0887"
             ],
             [
              0.1111111111111111,
              "#46039f"
             ],
             [
              0.2222222222222222,
              "#7201a8"
             ],
             [
              0.3333333333333333,
              "#9c179e"
             ],
             [
              0.4444444444444444,
              "#bd3786"
             ],
             [
              0.5555555555555556,
              "#d8576b"
             ],
             [
              0.6666666666666666,
              "#ed7953"
             ],
             [
              0.7777777777777778,
              "#fb9f3a"
             ],
             [
              0.8888888888888888,
              "#fdca26"
             ],
             [
              1,
              "#f0f921"
             ]
            ],
            "type": "histogram2d"
           }
          ],
          "histogram2dcontour": [
           {
            "colorbar": {
             "outlinewidth": 0,
             "ticks": ""
            },
            "colorscale": [
             [
              0,
              "#0d0887"
             ],
             [
              0.1111111111111111,
              "#46039f"
             ],
             [
              0.2222222222222222,
              "#7201a8"
             ],
             [
              0.3333333333333333,
              "#9c179e"
             ],
             [
              0.4444444444444444,
              "#bd3786"
             ],
             [
              0.5555555555555556,
              "#d8576b"
             ],
             [
              0.6666666666666666,
              "#ed7953"
             ],
             [
              0.7777777777777778,
              "#fb9f3a"
             ],
             [
              0.8888888888888888,
              "#fdca26"
             ],
             [
              1,
              "#f0f921"
             ]
            ],
            "type": "histogram2dcontour"
           }
          ],
          "mesh3d": [
           {
            "colorbar": {
             "outlinewidth": 0,
             "ticks": ""
            },
            "type": "mesh3d"
           }
          ],
          "parcoords": [
           {
            "line": {
             "colorbar": {
              "outlinewidth": 0,
              "ticks": ""
             }
            },
            "type": "parcoords"
           }
          ],
          "pie": [
           {
            "automargin": true,
            "type": "pie"
           }
          ],
          "scatter": [
           {
            "fillpattern": {
             "fillmode": "overlay",
             "size": 10,
             "solidity": 0.2
            },
            "type": "scatter"
           }
          ],
          "scatter3d": [
           {
            "line": {
             "colorbar": {
              "outlinewidth": 0,
              "ticks": ""
             }
            },
            "marker": {
             "colorbar": {
              "outlinewidth": 0,
              "ticks": ""
             }
            },
            "type": "scatter3d"
           }
          ],
          "scattercarpet": [
           {
            "marker": {
             "colorbar": {
              "outlinewidth": 0,
              "ticks": ""
             }
            },
            "type": "scattercarpet"
           }
          ],
          "scattergeo": [
           {
            "marker": {
             "colorbar": {
              "outlinewidth": 0,
              "ticks": ""
             }
            },
            "type": "scattergeo"
           }
          ],
          "scattergl": [
           {
            "marker": {
             "colorbar": {
              "outlinewidth": 0,
              "ticks": ""
             }
            },
            "type": "scattergl"
           }
          ],
          "scattermapbox": [
           {
            "marker": {
             "colorbar": {
              "outlinewidth": 0,
              "ticks": ""
             }
            },
            "type": "scattermapbox"
           }
          ],
          "scatterpolar": [
           {
            "marker": {
             "colorbar": {
              "outlinewidth": 0,
              "ticks": ""
             }
            },
            "type": "scatterpolar"
           }
          ],
          "scatterpolargl": [
           {
            "marker": {
             "colorbar": {
              "outlinewidth": 0,
              "ticks": ""
             }
            },
            "type": "scatterpolargl"
           }
          ],
          "scatterternary": [
           {
            "marker": {
             "colorbar": {
              "outlinewidth": 0,
              "ticks": ""
             }
            },
            "type": "scatterternary"
           }
          ],
          "surface": [
           {
            "colorbar": {
             "outlinewidth": 0,
             "ticks": ""
            },
            "colorscale": [
             [
              0,
              "#0d0887"
             ],
             [
              0.1111111111111111,
              "#46039f"
             ],
             [
              0.2222222222222222,
              "#7201a8"
             ],
             [
              0.3333333333333333,
              "#9c179e"
             ],
             [
              0.4444444444444444,
              "#bd3786"
             ],
             [
              0.5555555555555556,
              "#d8576b"
             ],
             [
              0.6666666666666666,
              "#ed7953"
             ],
             [
              0.7777777777777778,
              "#fb9f3a"
             ],
             [
              0.8888888888888888,
              "#fdca26"
             ],
             [
              1,
              "#f0f921"
             ]
            ],
            "type": "surface"
           }
          ],
          "table": [
           {
            "cells": {
             "fill": {
              "color": "#EBF0F8"
             },
             "line": {
              "color": "white"
             }
            },
            "header": {
             "fill": {
              "color": "#C8D4E3"
             },
             "line": {
              "color": "white"
             }
            },
            "type": "table"
           }
          ]
         },
         "layout": {
          "annotationdefaults": {
           "arrowcolor": "#2a3f5f",
           "arrowhead": 0,
           "arrowwidth": 1
          },
          "autotypenumbers": "strict",
          "coloraxis": {
           "colorbar": {
            "outlinewidth": 0,
            "ticks": ""
           }
          },
          "colorscale": {
           "diverging": [
            [
             0,
             "#8e0152"
            ],
            [
             0.1,
             "#c51b7d"
            ],
            [
             0.2,
             "#de77ae"
            ],
            [
             0.3,
             "#f1b6da"
            ],
            [
             0.4,
             "#fde0ef"
            ],
            [
             0.5,
             "#f7f7f7"
            ],
            [
             0.6,
             "#e6f5d0"
            ],
            [
             0.7,
             "#b8e186"
            ],
            [
             0.8,
             "#7fbc41"
            ],
            [
             0.9,
             "#4d9221"
            ],
            [
             1,
             "#276419"
            ]
           ],
           "sequential": [
            [
             0,
             "#0d0887"
            ],
            [
             0.1111111111111111,
             "#46039f"
            ],
            [
             0.2222222222222222,
             "#7201a8"
            ],
            [
             0.3333333333333333,
             "#9c179e"
            ],
            [
             0.4444444444444444,
             "#bd3786"
            ],
            [
             0.5555555555555556,
             "#d8576b"
            ],
            [
             0.6666666666666666,
             "#ed7953"
            ],
            [
             0.7777777777777778,
             "#fb9f3a"
            ],
            [
             0.8888888888888888,
             "#fdca26"
            ],
            [
             1,
             "#f0f921"
            ]
           ],
           "sequentialminus": [
            [
             0,
             "#0d0887"
            ],
            [
             0.1111111111111111,
             "#46039f"
            ],
            [
             0.2222222222222222,
             "#7201a8"
            ],
            [
             0.3333333333333333,
             "#9c179e"
            ],
            [
             0.4444444444444444,
             "#bd3786"
            ],
            [
             0.5555555555555556,
             "#d8576b"
            ],
            [
             0.6666666666666666,
             "#ed7953"
            ],
            [
             0.7777777777777778,
             "#fb9f3a"
            ],
            [
             0.8888888888888888,
             "#fdca26"
            ],
            [
             1,
             "#f0f921"
            ]
           ]
          },
          "colorway": [
           "#636efa",
           "#EF553B",
           "#00cc96",
           "#ab63fa",
           "#FFA15A",
           "#19d3f3",
           "#FF6692",
           "#B6E880",
           "#FF97FF",
           "#FECB52"
          ],
          "font": {
           "color": "#2a3f5f"
          },
          "geo": {
           "bgcolor": "white",
           "lakecolor": "white",
           "landcolor": "#E5ECF6",
           "showlakes": true,
           "showland": true,
           "subunitcolor": "white"
          },
          "hoverlabel": {
           "align": "left"
          },
          "hovermode": "closest",
          "mapbox": {
           "style": "light"
          },
          "paper_bgcolor": "white",
          "plot_bgcolor": "#E5ECF6",
          "polar": {
           "angularaxis": {
            "gridcolor": "white",
            "linecolor": "white",
            "ticks": ""
           },
           "bgcolor": "#E5ECF6",
           "radialaxis": {
            "gridcolor": "white",
            "linecolor": "white",
            "ticks": ""
           }
          },
          "scene": {
           "xaxis": {
            "backgroundcolor": "#E5ECF6",
            "gridcolor": "white",
            "gridwidth": 2,
            "linecolor": "white",
            "showbackground": true,
            "ticks": "",
            "zerolinecolor": "white"
           },
           "yaxis": {
            "backgroundcolor": "#E5ECF6",
            "gridcolor": "white",
            "gridwidth": 2,
            "linecolor": "white",
            "showbackground": true,
            "ticks": "",
            "zerolinecolor": "white"
           },
           "zaxis": {
            "backgroundcolor": "#E5ECF6",
            "gridcolor": "white",
            "gridwidth": 2,
            "linecolor": "white",
            "showbackground": true,
            "ticks": "",
            "zerolinecolor": "white"
           }
          },
          "shapedefaults": {
           "line": {
            "color": "#2a3f5f"
           }
          },
          "ternary": {
           "aaxis": {
            "gridcolor": "white",
            "linecolor": "white",
            "ticks": ""
           },
           "baxis": {
            "gridcolor": "white",
            "linecolor": "white",
            "ticks": ""
           },
           "bgcolor": "#E5ECF6",
           "caxis": {
            "gridcolor": "white",
            "linecolor": "white",
            "ticks": ""
           }
          },
          "title": {
           "x": 0.05
          },
          "xaxis": {
           "automargin": true,
           "gridcolor": "white",
           "linecolor": "white",
           "ticks": "",
           "title": {
            "standoff": 15
           },
           "zerolinecolor": "white",
           "zerolinewidth": 2
          },
          "yaxis": {
           "automargin": true,
           "gridcolor": "white",
           "linecolor": "white",
           "ticks": "",
           "title": {
            "standoff": 15
           },
           "zerolinecolor": "white",
           "zerolinewidth": 2
          }
         }
        },
        "title": {
         "text": "Total score by company"
        }
       }
      }
     },
     "metadata": {},
     "output_type": "display_data"
    }
   ],
   "source": [
    "import plotly.graph_objects as go \n",
    "\n",
    "fig = go.Figure(go.Bar(x=df.iloc[101:150]['name'],y=df['total_score'].values),go.Layout(title_text='Total score by company'))\n",
    "fig.show()"
   ]
  },
  {
   "cell_type": "code",
   "execution_count": 150,
   "metadata": {},
   "outputs": [
    {
     "data": {
      "application/vnd.plotly.v1+json": {
       "config": {
        "plotlyServerURL": "https://plot.ly"
       },
       "data": [
        {
         "type": "bar",
         "x": [
          "Cognizant Technology Solutions Corp",
          "CME Group Inc",
          "Cisco Systems Inc",
          "Cintas Corp",
          "Citrix Systems Inc",
          "Caesars Entertainment Inc",
          "DISH Network Corp",
          "Dollar Tree Inc",
          "Dexcom Inc",
          "Electronic Arts Inc",
          "Alliant Energy Corp",
          "Diamondback Energy Inc",
          "eBay Inc",
          "LKQ Corp",
          "Alphabet Inc",
          "Marriott International Inc",
          "Microchip Technology Inc",
          "Lam Research Corp",
          "Mondelez International Inc",
          "Meta Platforms Inc",
          "Marketaxess Holdings Inc",
          "Monster Beverage Corp",
          "Moderna Inc",
          "Match Group Inc",
          "Monolithic Power Systems Inc",
          "Microsoft Corp",
          "Micron Technology Inc",
          "Nasdaq Inc",
          "NortonLifeLock Inc",
          "Northern Trust Corp",
          "Newell Brands Inc",
          "NVIDIA Corp",
          "Allakos Inc",
          "News Corp",
          "Old Dominion Freight Line Inc",
          "Paccar Inc",
          "NXP Semiconductors NV",
          "O'Reilly Automotive Inc",
          "Paychex Inc",
          "Principal Financial Group Inc",
          "Ross Stores Inc",
          "SBA Communications Corp",
          "Qualcomm Inc",
          "Pool Corp",
          "PepsiCo Inc",
          "Starbucks Corp",
          "Regency Centers Corp",
          "Qorvo Inc",
          "PTC Inc"
         ],
         "y": [
          1147,
          1068,
          880,
          1171,
          1052,
          1178,
          1255,
          608,
          746,
          741,
          785,
          1023,
          891,
          936,
          1000,
          605,
          604,
          821,
          1475,
          712,
          1129,
          606,
          659,
          898,
          745,
          637,
          765,
          705,
          744,
          731,
          1239,
          840,
          651,
          803,
          781,
          1127,
          1081,
          851,
          742,
          967,
          847,
          654,
          657,
          737,
          1183,
          675,
          812,
          901,
          841,
          621,
          953,
          824,
          706,
          968,
          703,
          704,
          824,
          816,
          643,
          1100,
          868,
          1169,
          1000,
          739,
          1112,
          818,
          852,
          800,
          937,
          1100,
          1100,
          777,
          600,
          844,
          1074,
          769,
          600,
          982,
          685,
          607,
          895,
          651,
          835,
          698,
          1076,
          1206,
          944,
          619,
          1148,
          628,
          929,
          1063,
          703,
          1103,
          863,
          656,
          763,
          742,
          1118,
          673,
          640,
          635,
          1086,
          801,
          769,
          1145,
          633,
          1130,
          616,
          1161,
          1102,
          721,
          952,
          746,
          1110,
          1030,
          1100,
          727,
          817,
          1106,
          800,
          775,
          667,
          768,
          1050,
          691,
          743,
          770,
          845,
          1002,
          1142,
          1164,
          1142,
          608,
          957,
          622,
          1202,
          1433,
          623,
          1151,
          1047,
          1174,
          1103,
          634,
          1243,
          760,
          1100,
          1165,
          679,
          1068,
          1145,
          1270,
          812,
          734,
          1100,
          1140,
          693,
          678,
          658,
          666,
          885,
          1126,
          1084,
          1107,
          1120,
          1012,
          630,
          1100,
          1150,
          1127,
          652,
          653,
          1159,
          1100,
          945,
          852,
          1533,
          1160,
          1115,
          1125,
          701,
          1143,
          899,
          773,
          1109,
          1170,
          1216,
          1139,
          1100,
          1000,
          1175,
          1000,
          716,
          1009,
          1144,
          1417,
          1155,
          1312,
          1150,
          1160,
          891,
          899,
          1137,
          1215,
          1156,
          1195,
          1078,
          1150,
          1088,
          1280,
          1145,
          842,
          993,
          1000,
          1100,
          903,
          629,
          1281,
          647,
          1100,
          1000,
          1227,
          1140,
          1229,
          629,
          1153,
          937,
          735,
          600,
          626,
          1037,
          1122,
          1120,
          1245,
          1125,
          1207,
          1221,
          989,
          1180,
          1184,
          1054,
          1077,
          1182,
          1151,
          1050,
          1179,
          971,
          1139,
          1168,
          1135,
          1442,
          1077,
          1049,
          1290,
          1255,
          1348,
          1282,
          1204,
          1098,
          1207,
          679,
          879,
          1116,
          1128,
          1306,
          802,
          961,
          1100,
          664,
          1188,
          1131,
          1025,
          695,
          1224,
          1197,
          1176,
          1150,
          1118,
          709,
          694,
          609,
          1000,
          1229,
          810,
          726,
          1125,
          1124,
          1119,
          669,
          664,
          735,
          1161,
          1267,
          626,
          969,
          1294,
          1153,
          1142,
          1171,
          1245,
          752,
          1115,
          1528,
          600,
          892,
          1144,
          1135,
          1136,
          1168,
          1358,
          1186,
          1173,
          1162,
          601,
          788,
          1100,
          1100,
          1136,
          725,
          1167,
          1269,
          1058,
          1113,
          1150,
          618,
          1138,
          1100,
          1127,
          1000,
          1100,
          1168,
          696,
          1120,
          1148,
          1381,
          1178,
          1063,
          1045,
          1157,
          1287,
          1262,
          1101,
          906,
          1107,
          1274,
          939,
          1110,
          1027,
          676,
          975,
          1100,
          658,
          853,
          1156,
          1268,
          749,
          685,
          1078,
          1162,
          1103,
          1242,
          873,
          1078,
          1408,
          1131,
          1232,
          1119,
          1099,
          1140,
          1075,
          1052,
          899,
          1412,
          1105,
          942,
          1115,
          761,
          1100,
          1130,
          1260,
          1170,
          1067,
          1131,
          1161,
          774,
          1086,
          1116,
          947,
          677,
          1396,
          1152,
          646,
          1061,
          1250,
          1110,
          600,
          600,
          1088,
          1100,
          1205,
          1100,
          1093,
          1100,
          1139,
          1409,
          1244,
          1011,
          1000,
          1100,
          1159,
          741,
          1218,
          1209,
          953,
          1090,
          1191,
          1245,
          1106,
          1182,
          1100,
          1189,
          1373,
          1063,
          797,
          1306,
          1238,
          1100,
          1100,
          1101,
          1175,
          954,
          811,
          638,
          1130,
          838,
          1340,
          1184,
          1173,
          1160,
          1178,
          1204,
          1186,
          1170,
          1157,
          1128,
          656,
          637,
          1242,
          1194,
          1091,
          1121,
          1067,
          1536,
          1100,
          1137,
          1218,
          1130,
          1192,
          1130,
          1140,
          1141,
          650,
          1131,
          1146,
          1120,
          655,
          901,
          786,
          1186,
          827,
          1300,
          927,
          1292,
          1155,
          1107,
          1093,
          1090,
          1005,
          1262,
          916,
          1121,
          1181,
          1000,
          1100,
          610,
          715,
          792,
          1419,
          868,
          680,
          753,
          1154,
          744,
          1181,
          1413,
          1112,
          772,
          732,
          636,
          1007,
          1153,
          1111,
          711,
          980,
          1157,
          1259,
          995,
          1100,
          1258,
          1243,
          1042,
          653,
          1295,
          891,
          828,
          1343,
          1086,
          928,
          940,
          1226,
          1114,
          1012,
          1138,
          989,
          1132,
          1127,
          1171,
          1164,
          647,
          1131,
          1180,
          1086,
          1165,
          1112,
          1103,
          1154,
          615,
          1197,
          1146,
          1120,
          856,
          908,
          668,
          1065,
          1096,
          918,
          1173,
          838,
          1175,
          819,
          1140,
          698,
          1192,
          656,
          1062,
          1160,
          1201,
          1276,
          1133,
          1038,
          1083,
          769,
          1133,
          827,
          973,
          949,
          1152,
          897,
          610,
          642,
          1123,
          707,
          1166,
          674,
          1000,
          871,
          1100,
          998,
          1173,
          1110,
          950,
          865,
          1039,
          1088,
          658,
          834,
          615,
          922,
          722,
          996,
          759,
          1199,
          623,
          1178,
          747,
          600,
          620,
          755,
          697,
          933,
          763,
          1127,
          751,
          747,
          1005,
          1106,
          690,
          1256,
          1127,
          748,
          640,
          717,
          1081,
          768,
          968,
          886,
          1195,
          692,
          607,
          931,
          941,
          808,
          769,
          914,
          1057,
          686,
          899,
          721,
          1206,
          645,
          758,
          690,
          877,
          641,
          1182,
          1142,
          763,
          621,
          737,
          673,
          732,
          632,
          771,
          809,
          820,
          1189,
          750,
          1095,
          1101,
          717,
          651,
          1225,
          849,
          826,
          795,
          600,
          653,
          1165,
          657,
          660,
          751,
          1208,
          1060,
          1022,
          1104,
          919,
          630,
          724,
          667,
          713,
          912,
          991,
          1109,
          747,
          820,
          716,
          955,
          817,
          1146,
          940,
          669,
          1018,
          770,
          792,
          751,
          935,
          617,
          616,
          1015,
          630,
          958,
          634,
          635,
          1033,
          726,
          1127,
          762,
          620,
          1011,
          930,
          621,
          1137,
          1209,
          646,
          600,
          929,
          649,
          1363,
          1140,
          747,
          615,
          765,
          1243,
          1200,
          1056,
          951,
          843,
          1138,
          1100,
          1129,
          819,
          633
         ]
        }
       ],
       "layout": {
        "template": {
         "data": {
          "bar": [
           {
            "error_x": {
             "color": "#2a3f5f"
            },
            "error_y": {
             "color": "#2a3f5f"
            },
            "marker": {
             "line": {
              "color": "#E5ECF6",
              "width": 0.5
             },
             "pattern": {
              "fillmode": "overlay",
              "size": 10,
              "solidity": 0.2
             }
            },
            "type": "bar"
           }
          ],
          "barpolar": [
           {
            "marker": {
             "line": {
              "color": "#E5ECF6",
              "width": 0.5
             },
             "pattern": {
              "fillmode": "overlay",
              "size": 10,
              "solidity": 0.2
             }
            },
            "type": "barpolar"
           }
          ],
          "carpet": [
           {
            "aaxis": {
             "endlinecolor": "#2a3f5f",
             "gridcolor": "white",
             "linecolor": "white",
             "minorgridcolor": "white",
             "startlinecolor": "#2a3f5f"
            },
            "baxis": {
             "endlinecolor": "#2a3f5f",
             "gridcolor": "white",
             "linecolor": "white",
             "minorgridcolor": "white",
             "startlinecolor": "#2a3f5f"
            },
            "type": "carpet"
           }
          ],
          "choropleth": [
           {
            "colorbar": {
             "outlinewidth": 0,
             "ticks": ""
            },
            "type": "choropleth"
           }
          ],
          "contour": [
           {
            "colorbar": {
             "outlinewidth": 0,
             "ticks": ""
            },
            "colorscale": [
             [
              0,
              "#0d0887"
             ],
             [
              0.1111111111111111,
              "#46039f"
             ],
             [
              0.2222222222222222,
              "#7201a8"
             ],
             [
              0.3333333333333333,
              "#9c179e"
             ],
             [
              0.4444444444444444,
              "#bd3786"
             ],
             [
              0.5555555555555556,
              "#d8576b"
             ],
             [
              0.6666666666666666,
              "#ed7953"
             ],
             [
              0.7777777777777778,
              "#fb9f3a"
             ],
             [
              0.8888888888888888,
              "#fdca26"
             ],
             [
              1,
              "#f0f921"
             ]
            ],
            "type": "contour"
           }
          ],
          "contourcarpet": [
           {
            "colorbar": {
             "outlinewidth": 0,
             "ticks": ""
            },
            "type": "contourcarpet"
           }
          ],
          "heatmap": [
           {
            "colorbar": {
             "outlinewidth": 0,
             "ticks": ""
            },
            "colorscale": [
             [
              0,
              "#0d0887"
             ],
             [
              0.1111111111111111,
              "#46039f"
             ],
             [
              0.2222222222222222,
              "#7201a8"
             ],
             [
              0.3333333333333333,
              "#9c179e"
             ],
             [
              0.4444444444444444,
              "#bd3786"
             ],
             [
              0.5555555555555556,
              "#d8576b"
             ],
             [
              0.6666666666666666,
              "#ed7953"
             ],
             [
              0.7777777777777778,
              "#fb9f3a"
             ],
             [
              0.8888888888888888,
              "#fdca26"
             ],
             [
              1,
              "#f0f921"
             ]
            ],
            "type": "heatmap"
           }
          ],
          "heatmapgl": [
           {
            "colorbar": {
             "outlinewidth": 0,
             "ticks": ""
            },
            "colorscale": [
             [
              0,
              "#0d0887"
             ],
             [
              0.1111111111111111,
              "#46039f"
             ],
             [
              0.2222222222222222,
              "#7201a8"
             ],
             [
              0.3333333333333333,
              "#9c179e"
             ],
             [
              0.4444444444444444,
              "#bd3786"
             ],
             [
              0.5555555555555556,
              "#d8576b"
             ],
             [
              0.6666666666666666,
              "#ed7953"
             ],
             [
              0.7777777777777778,
              "#fb9f3a"
             ],
             [
              0.8888888888888888,
              "#fdca26"
             ],
             [
              1,
              "#f0f921"
             ]
            ],
            "type": "heatmapgl"
           }
          ],
          "histogram": [
           {
            "marker": {
             "pattern": {
              "fillmode": "overlay",
              "size": 10,
              "solidity": 0.2
             }
            },
            "type": "histogram"
           }
          ],
          "histogram2d": [
           {
            "colorbar": {
             "outlinewidth": 0,
             "ticks": ""
            },
            "colorscale": [
             [
              0,
              "#0d0887"
             ],
             [
              0.1111111111111111,
              "#46039f"
             ],
             [
              0.2222222222222222,
              "#7201a8"
             ],
             [
              0.3333333333333333,
              "#9c179e"
             ],
             [
              0.4444444444444444,
              "#bd3786"
             ],
             [
              0.5555555555555556,
              "#d8576b"
             ],
             [
              0.6666666666666666,
              "#ed7953"
             ],
             [
              0.7777777777777778,
              "#fb9f3a"
             ],
             [
              0.8888888888888888,
              "#fdca26"
             ],
             [
              1,
              "#f0f921"
             ]
            ],
            "type": "histogram2d"
           }
          ],
          "histogram2dcontour": [
           {
            "colorbar": {
             "outlinewidth": 0,
             "ticks": ""
            },
            "colorscale": [
             [
              0,
              "#0d0887"
             ],
             [
              0.1111111111111111,
              "#46039f"
             ],
             [
              0.2222222222222222,
              "#7201a8"
             ],
             [
              0.3333333333333333,
              "#9c179e"
             ],
             [
              0.4444444444444444,
              "#bd3786"
             ],
             [
              0.5555555555555556,
              "#d8576b"
             ],
             [
              0.6666666666666666,
              "#ed7953"
             ],
             [
              0.7777777777777778,
              "#fb9f3a"
             ],
             [
              0.8888888888888888,
              "#fdca26"
             ],
             [
              1,
              "#f0f921"
             ]
            ],
            "type": "histogram2dcontour"
           }
          ],
          "mesh3d": [
           {
            "colorbar": {
             "outlinewidth": 0,
             "ticks": ""
            },
            "type": "mesh3d"
           }
          ],
          "parcoords": [
           {
            "line": {
             "colorbar": {
              "outlinewidth": 0,
              "ticks": ""
             }
            },
            "type": "parcoords"
           }
          ],
          "pie": [
           {
            "automargin": true,
            "type": "pie"
           }
          ],
          "scatter": [
           {
            "fillpattern": {
             "fillmode": "overlay",
             "size": 10,
             "solidity": 0.2
            },
            "type": "scatter"
           }
          ],
          "scatter3d": [
           {
            "line": {
             "colorbar": {
              "outlinewidth": 0,
              "ticks": ""
             }
            },
            "marker": {
             "colorbar": {
              "outlinewidth": 0,
              "ticks": ""
             }
            },
            "type": "scatter3d"
           }
          ],
          "scattercarpet": [
           {
            "marker": {
             "colorbar": {
              "outlinewidth": 0,
              "ticks": ""
             }
            },
            "type": "scattercarpet"
           }
          ],
          "scattergeo": [
           {
            "marker": {
             "colorbar": {
              "outlinewidth": 0,
              "ticks": ""
             }
            },
            "type": "scattergeo"
           }
          ],
          "scattergl": [
           {
            "marker": {
             "colorbar": {
              "outlinewidth": 0,
              "ticks": ""
             }
            },
            "type": "scattergl"
           }
          ],
          "scattermapbox": [
           {
            "marker": {
             "colorbar": {
              "outlinewidth": 0,
              "ticks": ""
             }
            },
            "type": "scattermapbox"
           }
          ],
          "scatterpolar": [
           {
            "marker": {
             "colorbar": {
              "outlinewidth": 0,
              "ticks": ""
             }
            },
            "type": "scatterpolar"
           }
          ],
          "scatterpolargl": [
           {
            "marker": {
             "colorbar": {
              "outlinewidth": 0,
              "ticks": ""
             }
            },
            "type": "scatterpolargl"
           }
          ],
          "scatterternary": [
           {
            "marker": {
             "colorbar": {
              "outlinewidth": 0,
              "ticks": ""
             }
            },
            "type": "scatterternary"
           }
          ],
          "surface": [
           {
            "colorbar": {
             "outlinewidth": 0,
             "ticks": ""
            },
            "colorscale": [
             [
              0,
              "#0d0887"
             ],
             [
              0.1111111111111111,
              "#46039f"
             ],
             [
              0.2222222222222222,
              "#7201a8"
             ],
             [
              0.3333333333333333,
              "#9c179e"
             ],
             [
              0.4444444444444444,
              "#bd3786"
             ],
             [
              0.5555555555555556,
              "#d8576b"
             ],
             [
              0.6666666666666666,
              "#ed7953"
             ],
             [
              0.7777777777777778,
              "#fb9f3a"
             ],
             [
              0.8888888888888888,
              "#fdca26"
             ],
             [
              1,
              "#f0f921"
             ]
            ],
            "type": "surface"
           }
          ],
          "table": [
           {
            "cells": {
             "fill": {
              "color": "#EBF0F8"
             },
             "line": {
              "color": "white"
             }
            },
            "header": {
             "fill": {
              "color": "#C8D4E3"
             },
             "line": {
              "color": "white"
             }
            },
            "type": "table"
           }
          ]
         },
         "layout": {
          "annotationdefaults": {
           "arrowcolor": "#2a3f5f",
           "arrowhead": 0,
           "arrowwidth": 1
          },
          "autotypenumbers": "strict",
          "coloraxis": {
           "colorbar": {
            "outlinewidth": 0,
            "ticks": ""
           }
          },
          "colorscale": {
           "diverging": [
            [
             0,
             "#8e0152"
            ],
            [
             0.1,
             "#c51b7d"
            ],
            [
             0.2,
             "#de77ae"
            ],
            [
             0.3,
             "#f1b6da"
            ],
            [
             0.4,
             "#fde0ef"
            ],
            [
             0.5,
             "#f7f7f7"
            ],
            [
             0.6,
             "#e6f5d0"
            ],
            [
             0.7,
             "#b8e186"
            ],
            [
             0.8,
             "#7fbc41"
            ],
            [
             0.9,
             "#4d9221"
            ],
            [
             1,
             "#276419"
            ]
           ],
           "sequential": [
            [
             0,
             "#0d0887"
            ],
            [
             0.1111111111111111,
             "#46039f"
            ],
            [
             0.2222222222222222,
             "#7201a8"
            ],
            [
             0.3333333333333333,
             "#9c179e"
            ],
            [
             0.4444444444444444,
             "#bd3786"
            ],
            [
             0.5555555555555556,
             "#d8576b"
            ],
            [
             0.6666666666666666,
             "#ed7953"
            ],
            [
             0.7777777777777778,
             "#fb9f3a"
            ],
            [
             0.8888888888888888,
             "#fdca26"
            ],
            [
             1,
             "#f0f921"
            ]
           ],
           "sequentialminus": [
            [
             0,
             "#0d0887"
            ],
            [
             0.1111111111111111,
             "#46039f"
            ],
            [
             0.2222222222222222,
             "#7201a8"
            ],
            [
             0.3333333333333333,
             "#9c179e"
            ],
            [
             0.4444444444444444,
             "#bd3786"
            ],
            [
             0.5555555555555556,
             "#d8576b"
            ],
            [
             0.6666666666666666,
             "#ed7953"
            ],
            [
             0.7777777777777778,
             "#fb9f3a"
            ],
            [
             0.8888888888888888,
             "#fdca26"
            ],
            [
             1,
             "#f0f921"
            ]
           ]
          },
          "colorway": [
           "#636efa",
           "#EF553B",
           "#00cc96",
           "#ab63fa",
           "#FFA15A",
           "#19d3f3",
           "#FF6692",
           "#B6E880",
           "#FF97FF",
           "#FECB52"
          ],
          "font": {
           "color": "#2a3f5f"
          },
          "geo": {
           "bgcolor": "white",
           "lakecolor": "white",
           "landcolor": "#E5ECF6",
           "showlakes": true,
           "showland": true,
           "subunitcolor": "white"
          },
          "hoverlabel": {
           "align": "left"
          },
          "hovermode": "closest",
          "mapbox": {
           "style": "light"
          },
          "paper_bgcolor": "white",
          "plot_bgcolor": "#E5ECF6",
          "polar": {
           "angularaxis": {
            "gridcolor": "white",
            "linecolor": "white",
            "ticks": ""
           },
           "bgcolor": "#E5ECF6",
           "radialaxis": {
            "gridcolor": "white",
            "linecolor": "white",
            "ticks": ""
           }
          },
          "scene": {
           "xaxis": {
            "backgroundcolor": "#E5ECF6",
            "gridcolor": "white",
            "gridwidth": 2,
            "linecolor": "white",
            "showbackground": true,
            "ticks": "",
            "zerolinecolor": "white"
           },
           "yaxis": {
            "backgroundcolor": "#E5ECF6",
            "gridcolor": "white",
            "gridwidth": 2,
            "linecolor": "white",
            "showbackground": true,
            "ticks": "",
            "zerolinecolor": "white"
           },
           "zaxis": {
            "backgroundcolor": "#E5ECF6",
            "gridcolor": "white",
            "gridwidth": 2,
            "linecolor": "white",
            "showbackground": true,
            "ticks": "",
            "zerolinecolor": "white"
           }
          },
          "shapedefaults": {
           "line": {
            "color": "#2a3f5f"
           }
          },
          "ternary": {
           "aaxis": {
            "gridcolor": "white",
            "linecolor": "white",
            "ticks": ""
           },
           "baxis": {
            "gridcolor": "white",
            "linecolor": "white",
            "ticks": ""
           },
           "bgcolor": "#E5ECF6",
           "caxis": {
            "gridcolor": "white",
            "linecolor": "white",
            "ticks": ""
           }
          },
          "title": {
           "x": 0.05
          },
          "xaxis": {
           "automargin": true,
           "gridcolor": "white",
           "linecolor": "white",
           "ticks": "",
           "title": {
            "standoff": 15
           },
           "zerolinecolor": "white",
           "zerolinewidth": 2
          },
          "yaxis": {
           "automargin": true,
           "gridcolor": "white",
           "linecolor": "white",
           "ticks": "",
           "title": {
            "standoff": 15
           },
           "zerolinecolor": "white",
           "zerolinewidth": 2
          }
         }
        },
        "title": {
         "text": "Total score by company"
        }
       }
      }
     },
     "metadata": {},
     "output_type": "display_data"
    }
   ],
   "source": [
    "import plotly.graph_objects as go \n",
    "\n",
    "fig = go.Figure(go.Bar(x=df.iloc[151:200]['name'],y=df['total_score'].values),go.Layout(title_text='Total score by company'))\n",
    "fig.show()"
   ]
  },
  {
   "cell_type": "code",
   "execution_count": 151,
   "metadata": {},
   "outputs": [
    {
     "data": {
      "application/vnd.plotly.v1+json": {
       "config": {
        "plotlyServerURL": "https://plot.ly"
       },
       "data": [
        {
         "type": "bar",
         "x": [
          "PayPal Holdings Inc",
          "Regeneron Pharmaceuticals Inc",
          "Amgen Inc",
          "Synopsys Inc",
          "Seagate Technology Holdings PLC",
          "Bio-Techne Corp",
          "Teradyne Inc",
          "Skyworks Solutions Inc",
          "Trimble Inc",
          "T Rowe Price Group Inc",
          "Take-Two Interactive Software Inc",
          "Tesla Inc",
          "Tractor Supply Co",
          "Texas Instruments Inc",
          "T-Mobile US Inc",
          "United Airlines Holdings Inc",
          "Verisk Analytics Inc",
          "Ulta Beauty Inc",
          "Vertex Pharmaceuticals Inc",
          "Viatris Inc",
          "Verisign Inc",
          "Walgreens Boots Alliance Inc",
          "NetApp Inc",
          "Xcel Energy Inc",
          "DENTSPLY SIRONA Inc",
          "Zebra Technologies Corp",
          "Advance Auto Parts Inc",
          "Zions Bancorporation NA",
          "Wynn Resorts Ltd",
          "Agilent Technologies Inc",
          "Abbvie Inc",
          "Amerisourcebergen Corp",
          "Archer-Daniels-Midland Co",
          "Abbott Laboratories",
          "Ameren Corp",
          "AES Corp",
          "Aflac Inc",
          "Accenture PLC",
          "Arthur J. Gallagher & Co.",
          "Assurant Inc",
          "Alaska Air Group Inc",
          "Albemarle Corp",
          "American International Group Inc",
          "Allstate Corp",
          "Allegion PLC",
          "Ameriprise Financial Inc",
          "AMETEK Inc",
          "American Tower Corp",
          "A O Smith Corp"
         ],
         "y": [
          1147,
          1068,
          880,
          1171,
          1052,
          1178,
          1255,
          608,
          746,
          741,
          785,
          1023,
          891,
          936,
          1000,
          605,
          604,
          821,
          1475,
          712,
          1129,
          606,
          659,
          898,
          745,
          637,
          765,
          705,
          744,
          731,
          1239,
          840,
          651,
          803,
          781,
          1127,
          1081,
          851,
          742,
          967,
          847,
          654,
          657,
          737,
          1183,
          675,
          812,
          901,
          841,
          621,
          953,
          824,
          706,
          968,
          703,
          704,
          824,
          816,
          643,
          1100,
          868,
          1169,
          1000,
          739,
          1112,
          818,
          852,
          800,
          937,
          1100,
          1100,
          777,
          600,
          844,
          1074,
          769,
          600,
          982,
          685,
          607,
          895,
          651,
          835,
          698,
          1076,
          1206,
          944,
          619,
          1148,
          628,
          929,
          1063,
          703,
          1103,
          863,
          656,
          763,
          742,
          1118,
          673,
          640,
          635,
          1086,
          801,
          769,
          1145,
          633,
          1130,
          616,
          1161,
          1102,
          721,
          952,
          746,
          1110,
          1030,
          1100,
          727,
          817,
          1106,
          800,
          775,
          667,
          768,
          1050,
          691,
          743,
          770,
          845,
          1002,
          1142,
          1164,
          1142,
          608,
          957,
          622,
          1202,
          1433,
          623,
          1151,
          1047,
          1174,
          1103,
          634,
          1243,
          760,
          1100,
          1165,
          679,
          1068,
          1145,
          1270,
          812,
          734,
          1100,
          1140,
          693,
          678,
          658,
          666,
          885,
          1126,
          1084,
          1107,
          1120,
          1012,
          630,
          1100,
          1150,
          1127,
          652,
          653,
          1159,
          1100,
          945,
          852,
          1533,
          1160,
          1115,
          1125,
          701,
          1143,
          899,
          773,
          1109,
          1170,
          1216,
          1139,
          1100,
          1000,
          1175,
          1000,
          716,
          1009,
          1144,
          1417,
          1155,
          1312,
          1150,
          1160,
          891,
          899,
          1137,
          1215,
          1156,
          1195,
          1078,
          1150,
          1088,
          1280,
          1145,
          842,
          993,
          1000,
          1100,
          903,
          629,
          1281,
          647,
          1100,
          1000,
          1227,
          1140,
          1229,
          629,
          1153,
          937,
          735,
          600,
          626,
          1037,
          1122,
          1120,
          1245,
          1125,
          1207,
          1221,
          989,
          1180,
          1184,
          1054,
          1077,
          1182,
          1151,
          1050,
          1179,
          971,
          1139,
          1168,
          1135,
          1442,
          1077,
          1049,
          1290,
          1255,
          1348,
          1282,
          1204,
          1098,
          1207,
          679,
          879,
          1116,
          1128,
          1306,
          802,
          961,
          1100,
          664,
          1188,
          1131,
          1025,
          695,
          1224,
          1197,
          1176,
          1150,
          1118,
          709,
          694,
          609,
          1000,
          1229,
          810,
          726,
          1125,
          1124,
          1119,
          669,
          664,
          735,
          1161,
          1267,
          626,
          969,
          1294,
          1153,
          1142,
          1171,
          1245,
          752,
          1115,
          1528,
          600,
          892,
          1144,
          1135,
          1136,
          1168,
          1358,
          1186,
          1173,
          1162,
          601,
          788,
          1100,
          1100,
          1136,
          725,
          1167,
          1269,
          1058,
          1113,
          1150,
          618,
          1138,
          1100,
          1127,
          1000,
          1100,
          1168,
          696,
          1120,
          1148,
          1381,
          1178,
          1063,
          1045,
          1157,
          1287,
          1262,
          1101,
          906,
          1107,
          1274,
          939,
          1110,
          1027,
          676,
          975,
          1100,
          658,
          853,
          1156,
          1268,
          749,
          685,
          1078,
          1162,
          1103,
          1242,
          873,
          1078,
          1408,
          1131,
          1232,
          1119,
          1099,
          1140,
          1075,
          1052,
          899,
          1412,
          1105,
          942,
          1115,
          761,
          1100,
          1130,
          1260,
          1170,
          1067,
          1131,
          1161,
          774,
          1086,
          1116,
          947,
          677,
          1396,
          1152,
          646,
          1061,
          1250,
          1110,
          600,
          600,
          1088,
          1100,
          1205,
          1100,
          1093,
          1100,
          1139,
          1409,
          1244,
          1011,
          1000,
          1100,
          1159,
          741,
          1218,
          1209,
          953,
          1090,
          1191,
          1245,
          1106,
          1182,
          1100,
          1189,
          1373,
          1063,
          797,
          1306,
          1238,
          1100,
          1100,
          1101,
          1175,
          954,
          811,
          638,
          1130,
          838,
          1340,
          1184,
          1173,
          1160,
          1178,
          1204,
          1186,
          1170,
          1157,
          1128,
          656,
          637,
          1242,
          1194,
          1091,
          1121,
          1067,
          1536,
          1100,
          1137,
          1218,
          1130,
          1192,
          1130,
          1140,
          1141,
          650,
          1131,
          1146,
          1120,
          655,
          901,
          786,
          1186,
          827,
          1300,
          927,
          1292,
          1155,
          1107,
          1093,
          1090,
          1005,
          1262,
          916,
          1121,
          1181,
          1000,
          1100,
          610,
          715,
          792,
          1419,
          868,
          680,
          753,
          1154,
          744,
          1181,
          1413,
          1112,
          772,
          732,
          636,
          1007,
          1153,
          1111,
          711,
          980,
          1157,
          1259,
          995,
          1100,
          1258,
          1243,
          1042,
          653,
          1295,
          891,
          828,
          1343,
          1086,
          928,
          940,
          1226,
          1114,
          1012,
          1138,
          989,
          1132,
          1127,
          1171,
          1164,
          647,
          1131,
          1180,
          1086,
          1165,
          1112,
          1103,
          1154,
          615,
          1197,
          1146,
          1120,
          856,
          908,
          668,
          1065,
          1096,
          918,
          1173,
          838,
          1175,
          819,
          1140,
          698,
          1192,
          656,
          1062,
          1160,
          1201,
          1276,
          1133,
          1038,
          1083,
          769,
          1133,
          827,
          973,
          949,
          1152,
          897,
          610,
          642,
          1123,
          707,
          1166,
          674,
          1000,
          871,
          1100,
          998,
          1173,
          1110,
          950,
          865,
          1039,
          1088,
          658,
          834,
          615,
          922,
          722,
          996,
          759,
          1199,
          623,
          1178,
          747,
          600,
          620,
          755,
          697,
          933,
          763,
          1127,
          751,
          747,
          1005,
          1106,
          690,
          1256,
          1127,
          748,
          640,
          717,
          1081,
          768,
          968,
          886,
          1195,
          692,
          607,
          931,
          941,
          808,
          769,
          914,
          1057,
          686,
          899,
          721,
          1206,
          645,
          758,
          690,
          877,
          641,
          1182,
          1142,
          763,
          621,
          737,
          673,
          732,
          632,
          771,
          809,
          820,
          1189,
          750,
          1095,
          1101,
          717,
          651,
          1225,
          849,
          826,
          795,
          600,
          653,
          1165,
          657,
          660,
          751,
          1208,
          1060,
          1022,
          1104,
          919,
          630,
          724,
          667,
          713,
          912,
          991,
          1109,
          747,
          820,
          716,
          955,
          817,
          1146,
          940,
          669,
          1018,
          770,
          792,
          751,
          935,
          617,
          616,
          1015,
          630,
          958,
          634,
          635,
          1033,
          726,
          1127,
          762,
          620,
          1011,
          930,
          621,
          1137,
          1209,
          646,
          600,
          929,
          649,
          1363,
          1140,
          747,
          615,
          765,
          1243,
          1200,
          1056,
          951,
          843,
          1138,
          1100,
          1129,
          819,
          633
         ]
        }
       ],
       "layout": {
        "template": {
         "data": {
          "bar": [
           {
            "error_x": {
             "color": "#2a3f5f"
            },
            "error_y": {
             "color": "#2a3f5f"
            },
            "marker": {
             "line": {
              "color": "#E5ECF6",
              "width": 0.5
             },
             "pattern": {
              "fillmode": "overlay",
              "size": 10,
              "solidity": 0.2
             }
            },
            "type": "bar"
           }
          ],
          "barpolar": [
           {
            "marker": {
             "line": {
              "color": "#E5ECF6",
              "width": 0.5
             },
             "pattern": {
              "fillmode": "overlay",
              "size": 10,
              "solidity": 0.2
             }
            },
            "type": "barpolar"
           }
          ],
          "carpet": [
           {
            "aaxis": {
             "endlinecolor": "#2a3f5f",
             "gridcolor": "white",
             "linecolor": "white",
             "minorgridcolor": "white",
             "startlinecolor": "#2a3f5f"
            },
            "baxis": {
             "endlinecolor": "#2a3f5f",
             "gridcolor": "white",
             "linecolor": "white",
             "minorgridcolor": "white",
             "startlinecolor": "#2a3f5f"
            },
            "type": "carpet"
           }
          ],
          "choropleth": [
           {
            "colorbar": {
             "outlinewidth": 0,
             "ticks": ""
            },
            "type": "choropleth"
           }
          ],
          "contour": [
           {
            "colorbar": {
             "outlinewidth": 0,
             "ticks": ""
            },
            "colorscale": [
             [
              0,
              "#0d0887"
             ],
             [
              0.1111111111111111,
              "#46039f"
             ],
             [
              0.2222222222222222,
              "#7201a8"
             ],
             [
              0.3333333333333333,
              "#9c179e"
             ],
             [
              0.4444444444444444,
              "#bd3786"
             ],
             [
              0.5555555555555556,
              "#d8576b"
             ],
             [
              0.6666666666666666,
              "#ed7953"
             ],
             [
              0.7777777777777778,
              "#fb9f3a"
             ],
             [
              0.8888888888888888,
              "#fdca26"
             ],
             [
              1,
              "#f0f921"
             ]
            ],
            "type": "contour"
           }
          ],
          "contourcarpet": [
           {
            "colorbar": {
             "outlinewidth": 0,
             "ticks": ""
            },
            "type": "contourcarpet"
           }
          ],
          "heatmap": [
           {
            "colorbar": {
             "outlinewidth": 0,
             "ticks": ""
            },
            "colorscale": [
             [
              0,
              "#0d0887"
             ],
             [
              0.1111111111111111,
              "#46039f"
             ],
             [
              0.2222222222222222,
              "#7201a8"
             ],
             [
              0.3333333333333333,
              "#9c179e"
             ],
             [
              0.4444444444444444,
              "#bd3786"
             ],
             [
              0.5555555555555556,
              "#d8576b"
             ],
             [
              0.6666666666666666,
              "#ed7953"
             ],
             [
              0.7777777777777778,
              "#fb9f3a"
             ],
             [
              0.8888888888888888,
              "#fdca26"
             ],
             [
              1,
              "#f0f921"
             ]
            ],
            "type": "heatmap"
           }
          ],
          "heatmapgl": [
           {
            "colorbar": {
             "outlinewidth": 0,
             "ticks": ""
            },
            "colorscale": [
             [
              0,
              "#0d0887"
             ],
             [
              0.1111111111111111,
              "#46039f"
             ],
             [
              0.2222222222222222,
              "#7201a8"
             ],
             [
              0.3333333333333333,
              "#9c179e"
             ],
             [
              0.4444444444444444,
              "#bd3786"
             ],
             [
              0.5555555555555556,
              "#d8576b"
             ],
             [
              0.6666666666666666,
              "#ed7953"
             ],
             [
              0.7777777777777778,
              "#fb9f3a"
             ],
             [
              0.8888888888888888,
              "#fdca26"
             ],
             [
              1,
              "#f0f921"
             ]
            ],
            "type": "heatmapgl"
           }
          ],
          "histogram": [
           {
            "marker": {
             "pattern": {
              "fillmode": "overlay",
              "size": 10,
              "solidity": 0.2
             }
            },
            "type": "histogram"
           }
          ],
          "histogram2d": [
           {
            "colorbar": {
             "outlinewidth": 0,
             "ticks": ""
            },
            "colorscale": [
             [
              0,
              "#0d0887"
             ],
             [
              0.1111111111111111,
              "#46039f"
             ],
             [
              0.2222222222222222,
              "#7201a8"
             ],
             [
              0.3333333333333333,
              "#9c179e"
             ],
             [
              0.4444444444444444,
              "#bd3786"
             ],
             [
              0.5555555555555556,
              "#d8576b"
             ],
             [
              0.6666666666666666,
              "#ed7953"
             ],
             [
              0.7777777777777778,
              "#fb9f3a"
             ],
             [
              0.8888888888888888,
              "#fdca26"
             ],
             [
              1,
              "#f0f921"
             ]
            ],
            "type": "histogram2d"
           }
          ],
          "histogram2dcontour": [
           {
            "colorbar": {
             "outlinewidth": 0,
             "ticks": ""
            },
            "colorscale": [
             [
              0,
              "#0d0887"
             ],
             [
              0.1111111111111111,
              "#46039f"
             ],
             [
              0.2222222222222222,
              "#7201a8"
             ],
             [
              0.3333333333333333,
              "#9c179e"
             ],
             [
              0.4444444444444444,
              "#bd3786"
             ],
             [
              0.5555555555555556,
              "#d8576b"
             ],
             [
              0.6666666666666666,
              "#ed7953"
             ],
             [
              0.7777777777777778,
              "#fb9f3a"
             ],
             [
              0.8888888888888888,
              "#fdca26"
             ],
             [
              1,
              "#f0f921"
             ]
            ],
            "type": "histogram2dcontour"
           }
          ],
          "mesh3d": [
           {
            "colorbar": {
             "outlinewidth": 0,
             "ticks": ""
            },
            "type": "mesh3d"
           }
          ],
          "parcoords": [
           {
            "line": {
             "colorbar": {
              "outlinewidth": 0,
              "ticks": ""
             }
            },
            "type": "parcoords"
           }
          ],
          "pie": [
           {
            "automargin": true,
            "type": "pie"
           }
          ],
          "scatter": [
           {
            "fillpattern": {
             "fillmode": "overlay",
             "size": 10,
             "solidity": 0.2
            },
            "type": "scatter"
           }
          ],
          "scatter3d": [
           {
            "line": {
             "colorbar": {
              "outlinewidth": 0,
              "ticks": ""
             }
            },
            "marker": {
             "colorbar": {
              "outlinewidth": 0,
              "ticks": ""
             }
            },
            "type": "scatter3d"
           }
          ],
          "scattercarpet": [
           {
            "marker": {
             "colorbar": {
              "outlinewidth": 0,
              "ticks": ""
             }
            },
            "type": "scattercarpet"
           }
          ],
          "scattergeo": [
           {
            "marker": {
             "colorbar": {
              "outlinewidth": 0,
              "ticks": ""
             }
            },
            "type": "scattergeo"
           }
          ],
          "scattergl": [
           {
            "marker": {
             "colorbar": {
              "outlinewidth": 0,
              "ticks": ""
             }
            },
            "type": "scattergl"
           }
          ],
          "scattermapbox": [
           {
            "marker": {
             "colorbar": {
              "outlinewidth": 0,
              "ticks": ""
             }
            },
            "type": "scattermapbox"
           }
          ],
          "scatterpolar": [
           {
            "marker": {
             "colorbar": {
              "outlinewidth": 0,
              "ticks": ""
             }
            },
            "type": "scatterpolar"
           }
          ],
          "scatterpolargl": [
           {
            "marker": {
             "colorbar": {
              "outlinewidth": 0,
              "ticks": ""
             }
            },
            "type": "scatterpolargl"
           }
          ],
          "scatterternary": [
           {
            "marker": {
             "colorbar": {
              "outlinewidth": 0,
              "ticks": ""
             }
            },
            "type": "scatterternary"
           }
          ],
          "surface": [
           {
            "colorbar": {
             "outlinewidth": 0,
             "ticks": ""
            },
            "colorscale": [
             [
              0,
              "#0d0887"
             ],
             [
              0.1111111111111111,
              "#46039f"
             ],
             [
              0.2222222222222222,
              "#7201a8"
             ],
             [
              0.3333333333333333,
              "#9c179e"
             ],
             [
              0.4444444444444444,
              "#bd3786"
             ],
             [
              0.5555555555555556,
              "#d8576b"
             ],
             [
              0.6666666666666666,
              "#ed7953"
             ],
             [
              0.7777777777777778,
              "#fb9f3a"
             ],
             [
              0.8888888888888888,
              "#fdca26"
             ],
             [
              1,
              "#f0f921"
             ]
            ],
            "type": "surface"
           }
          ],
          "table": [
           {
            "cells": {
             "fill": {
              "color": "#EBF0F8"
             },
             "line": {
              "color": "white"
             }
            },
            "header": {
             "fill": {
              "color": "#C8D4E3"
             },
             "line": {
              "color": "white"
             }
            },
            "type": "table"
           }
          ]
         },
         "layout": {
          "annotationdefaults": {
           "arrowcolor": "#2a3f5f",
           "arrowhead": 0,
           "arrowwidth": 1
          },
          "autotypenumbers": "strict",
          "coloraxis": {
           "colorbar": {
            "outlinewidth": 0,
            "ticks": ""
           }
          },
          "colorscale": {
           "diverging": [
            [
             0,
             "#8e0152"
            ],
            [
             0.1,
             "#c51b7d"
            ],
            [
             0.2,
             "#de77ae"
            ],
            [
             0.3,
             "#f1b6da"
            ],
            [
             0.4,
             "#fde0ef"
            ],
            [
             0.5,
             "#f7f7f7"
            ],
            [
             0.6,
             "#e6f5d0"
            ],
            [
             0.7,
             "#b8e186"
            ],
            [
             0.8,
             "#7fbc41"
            ],
            [
             0.9,
             "#4d9221"
            ],
            [
             1,
             "#276419"
            ]
           ],
           "sequential": [
            [
             0,
             "#0d0887"
            ],
            [
             0.1111111111111111,
             "#46039f"
            ],
            [
             0.2222222222222222,
             "#7201a8"
            ],
            [
             0.3333333333333333,
             "#9c179e"
            ],
            [
             0.4444444444444444,
             "#bd3786"
            ],
            [
             0.5555555555555556,
             "#d8576b"
            ],
            [
             0.6666666666666666,
             "#ed7953"
            ],
            [
             0.7777777777777778,
             "#fb9f3a"
            ],
            [
             0.8888888888888888,
             "#fdca26"
            ],
            [
             1,
             "#f0f921"
            ]
           ],
           "sequentialminus": [
            [
             0,
             "#0d0887"
            ],
            [
             0.1111111111111111,
             "#46039f"
            ],
            [
             0.2222222222222222,
             "#7201a8"
            ],
            [
             0.3333333333333333,
             "#9c179e"
            ],
            [
             0.4444444444444444,
             "#bd3786"
            ],
            [
             0.5555555555555556,
             "#d8576b"
            ],
            [
             0.6666666666666666,
             "#ed7953"
            ],
            [
             0.7777777777777778,
             "#fb9f3a"
            ],
            [
             0.8888888888888888,
             "#fdca26"
            ],
            [
             1,
             "#f0f921"
            ]
           ]
          },
          "colorway": [
           "#636efa",
           "#EF553B",
           "#00cc96",
           "#ab63fa",
           "#FFA15A",
           "#19d3f3",
           "#FF6692",
           "#B6E880",
           "#FF97FF",
           "#FECB52"
          ],
          "font": {
           "color": "#2a3f5f"
          },
          "geo": {
           "bgcolor": "white",
           "lakecolor": "white",
           "landcolor": "#E5ECF6",
           "showlakes": true,
           "showland": true,
           "subunitcolor": "white"
          },
          "hoverlabel": {
           "align": "left"
          },
          "hovermode": "closest",
          "mapbox": {
           "style": "light"
          },
          "paper_bgcolor": "white",
          "plot_bgcolor": "#E5ECF6",
          "polar": {
           "angularaxis": {
            "gridcolor": "white",
            "linecolor": "white",
            "ticks": ""
           },
           "bgcolor": "#E5ECF6",
           "radialaxis": {
            "gridcolor": "white",
            "linecolor": "white",
            "ticks": ""
           }
          },
          "scene": {
           "xaxis": {
            "backgroundcolor": "#E5ECF6",
            "gridcolor": "white",
            "gridwidth": 2,
            "linecolor": "white",
            "showbackground": true,
            "ticks": "",
            "zerolinecolor": "white"
           },
           "yaxis": {
            "backgroundcolor": "#E5ECF6",
            "gridcolor": "white",
            "gridwidth": 2,
            "linecolor": "white",
            "showbackground": true,
            "ticks": "",
            "zerolinecolor": "white"
           },
           "zaxis": {
            "backgroundcolor": "#E5ECF6",
            "gridcolor": "white",
            "gridwidth": 2,
            "linecolor": "white",
            "showbackground": true,
            "ticks": "",
            "zerolinecolor": "white"
           }
          },
          "shapedefaults": {
           "line": {
            "color": "#2a3f5f"
           }
          },
          "ternary": {
           "aaxis": {
            "gridcolor": "white",
            "linecolor": "white",
            "ticks": ""
           },
           "baxis": {
            "gridcolor": "white",
            "linecolor": "white",
            "ticks": ""
           },
           "bgcolor": "#E5ECF6",
           "caxis": {
            "gridcolor": "white",
            "linecolor": "white",
            "ticks": ""
           }
          },
          "title": {
           "x": 0.05
          },
          "xaxis": {
           "automargin": true,
           "gridcolor": "white",
           "linecolor": "white",
           "ticks": "",
           "title": {
            "standoff": 15
           },
           "zerolinecolor": "white",
           "zerolinewidth": 2
          },
          "yaxis": {
           "automargin": true,
           "gridcolor": "white",
           "linecolor": "white",
           "ticks": "",
           "title": {
            "standoff": 15
           },
           "zerolinecolor": "white",
           "zerolinewidth": 2
          }
         }
        },
        "title": {
         "text": "Total score by company"
        }
       }
      }
     },
     "metadata": {},
     "output_type": "display_data"
    }
   ],
   "source": [
    "import plotly.graph_objects as go \n",
    "\n",
    "fig = go.Figure(go.Bar(x=df.iloc[201:250]['name'],y=df['total_score'].values),go.Layout(title_text='Total score by company'))\n",
    "fig.show()"
   ]
  },
  {
   "cell_type": "code",
   "execution_count": 152,
   "metadata": {},
   "outputs": [
    {
     "data": {
      "application/vnd.plotly.v1+json": {
       "config": {
        "plotlyServerURL": "https://plot.ly"
       },
       "data": [
        {
         "type": "bar",
         "x": [
          "Aon PLC",
          "Arista Networks Inc",
          "Amphenol Corp",
          "Atmos Energy Corp",
          "American Water Works Company Inc",
          "Alexandria Real Estate Equities Inc",
          "Aptiv PLC",
          "Avalonbay Communities Inc",
          "Avery Dennison Corp",
          "Boeing Co",
          "Bank of America Corp",
          "Baxter International Inc",
          "Bath & Body Works Inc",
          "Becton Dickinson and Co",
          "Bio Rad Laboratories Inc",
          "Best Buy Co Inc",
          "Bank of New York Mellon Corp",
          "American Express Co",
          "Broadridge Financial Solutions Inc",
          "Bristol-Myers Squibb Co",
          "Brown & Brown Inc",
          "Autozone Inc",
          "Boston Scientific Corp",
          "Blackstone Inc",
          "Boston Properties Inc",
          "SVB Financial Group",
          "Citigroup Inc",
          "Caterpillar Inc",
          "Carrier Global Corp",
          "CBRE Group Inc",
          "Crown Castle Inc",
          "Ceridian HCM Holding Inc",
          "Comerica Inc",
          "D R Horton Inc",
          "Dover Corp",
          "Darden Restaurants Inc",
          "Celanese Corp",
          "Dollar General Corp",
          "Chipotle Mexican Grill Inc",
          "Quest Diagnostics Inc",
          "Carnival Corp",
          "Church & Dwight Co Inc",
          "Dow Inc",
          "Discover Financial Services",
          "Duke Energy Corp",
          "Duke Realty Corp",
          "CF Industries Holdings Inc",
          "Devon Energy Corp",
          "Ecolab Inc"
         ],
         "y": [
          1147,
          1068,
          880,
          1171,
          1052,
          1178,
          1255,
          608,
          746,
          741,
          785,
          1023,
          891,
          936,
          1000,
          605,
          604,
          821,
          1475,
          712,
          1129,
          606,
          659,
          898,
          745,
          637,
          765,
          705,
          744,
          731,
          1239,
          840,
          651,
          803,
          781,
          1127,
          1081,
          851,
          742,
          967,
          847,
          654,
          657,
          737,
          1183,
          675,
          812,
          901,
          841,
          621,
          953,
          824,
          706,
          968,
          703,
          704,
          824,
          816,
          643,
          1100,
          868,
          1169,
          1000,
          739,
          1112,
          818,
          852,
          800,
          937,
          1100,
          1100,
          777,
          600,
          844,
          1074,
          769,
          600,
          982,
          685,
          607,
          895,
          651,
          835,
          698,
          1076,
          1206,
          944,
          619,
          1148,
          628,
          929,
          1063,
          703,
          1103,
          863,
          656,
          763,
          742,
          1118,
          673,
          640,
          635,
          1086,
          801,
          769,
          1145,
          633,
          1130,
          616,
          1161,
          1102,
          721,
          952,
          746,
          1110,
          1030,
          1100,
          727,
          817,
          1106,
          800,
          775,
          667,
          768,
          1050,
          691,
          743,
          770,
          845,
          1002,
          1142,
          1164,
          1142,
          608,
          957,
          622,
          1202,
          1433,
          623,
          1151,
          1047,
          1174,
          1103,
          634,
          1243,
          760,
          1100,
          1165,
          679,
          1068,
          1145,
          1270,
          812,
          734,
          1100,
          1140,
          693,
          678,
          658,
          666,
          885,
          1126,
          1084,
          1107,
          1120,
          1012,
          630,
          1100,
          1150,
          1127,
          652,
          653,
          1159,
          1100,
          945,
          852,
          1533,
          1160,
          1115,
          1125,
          701,
          1143,
          899,
          773,
          1109,
          1170,
          1216,
          1139,
          1100,
          1000,
          1175,
          1000,
          716,
          1009,
          1144,
          1417,
          1155,
          1312,
          1150,
          1160,
          891,
          899,
          1137,
          1215,
          1156,
          1195,
          1078,
          1150,
          1088,
          1280,
          1145,
          842,
          993,
          1000,
          1100,
          903,
          629,
          1281,
          647,
          1100,
          1000,
          1227,
          1140,
          1229,
          629,
          1153,
          937,
          735,
          600,
          626,
          1037,
          1122,
          1120,
          1245,
          1125,
          1207,
          1221,
          989,
          1180,
          1184,
          1054,
          1077,
          1182,
          1151,
          1050,
          1179,
          971,
          1139,
          1168,
          1135,
          1442,
          1077,
          1049,
          1290,
          1255,
          1348,
          1282,
          1204,
          1098,
          1207,
          679,
          879,
          1116,
          1128,
          1306,
          802,
          961,
          1100,
          664,
          1188,
          1131,
          1025,
          695,
          1224,
          1197,
          1176,
          1150,
          1118,
          709,
          694,
          609,
          1000,
          1229,
          810,
          726,
          1125,
          1124,
          1119,
          669,
          664,
          735,
          1161,
          1267,
          626,
          969,
          1294,
          1153,
          1142,
          1171,
          1245,
          752,
          1115,
          1528,
          600,
          892,
          1144,
          1135,
          1136,
          1168,
          1358,
          1186,
          1173,
          1162,
          601,
          788,
          1100,
          1100,
          1136,
          725,
          1167,
          1269,
          1058,
          1113,
          1150,
          618,
          1138,
          1100,
          1127,
          1000,
          1100,
          1168,
          696,
          1120,
          1148,
          1381,
          1178,
          1063,
          1045,
          1157,
          1287,
          1262,
          1101,
          906,
          1107,
          1274,
          939,
          1110,
          1027,
          676,
          975,
          1100,
          658,
          853,
          1156,
          1268,
          749,
          685,
          1078,
          1162,
          1103,
          1242,
          873,
          1078,
          1408,
          1131,
          1232,
          1119,
          1099,
          1140,
          1075,
          1052,
          899,
          1412,
          1105,
          942,
          1115,
          761,
          1100,
          1130,
          1260,
          1170,
          1067,
          1131,
          1161,
          774,
          1086,
          1116,
          947,
          677,
          1396,
          1152,
          646,
          1061,
          1250,
          1110,
          600,
          600,
          1088,
          1100,
          1205,
          1100,
          1093,
          1100,
          1139,
          1409,
          1244,
          1011,
          1000,
          1100,
          1159,
          741,
          1218,
          1209,
          953,
          1090,
          1191,
          1245,
          1106,
          1182,
          1100,
          1189,
          1373,
          1063,
          797,
          1306,
          1238,
          1100,
          1100,
          1101,
          1175,
          954,
          811,
          638,
          1130,
          838,
          1340,
          1184,
          1173,
          1160,
          1178,
          1204,
          1186,
          1170,
          1157,
          1128,
          656,
          637,
          1242,
          1194,
          1091,
          1121,
          1067,
          1536,
          1100,
          1137,
          1218,
          1130,
          1192,
          1130,
          1140,
          1141,
          650,
          1131,
          1146,
          1120,
          655,
          901,
          786,
          1186,
          827,
          1300,
          927,
          1292,
          1155,
          1107,
          1093,
          1090,
          1005,
          1262,
          916,
          1121,
          1181,
          1000,
          1100,
          610,
          715,
          792,
          1419,
          868,
          680,
          753,
          1154,
          744,
          1181,
          1413,
          1112,
          772,
          732,
          636,
          1007,
          1153,
          1111,
          711,
          980,
          1157,
          1259,
          995,
          1100,
          1258,
          1243,
          1042,
          653,
          1295,
          891,
          828,
          1343,
          1086,
          928,
          940,
          1226,
          1114,
          1012,
          1138,
          989,
          1132,
          1127,
          1171,
          1164,
          647,
          1131,
          1180,
          1086,
          1165,
          1112,
          1103,
          1154,
          615,
          1197,
          1146,
          1120,
          856,
          908,
          668,
          1065,
          1096,
          918,
          1173,
          838,
          1175,
          819,
          1140,
          698,
          1192,
          656,
          1062,
          1160,
          1201,
          1276,
          1133,
          1038,
          1083,
          769,
          1133,
          827,
          973,
          949,
          1152,
          897,
          610,
          642,
          1123,
          707,
          1166,
          674,
          1000,
          871,
          1100,
          998,
          1173,
          1110,
          950,
          865,
          1039,
          1088,
          658,
          834,
          615,
          922,
          722,
          996,
          759,
          1199,
          623,
          1178,
          747,
          600,
          620,
          755,
          697,
          933,
          763,
          1127,
          751,
          747,
          1005,
          1106,
          690,
          1256,
          1127,
          748,
          640,
          717,
          1081,
          768,
          968,
          886,
          1195,
          692,
          607,
          931,
          941,
          808,
          769,
          914,
          1057,
          686,
          899,
          721,
          1206,
          645,
          758,
          690,
          877,
          641,
          1182,
          1142,
          763,
          621,
          737,
          673,
          732,
          632,
          771,
          809,
          820,
          1189,
          750,
          1095,
          1101,
          717,
          651,
          1225,
          849,
          826,
          795,
          600,
          653,
          1165,
          657,
          660,
          751,
          1208,
          1060,
          1022,
          1104,
          919,
          630,
          724,
          667,
          713,
          912,
          991,
          1109,
          747,
          820,
          716,
          955,
          817,
          1146,
          940,
          669,
          1018,
          770,
          792,
          751,
          935,
          617,
          616,
          1015,
          630,
          958,
          634,
          635,
          1033,
          726,
          1127,
          762,
          620,
          1011,
          930,
          621,
          1137,
          1209,
          646,
          600,
          929,
          649,
          1363,
          1140,
          747,
          615,
          765,
          1243,
          1200,
          1056,
          951,
          843,
          1138,
          1100,
          1129,
          819,
          633
         ]
        }
       ],
       "layout": {
        "template": {
         "data": {
          "bar": [
           {
            "error_x": {
             "color": "#2a3f5f"
            },
            "error_y": {
             "color": "#2a3f5f"
            },
            "marker": {
             "line": {
              "color": "#E5ECF6",
              "width": 0.5
             },
             "pattern": {
              "fillmode": "overlay",
              "size": 10,
              "solidity": 0.2
             }
            },
            "type": "bar"
           }
          ],
          "barpolar": [
           {
            "marker": {
             "line": {
              "color": "#E5ECF6",
              "width": 0.5
             },
             "pattern": {
              "fillmode": "overlay",
              "size": 10,
              "solidity": 0.2
             }
            },
            "type": "barpolar"
           }
          ],
          "carpet": [
           {
            "aaxis": {
             "endlinecolor": "#2a3f5f",
             "gridcolor": "white",
             "linecolor": "white",
             "minorgridcolor": "white",
             "startlinecolor": "#2a3f5f"
            },
            "baxis": {
             "endlinecolor": "#2a3f5f",
             "gridcolor": "white",
             "linecolor": "white",
             "minorgridcolor": "white",
             "startlinecolor": "#2a3f5f"
            },
            "type": "carpet"
           }
          ],
          "choropleth": [
           {
            "colorbar": {
             "outlinewidth": 0,
             "ticks": ""
            },
            "type": "choropleth"
           }
          ],
          "contour": [
           {
            "colorbar": {
             "outlinewidth": 0,
             "ticks": ""
            },
            "colorscale": [
             [
              0,
              "#0d0887"
             ],
             [
              0.1111111111111111,
              "#46039f"
             ],
             [
              0.2222222222222222,
              "#7201a8"
             ],
             [
              0.3333333333333333,
              "#9c179e"
             ],
             [
              0.4444444444444444,
              "#bd3786"
             ],
             [
              0.5555555555555556,
              "#d8576b"
             ],
             [
              0.6666666666666666,
              "#ed7953"
             ],
             [
              0.7777777777777778,
              "#fb9f3a"
             ],
             [
              0.8888888888888888,
              "#fdca26"
             ],
             [
              1,
              "#f0f921"
             ]
            ],
            "type": "contour"
           }
          ],
          "contourcarpet": [
           {
            "colorbar": {
             "outlinewidth": 0,
             "ticks": ""
            },
            "type": "contourcarpet"
           }
          ],
          "heatmap": [
           {
            "colorbar": {
             "outlinewidth": 0,
             "ticks": ""
            },
            "colorscale": [
             [
              0,
              "#0d0887"
             ],
             [
              0.1111111111111111,
              "#46039f"
             ],
             [
              0.2222222222222222,
              "#7201a8"
             ],
             [
              0.3333333333333333,
              "#9c179e"
             ],
             [
              0.4444444444444444,
              "#bd3786"
             ],
             [
              0.5555555555555556,
              "#d8576b"
             ],
             [
              0.6666666666666666,
              "#ed7953"
             ],
             [
              0.7777777777777778,
              "#fb9f3a"
             ],
             [
              0.8888888888888888,
              "#fdca26"
             ],
             [
              1,
              "#f0f921"
             ]
            ],
            "type": "heatmap"
           }
          ],
          "heatmapgl": [
           {
            "colorbar": {
             "outlinewidth": 0,
             "ticks": ""
            },
            "colorscale": [
             [
              0,
              "#0d0887"
             ],
             [
              0.1111111111111111,
              "#46039f"
             ],
             [
              0.2222222222222222,
              "#7201a8"
             ],
             [
              0.3333333333333333,
              "#9c179e"
             ],
             [
              0.4444444444444444,
              "#bd3786"
             ],
             [
              0.5555555555555556,
              "#d8576b"
             ],
             [
              0.6666666666666666,
              "#ed7953"
             ],
             [
              0.7777777777777778,
              "#fb9f3a"
             ],
             [
              0.8888888888888888,
              "#fdca26"
             ],
             [
              1,
              "#f0f921"
             ]
            ],
            "type": "heatmapgl"
           }
          ],
          "histogram": [
           {
            "marker": {
             "pattern": {
              "fillmode": "overlay",
              "size": 10,
              "solidity": 0.2
             }
            },
            "type": "histogram"
           }
          ],
          "histogram2d": [
           {
            "colorbar": {
             "outlinewidth": 0,
             "ticks": ""
            },
            "colorscale": [
             [
              0,
              "#0d0887"
             ],
             [
              0.1111111111111111,
              "#46039f"
             ],
             [
              0.2222222222222222,
              "#7201a8"
             ],
             [
              0.3333333333333333,
              "#9c179e"
             ],
             [
              0.4444444444444444,
              "#bd3786"
             ],
             [
              0.5555555555555556,
              "#d8576b"
             ],
             [
              0.6666666666666666,
              "#ed7953"
             ],
             [
              0.7777777777777778,
              "#fb9f3a"
             ],
             [
              0.8888888888888888,
              "#fdca26"
             ],
             [
              1,
              "#f0f921"
             ]
            ],
            "type": "histogram2d"
           }
          ],
          "histogram2dcontour": [
           {
            "colorbar": {
             "outlinewidth": 0,
             "ticks": ""
            },
            "colorscale": [
             [
              0,
              "#0d0887"
             ],
             [
              0.1111111111111111,
              "#46039f"
             ],
             [
              0.2222222222222222,
              "#7201a8"
             ],
             [
              0.3333333333333333,
              "#9c179e"
             ],
             [
              0.4444444444444444,
              "#bd3786"
             ],
             [
              0.5555555555555556,
              "#d8576b"
             ],
             [
              0.6666666666666666,
              "#ed7953"
             ],
             [
              0.7777777777777778,
              "#fb9f3a"
             ],
             [
              0.8888888888888888,
              "#fdca26"
             ],
             [
              1,
              "#f0f921"
             ]
            ],
            "type": "histogram2dcontour"
           }
          ],
          "mesh3d": [
           {
            "colorbar": {
             "outlinewidth": 0,
             "ticks": ""
            },
            "type": "mesh3d"
           }
          ],
          "parcoords": [
           {
            "line": {
             "colorbar": {
              "outlinewidth": 0,
              "ticks": ""
             }
            },
            "type": "parcoords"
           }
          ],
          "pie": [
           {
            "automargin": true,
            "type": "pie"
           }
          ],
          "scatter": [
           {
            "fillpattern": {
             "fillmode": "overlay",
             "size": 10,
             "solidity": 0.2
            },
            "type": "scatter"
           }
          ],
          "scatter3d": [
           {
            "line": {
             "colorbar": {
              "outlinewidth": 0,
              "ticks": ""
             }
            },
            "marker": {
             "colorbar": {
              "outlinewidth": 0,
              "ticks": ""
             }
            },
            "type": "scatter3d"
           }
          ],
          "scattercarpet": [
           {
            "marker": {
             "colorbar": {
              "outlinewidth": 0,
              "ticks": ""
             }
            },
            "type": "scattercarpet"
           }
          ],
          "scattergeo": [
           {
            "marker": {
             "colorbar": {
              "outlinewidth": 0,
              "ticks": ""
             }
            },
            "type": "scattergeo"
           }
          ],
          "scattergl": [
           {
            "marker": {
             "colorbar": {
              "outlinewidth": 0,
              "ticks": ""
             }
            },
            "type": "scattergl"
           }
          ],
          "scattermapbox": [
           {
            "marker": {
             "colorbar": {
              "outlinewidth": 0,
              "ticks": ""
             }
            },
            "type": "scattermapbox"
           }
          ],
          "scatterpolar": [
           {
            "marker": {
             "colorbar": {
              "outlinewidth": 0,
              "ticks": ""
             }
            },
            "type": "scatterpolar"
           }
          ],
          "scatterpolargl": [
           {
            "marker": {
             "colorbar": {
              "outlinewidth": 0,
              "ticks": ""
             }
            },
            "type": "scatterpolargl"
           }
          ],
          "scatterternary": [
           {
            "marker": {
             "colorbar": {
              "outlinewidth": 0,
              "ticks": ""
             }
            },
            "type": "scatterternary"
           }
          ],
          "surface": [
           {
            "colorbar": {
             "outlinewidth": 0,
             "ticks": ""
            },
            "colorscale": [
             [
              0,
              "#0d0887"
             ],
             [
              0.1111111111111111,
              "#46039f"
             ],
             [
              0.2222222222222222,
              "#7201a8"
             ],
             [
              0.3333333333333333,
              "#9c179e"
             ],
             [
              0.4444444444444444,
              "#bd3786"
             ],
             [
              0.5555555555555556,
              "#d8576b"
             ],
             [
              0.6666666666666666,
              "#ed7953"
             ],
             [
              0.7777777777777778,
              "#fb9f3a"
             ],
             [
              0.8888888888888888,
              "#fdca26"
             ],
             [
              1,
              "#f0f921"
             ]
            ],
            "type": "surface"
           }
          ],
          "table": [
           {
            "cells": {
             "fill": {
              "color": "#EBF0F8"
             },
             "line": {
              "color": "white"
             }
            },
            "header": {
             "fill": {
              "color": "#C8D4E3"
             },
             "line": {
              "color": "white"
             }
            },
            "type": "table"
           }
          ]
         },
         "layout": {
          "annotationdefaults": {
           "arrowcolor": "#2a3f5f",
           "arrowhead": 0,
           "arrowwidth": 1
          },
          "autotypenumbers": "strict",
          "coloraxis": {
           "colorbar": {
            "outlinewidth": 0,
            "ticks": ""
           }
          },
          "colorscale": {
           "diverging": [
            [
             0,
             "#8e0152"
            ],
            [
             0.1,
             "#c51b7d"
            ],
            [
             0.2,
             "#de77ae"
            ],
            [
             0.3,
             "#f1b6da"
            ],
            [
             0.4,
             "#fde0ef"
            ],
            [
             0.5,
             "#f7f7f7"
            ],
            [
             0.6,
             "#e6f5d0"
            ],
            [
             0.7,
             "#b8e186"
            ],
            [
             0.8,
             "#7fbc41"
            ],
            [
             0.9,
             "#4d9221"
            ],
            [
             1,
             "#276419"
            ]
           ],
           "sequential": [
            [
             0,
             "#0d0887"
            ],
            [
             0.1111111111111111,
             "#46039f"
            ],
            [
             0.2222222222222222,
             "#7201a8"
            ],
            [
             0.3333333333333333,
             "#9c179e"
            ],
            [
             0.4444444444444444,
             "#bd3786"
            ],
            [
             0.5555555555555556,
             "#d8576b"
            ],
            [
             0.6666666666666666,
             "#ed7953"
            ],
            [
             0.7777777777777778,
             "#fb9f3a"
            ],
            [
             0.8888888888888888,
             "#fdca26"
            ],
            [
             1,
             "#f0f921"
            ]
           ],
           "sequentialminus": [
            [
             0,
             "#0d0887"
            ],
            [
             0.1111111111111111,
             "#46039f"
            ],
            [
             0.2222222222222222,
             "#7201a8"
            ],
            [
             0.3333333333333333,
             "#9c179e"
            ],
            [
             0.4444444444444444,
             "#bd3786"
            ],
            [
             0.5555555555555556,
             "#d8576b"
            ],
            [
             0.6666666666666666,
             "#ed7953"
            ],
            [
             0.7777777777777778,
             "#fb9f3a"
            ],
            [
             0.8888888888888888,
             "#fdca26"
            ],
            [
             1,
             "#f0f921"
            ]
           ]
          },
          "colorway": [
           "#636efa",
           "#EF553B",
           "#00cc96",
           "#ab63fa",
           "#FFA15A",
           "#19d3f3",
           "#FF6692",
           "#B6E880",
           "#FF97FF",
           "#FECB52"
          ],
          "font": {
           "color": "#2a3f5f"
          },
          "geo": {
           "bgcolor": "white",
           "lakecolor": "white",
           "landcolor": "#E5ECF6",
           "showlakes": true,
           "showland": true,
           "subunitcolor": "white"
          },
          "hoverlabel": {
           "align": "left"
          },
          "hovermode": "closest",
          "mapbox": {
           "style": "light"
          },
          "paper_bgcolor": "white",
          "plot_bgcolor": "#E5ECF6",
          "polar": {
           "angularaxis": {
            "gridcolor": "white",
            "linecolor": "white",
            "ticks": ""
           },
           "bgcolor": "#E5ECF6",
           "radialaxis": {
            "gridcolor": "white",
            "linecolor": "white",
            "ticks": ""
           }
          },
          "scene": {
           "xaxis": {
            "backgroundcolor": "#E5ECF6",
            "gridcolor": "white",
            "gridwidth": 2,
            "linecolor": "white",
            "showbackground": true,
            "ticks": "",
            "zerolinecolor": "white"
           },
           "yaxis": {
            "backgroundcolor": "#E5ECF6",
            "gridcolor": "white",
            "gridwidth": 2,
            "linecolor": "white",
            "showbackground": true,
            "ticks": "",
            "zerolinecolor": "white"
           },
           "zaxis": {
            "backgroundcolor": "#E5ECF6",
            "gridcolor": "white",
            "gridwidth": 2,
            "linecolor": "white",
            "showbackground": true,
            "ticks": "",
            "zerolinecolor": "white"
           }
          },
          "shapedefaults": {
           "line": {
            "color": "#2a3f5f"
           }
          },
          "ternary": {
           "aaxis": {
            "gridcolor": "white",
            "linecolor": "white",
            "ticks": ""
           },
           "baxis": {
            "gridcolor": "white",
            "linecolor": "white",
            "ticks": ""
           },
           "bgcolor": "#E5ECF6",
           "caxis": {
            "gridcolor": "white",
            "linecolor": "white",
            "ticks": ""
           }
          },
          "title": {
           "x": 0.05
          },
          "xaxis": {
           "automargin": true,
           "gridcolor": "white",
           "linecolor": "white",
           "ticks": "",
           "title": {
            "standoff": 15
           },
           "zerolinecolor": "white",
           "zerolinewidth": 2
          },
          "yaxis": {
           "automargin": true,
           "gridcolor": "white",
           "linecolor": "white",
           "ticks": "",
           "title": {
            "standoff": 15
           },
           "zerolinecolor": "white",
           "zerolinewidth": 2
          }
         }
        },
        "title": {
         "text": "Total score by company"
        }
       }
      }
     },
     "metadata": {},
     "output_type": "display_data"
    }
   ],
   "source": [
    "import plotly.graph_objects as go \n",
    "\n",
    "fig = go.Figure(go.Bar(x=df.iloc[251:300]['name'],y=df['total_score'].values),go.Layout(title_text='Total score by company'))\n",
    "fig.show()"
   ]
  },
  {
   "cell_type": "code",
   "execution_count": 153,
   "metadata": {},
   "outputs": [
    {
     "data": {
      "application/vnd.plotly.v1+json": {
       "config": {
        "plotlyServerURL": "https://plot.ly"
       },
       "data": [
        {
         "type": "bar",
         "x": [
          "Pultegroup Inc",
          "Parker-Hannifin Corp",
          "PerkinElmer Inc",
          "Prologis Inc",
          "PPG Industries Inc",
          "Public Storage",
          "PNC Financial Services Group Inc",
          "Philip Morris International Inc",
          "Packaging Corp of America",
          "Phillips 66",
          "Prudential Financial Inc",
          "Pentair PLC",
          "Pinnacle West Capital Corp",
          "PPL Corp",
          "Quanta Services Inc",
          "Raymond James Financial Inc",
          "Regions Financial Corp",
          "Royal Caribbean Cruises Ltd",
          "Ralph Lauren Corp",
          "PVH Corp",
          "Robert Half International Inc",
          "Pioneer Natural Resources Co",
          "Rollins Inc",
          "Resmed Inc",
          "Charles Schwab Corp",
          "Rockwell Automation Inc",
          "TransDigm Group Inc",
          "Sealed Air Corp",
          "Roper Technologies Inc",
          "Stanley Black & Decker Inc",
          "Constellation Brands Inc",
          "Stryker Corp",
          "Sysco Corp",
          "Sherwin-Williams Co",
          "S&P Global Inc",
          "STERIS plc",
          "Synchrony Financial",
          "Simon Property Group Inc",
          "Sempra Energy",
          "Southern Co",
          "State Street Corp",
          "Snap-On Inc",
          "Raytheon Technologies Corp",
          "Hartford Financial Services Group Inc",
          "TE Connectivity Ltd",
          "Teleflex Inc",
          "Truist Financial Corp",
          "Teledyne Technologies Inc",
          "Target Corp"
         ],
         "y": [
          1147,
          1068,
          880,
          1171,
          1052,
          1178,
          1255,
          608,
          746,
          741,
          785,
          1023,
          891,
          936,
          1000,
          605,
          604,
          821,
          1475,
          712,
          1129,
          606,
          659,
          898,
          745,
          637,
          765,
          705,
          744,
          731,
          1239,
          840,
          651,
          803,
          781,
          1127,
          1081,
          851,
          742,
          967,
          847,
          654,
          657,
          737,
          1183,
          675,
          812,
          901,
          841,
          621,
          953,
          824,
          706,
          968,
          703,
          704,
          824,
          816,
          643,
          1100,
          868,
          1169,
          1000,
          739,
          1112,
          818,
          852,
          800,
          937,
          1100,
          1100,
          777,
          600,
          844,
          1074,
          769,
          600,
          982,
          685,
          607,
          895,
          651,
          835,
          698,
          1076,
          1206,
          944,
          619,
          1148,
          628,
          929,
          1063,
          703,
          1103,
          863,
          656,
          763,
          742,
          1118,
          673,
          640,
          635,
          1086,
          801,
          769,
          1145,
          633,
          1130,
          616,
          1161,
          1102,
          721,
          952,
          746,
          1110,
          1030,
          1100,
          727,
          817,
          1106,
          800,
          775,
          667,
          768,
          1050,
          691,
          743,
          770,
          845,
          1002,
          1142,
          1164,
          1142,
          608,
          957,
          622,
          1202,
          1433,
          623,
          1151,
          1047,
          1174,
          1103,
          634,
          1243,
          760,
          1100,
          1165,
          679,
          1068,
          1145,
          1270,
          812,
          734,
          1100,
          1140,
          693,
          678,
          658,
          666,
          885,
          1126,
          1084,
          1107,
          1120,
          1012,
          630,
          1100,
          1150,
          1127,
          652,
          653,
          1159,
          1100,
          945,
          852,
          1533,
          1160,
          1115,
          1125,
          701,
          1143,
          899,
          773,
          1109,
          1170,
          1216,
          1139,
          1100,
          1000,
          1175,
          1000,
          716,
          1009,
          1144,
          1417,
          1155,
          1312,
          1150,
          1160,
          891,
          899,
          1137,
          1215,
          1156,
          1195,
          1078,
          1150,
          1088,
          1280,
          1145,
          842,
          993,
          1000,
          1100,
          903,
          629,
          1281,
          647,
          1100,
          1000,
          1227,
          1140,
          1229,
          629,
          1153,
          937,
          735,
          600,
          626,
          1037,
          1122,
          1120,
          1245,
          1125,
          1207,
          1221,
          989,
          1180,
          1184,
          1054,
          1077,
          1182,
          1151,
          1050,
          1179,
          971,
          1139,
          1168,
          1135,
          1442,
          1077,
          1049,
          1290,
          1255,
          1348,
          1282,
          1204,
          1098,
          1207,
          679,
          879,
          1116,
          1128,
          1306,
          802,
          961,
          1100,
          664,
          1188,
          1131,
          1025,
          695,
          1224,
          1197,
          1176,
          1150,
          1118,
          709,
          694,
          609,
          1000,
          1229,
          810,
          726,
          1125,
          1124,
          1119,
          669,
          664,
          735,
          1161,
          1267,
          626,
          969,
          1294,
          1153,
          1142,
          1171,
          1245,
          752,
          1115,
          1528,
          600,
          892,
          1144,
          1135,
          1136,
          1168,
          1358,
          1186,
          1173,
          1162,
          601,
          788,
          1100,
          1100,
          1136,
          725,
          1167,
          1269,
          1058,
          1113,
          1150,
          618,
          1138,
          1100,
          1127,
          1000,
          1100,
          1168,
          696,
          1120,
          1148,
          1381,
          1178,
          1063,
          1045,
          1157,
          1287,
          1262,
          1101,
          906,
          1107,
          1274,
          939,
          1110,
          1027,
          676,
          975,
          1100,
          658,
          853,
          1156,
          1268,
          749,
          685,
          1078,
          1162,
          1103,
          1242,
          873,
          1078,
          1408,
          1131,
          1232,
          1119,
          1099,
          1140,
          1075,
          1052,
          899,
          1412,
          1105,
          942,
          1115,
          761,
          1100,
          1130,
          1260,
          1170,
          1067,
          1131,
          1161,
          774,
          1086,
          1116,
          947,
          677,
          1396,
          1152,
          646,
          1061,
          1250,
          1110,
          600,
          600,
          1088,
          1100,
          1205,
          1100,
          1093,
          1100,
          1139,
          1409,
          1244,
          1011,
          1000,
          1100,
          1159,
          741,
          1218,
          1209,
          953,
          1090,
          1191,
          1245,
          1106,
          1182,
          1100,
          1189,
          1373,
          1063,
          797,
          1306,
          1238,
          1100,
          1100,
          1101,
          1175,
          954,
          811,
          638,
          1130,
          838,
          1340,
          1184,
          1173,
          1160,
          1178,
          1204,
          1186,
          1170,
          1157,
          1128,
          656,
          637,
          1242,
          1194,
          1091,
          1121,
          1067,
          1536,
          1100,
          1137,
          1218,
          1130,
          1192,
          1130,
          1140,
          1141,
          650,
          1131,
          1146,
          1120,
          655,
          901,
          786,
          1186,
          827,
          1300,
          927,
          1292,
          1155,
          1107,
          1093,
          1090,
          1005,
          1262,
          916,
          1121,
          1181,
          1000,
          1100,
          610,
          715,
          792,
          1419,
          868,
          680,
          753,
          1154,
          744,
          1181,
          1413,
          1112,
          772,
          732,
          636,
          1007,
          1153,
          1111,
          711,
          980,
          1157,
          1259,
          995,
          1100,
          1258,
          1243,
          1042,
          653,
          1295,
          891,
          828,
          1343,
          1086,
          928,
          940,
          1226,
          1114,
          1012,
          1138,
          989,
          1132,
          1127,
          1171,
          1164,
          647,
          1131,
          1180,
          1086,
          1165,
          1112,
          1103,
          1154,
          615,
          1197,
          1146,
          1120,
          856,
          908,
          668,
          1065,
          1096,
          918,
          1173,
          838,
          1175,
          819,
          1140,
          698,
          1192,
          656,
          1062,
          1160,
          1201,
          1276,
          1133,
          1038,
          1083,
          769,
          1133,
          827,
          973,
          949,
          1152,
          897,
          610,
          642,
          1123,
          707,
          1166,
          674,
          1000,
          871,
          1100,
          998,
          1173,
          1110,
          950,
          865,
          1039,
          1088,
          658,
          834,
          615,
          922,
          722,
          996,
          759,
          1199,
          623,
          1178,
          747,
          600,
          620,
          755,
          697,
          933,
          763,
          1127,
          751,
          747,
          1005,
          1106,
          690,
          1256,
          1127,
          748,
          640,
          717,
          1081,
          768,
          968,
          886,
          1195,
          692,
          607,
          931,
          941,
          808,
          769,
          914,
          1057,
          686,
          899,
          721,
          1206,
          645,
          758,
          690,
          877,
          641,
          1182,
          1142,
          763,
          621,
          737,
          673,
          732,
          632,
          771,
          809,
          820,
          1189,
          750,
          1095,
          1101,
          717,
          651,
          1225,
          849,
          826,
          795,
          600,
          653,
          1165,
          657,
          660,
          751,
          1208,
          1060,
          1022,
          1104,
          919,
          630,
          724,
          667,
          713,
          912,
          991,
          1109,
          747,
          820,
          716,
          955,
          817,
          1146,
          940,
          669,
          1018,
          770,
          792,
          751,
          935,
          617,
          616,
          1015,
          630,
          958,
          634,
          635,
          1033,
          726,
          1127,
          762,
          620,
          1011,
          930,
          621,
          1137,
          1209,
          646,
          600,
          929,
          649,
          1363,
          1140,
          747,
          615,
          765,
          1243,
          1200,
          1056,
          951,
          843,
          1138,
          1100,
          1129,
          819,
          633
         ]
        }
       ],
       "layout": {
        "template": {
         "data": {
          "bar": [
           {
            "error_x": {
             "color": "#2a3f5f"
            },
            "error_y": {
             "color": "#2a3f5f"
            },
            "marker": {
             "line": {
              "color": "#E5ECF6",
              "width": 0.5
             },
             "pattern": {
              "fillmode": "overlay",
              "size": 10,
              "solidity": 0.2
             }
            },
            "type": "bar"
           }
          ],
          "barpolar": [
           {
            "marker": {
             "line": {
              "color": "#E5ECF6",
              "width": 0.5
             },
             "pattern": {
              "fillmode": "overlay",
              "size": 10,
              "solidity": 0.2
             }
            },
            "type": "barpolar"
           }
          ],
          "carpet": [
           {
            "aaxis": {
             "endlinecolor": "#2a3f5f",
             "gridcolor": "white",
             "linecolor": "white",
             "minorgridcolor": "white",
             "startlinecolor": "#2a3f5f"
            },
            "baxis": {
             "endlinecolor": "#2a3f5f",
             "gridcolor": "white",
             "linecolor": "white",
             "minorgridcolor": "white",
             "startlinecolor": "#2a3f5f"
            },
            "type": "carpet"
           }
          ],
          "choropleth": [
           {
            "colorbar": {
             "outlinewidth": 0,
             "ticks": ""
            },
            "type": "choropleth"
           }
          ],
          "contour": [
           {
            "colorbar": {
             "outlinewidth": 0,
             "ticks": ""
            },
            "colorscale": [
             [
              0,
              "#0d0887"
             ],
             [
              0.1111111111111111,
              "#46039f"
             ],
             [
              0.2222222222222222,
              "#7201a8"
             ],
             [
              0.3333333333333333,
              "#9c179e"
             ],
             [
              0.4444444444444444,
              "#bd3786"
             ],
             [
              0.5555555555555556,
              "#d8576b"
             ],
             [
              0.6666666666666666,
              "#ed7953"
             ],
             [
              0.7777777777777778,
              "#fb9f3a"
             ],
             [
              0.8888888888888888,
              "#fdca26"
             ],
             [
              1,
              "#f0f921"
             ]
            ],
            "type": "contour"
           }
          ],
          "contourcarpet": [
           {
            "colorbar": {
             "outlinewidth": 0,
             "ticks": ""
            },
            "type": "contourcarpet"
           }
          ],
          "heatmap": [
           {
            "colorbar": {
             "outlinewidth": 0,
             "ticks": ""
            },
            "colorscale": [
             [
              0,
              "#0d0887"
             ],
             [
              0.1111111111111111,
              "#46039f"
             ],
             [
              0.2222222222222222,
              "#7201a8"
             ],
             [
              0.3333333333333333,
              "#9c179e"
             ],
             [
              0.4444444444444444,
              "#bd3786"
             ],
             [
              0.5555555555555556,
              "#d8576b"
             ],
             [
              0.6666666666666666,
              "#ed7953"
             ],
             [
              0.7777777777777778,
              "#fb9f3a"
             ],
             [
              0.8888888888888888,
              "#fdca26"
             ],
             [
              1,
              "#f0f921"
             ]
            ],
            "type": "heatmap"
           }
          ],
          "heatmapgl": [
           {
            "colorbar": {
             "outlinewidth": 0,
             "ticks": ""
            },
            "colorscale": [
             [
              0,
              "#0d0887"
             ],
             [
              0.1111111111111111,
              "#46039f"
             ],
             [
              0.2222222222222222,
              "#7201a8"
             ],
             [
              0.3333333333333333,
              "#9c179e"
             ],
             [
              0.4444444444444444,
              "#bd3786"
             ],
             [
              0.5555555555555556,
              "#d8576b"
             ],
             [
              0.6666666666666666,
              "#ed7953"
             ],
             [
              0.7777777777777778,
              "#fb9f3a"
             ],
             [
              0.8888888888888888,
              "#fdca26"
             ],
             [
              1,
              "#f0f921"
             ]
            ],
            "type": "heatmapgl"
           }
          ],
          "histogram": [
           {
            "marker": {
             "pattern": {
              "fillmode": "overlay",
              "size": 10,
              "solidity": 0.2
             }
            },
            "type": "histogram"
           }
          ],
          "histogram2d": [
           {
            "colorbar": {
             "outlinewidth": 0,
             "ticks": ""
            },
            "colorscale": [
             [
              0,
              "#0d0887"
             ],
             [
              0.1111111111111111,
              "#46039f"
             ],
             [
              0.2222222222222222,
              "#7201a8"
             ],
             [
              0.3333333333333333,
              "#9c179e"
             ],
             [
              0.4444444444444444,
              "#bd3786"
             ],
             [
              0.5555555555555556,
              "#d8576b"
             ],
             [
              0.6666666666666666,
              "#ed7953"
             ],
             [
              0.7777777777777778,
              "#fb9f3a"
             ],
             [
              0.8888888888888888,
              "#fdca26"
             ],
             [
              1,
              "#f0f921"
             ]
            ],
            "type": "histogram2d"
           }
          ],
          "histogram2dcontour": [
           {
            "colorbar": {
             "outlinewidth": 0,
             "ticks": ""
            },
            "colorscale": [
             [
              0,
              "#0d0887"
             ],
             [
              0.1111111111111111,
              "#46039f"
             ],
             [
              0.2222222222222222,
              "#7201a8"
             ],
             [
              0.3333333333333333,
              "#9c179e"
             ],
             [
              0.4444444444444444,
              "#bd3786"
             ],
             [
              0.5555555555555556,
              "#d8576b"
             ],
             [
              0.6666666666666666,
              "#ed7953"
             ],
             [
              0.7777777777777778,
              "#fb9f3a"
             ],
             [
              0.8888888888888888,
              "#fdca26"
             ],
             [
              1,
              "#f0f921"
             ]
            ],
            "type": "histogram2dcontour"
           }
          ],
          "mesh3d": [
           {
            "colorbar": {
             "outlinewidth": 0,
             "ticks": ""
            },
            "type": "mesh3d"
           }
          ],
          "parcoords": [
           {
            "line": {
             "colorbar": {
              "outlinewidth": 0,
              "ticks": ""
             }
            },
            "type": "parcoords"
           }
          ],
          "pie": [
           {
            "automargin": true,
            "type": "pie"
           }
          ],
          "scatter": [
           {
            "fillpattern": {
             "fillmode": "overlay",
             "size": 10,
             "solidity": 0.2
            },
            "type": "scatter"
           }
          ],
          "scatter3d": [
           {
            "line": {
             "colorbar": {
              "outlinewidth": 0,
              "ticks": ""
             }
            },
            "marker": {
             "colorbar": {
              "outlinewidth": 0,
              "ticks": ""
             }
            },
            "type": "scatter3d"
           }
          ],
          "scattercarpet": [
           {
            "marker": {
             "colorbar": {
              "outlinewidth": 0,
              "ticks": ""
             }
            },
            "type": "scattercarpet"
           }
          ],
          "scattergeo": [
           {
            "marker": {
             "colorbar": {
              "outlinewidth": 0,
              "ticks": ""
             }
            },
            "type": "scattergeo"
           }
          ],
          "scattergl": [
           {
            "marker": {
             "colorbar": {
              "outlinewidth": 0,
              "ticks": ""
             }
            },
            "type": "scattergl"
           }
          ],
          "scattermapbox": [
           {
            "marker": {
             "colorbar": {
              "outlinewidth": 0,
              "ticks": ""
             }
            },
            "type": "scattermapbox"
           }
          ],
          "scatterpolar": [
           {
            "marker": {
             "colorbar": {
              "outlinewidth": 0,
              "ticks": ""
             }
            },
            "type": "scatterpolar"
           }
          ],
          "scatterpolargl": [
           {
            "marker": {
             "colorbar": {
              "outlinewidth": 0,
              "ticks": ""
             }
            },
            "type": "scatterpolargl"
           }
          ],
          "scatterternary": [
           {
            "marker": {
             "colorbar": {
              "outlinewidth": 0,
              "ticks": ""
             }
            },
            "type": "scatterternary"
           }
          ],
          "surface": [
           {
            "colorbar": {
             "outlinewidth": 0,
             "ticks": ""
            },
            "colorscale": [
             [
              0,
              "#0d0887"
             ],
             [
              0.1111111111111111,
              "#46039f"
             ],
             [
              0.2222222222222222,
              "#7201a8"
             ],
             [
              0.3333333333333333,
              "#9c179e"
             ],
             [
              0.4444444444444444,
              "#bd3786"
             ],
             [
              0.5555555555555556,
              "#d8576b"
             ],
             [
              0.6666666666666666,
              "#ed7953"
             ],
             [
              0.7777777777777778,
              "#fb9f3a"
             ],
             [
              0.8888888888888888,
              "#fdca26"
             ],
             [
              1,
              "#f0f921"
             ]
            ],
            "type": "surface"
           }
          ],
          "table": [
           {
            "cells": {
             "fill": {
              "color": "#EBF0F8"
             },
             "line": {
              "color": "white"
             }
            },
            "header": {
             "fill": {
              "color": "#C8D4E3"
             },
             "line": {
              "color": "white"
             }
            },
            "type": "table"
           }
          ]
         },
         "layout": {
          "annotationdefaults": {
           "arrowcolor": "#2a3f5f",
           "arrowhead": 0,
           "arrowwidth": 1
          },
          "autotypenumbers": "strict",
          "coloraxis": {
           "colorbar": {
            "outlinewidth": 0,
            "ticks": ""
           }
          },
          "colorscale": {
           "diverging": [
            [
             0,
             "#8e0152"
            ],
            [
             0.1,
             "#c51b7d"
            ],
            [
             0.2,
             "#de77ae"
            ],
            [
             0.3,
             "#f1b6da"
            ],
            [
             0.4,
             "#fde0ef"
            ],
            [
             0.5,
             "#f7f7f7"
            ],
            [
             0.6,
             "#e6f5d0"
            ],
            [
             0.7,
             "#b8e186"
            ],
            [
             0.8,
             "#7fbc41"
            ],
            [
             0.9,
             "#4d9221"
            ],
            [
             1,
             "#276419"
            ]
           ],
           "sequential": [
            [
             0,
             "#0d0887"
            ],
            [
             0.1111111111111111,
             "#46039f"
            ],
            [
             0.2222222222222222,
             "#7201a8"
            ],
            [
             0.3333333333333333,
             "#9c179e"
            ],
            [
             0.4444444444444444,
             "#bd3786"
            ],
            [
             0.5555555555555556,
             "#d8576b"
            ],
            [
             0.6666666666666666,
             "#ed7953"
            ],
            [
             0.7777777777777778,
             "#fb9f3a"
            ],
            [
             0.8888888888888888,
             "#fdca26"
            ],
            [
             1,
             "#f0f921"
            ]
           ],
           "sequentialminus": [
            [
             0,
             "#0d0887"
            ],
            [
             0.1111111111111111,
             "#46039f"
            ],
            [
             0.2222222222222222,
             "#7201a8"
            ],
            [
             0.3333333333333333,
             "#9c179e"
            ],
            [
             0.4444444444444444,
             "#bd3786"
            ],
            [
             0.5555555555555556,
             "#d8576b"
            ],
            [
             0.6666666666666666,
             "#ed7953"
            ],
            [
             0.7777777777777778,
             "#fb9f3a"
            ],
            [
             0.8888888888888888,
             "#fdca26"
            ],
            [
             1,
             "#f0f921"
            ]
           ]
          },
          "colorway": [
           "#636efa",
           "#EF553B",
           "#00cc96",
           "#ab63fa",
           "#FFA15A",
           "#19d3f3",
           "#FF6692",
           "#B6E880",
           "#FF97FF",
           "#FECB52"
          ],
          "font": {
           "color": "#2a3f5f"
          },
          "geo": {
           "bgcolor": "white",
           "lakecolor": "white",
           "landcolor": "#E5ECF6",
           "showlakes": true,
           "showland": true,
           "subunitcolor": "white"
          },
          "hoverlabel": {
           "align": "left"
          },
          "hovermode": "closest",
          "mapbox": {
           "style": "light"
          },
          "paper_bgcolor": "white",
          "plot_bgcolor": "#E5ECF6",
          "polar": {
           "angularaxis": {
            "gridcolor": "white",
            "linecolor": "white",
            "ticks": ""
           },
           "bgcolor": "#E5ECF6",
           "radialaxis": {
            "gridcolor": "white",
            "linecolor": "white",
            "ticks": ""
           }
          },
          "scene": {
           "xaxis": {
            "backgroundcolor": "#E5ECF6",
            "gridcolor": "white",
            "gridwidth": 2,
            "linecolor": "white",
            "showbackground": true,
            "ticks": "",
            "zerolinecolor": "white"
           },
           "yaxis": {
            "backgroundcolor": "#E5ECF6",
            "gridcolor": "white",
            "gridwidth": 2,
            "linecolor": "white",
            "showbackground": true,
            "ticks": "",
            "zerolinecolor": "white"
           },
           "zaxis": {
            "backgroundcolor": "#E5ECF6",
            "gridcolor": "white",
            "gridwidth": 2,
            "linecolor": "white",
            "showbackground": true,
            "ticks": "",
            "zerolinecolor": "white"
           }
          },
          "shapedefaults": {
           "line": {
            "color": "#2a3f5f"
           }
          },
          "ternary": {
           "aaxis": {
            "gridcolor": "white",
            "linecolor": "white",
            "ticks": ""
           },
           "baxis": {
            "gridcolor": "white",
            "linecolor": "white",
            "ticks": ""
           },
           "bgcolor": "#E5ECF6",
           "caxis": {
            "gridcolor": "white",
            "linecolor": "white",
            "ticks": ""
           }
          },
          "title": {
           "x": 0.05
          },
          "xaxis": {
           "automargin": true,
           "gridcolor": "white",
           "linecolor": "white",
           "ticks": "",
           "title": {
            "standoff": 15
           },
           "zerolinecolor": "white",
           "zerolinewidth": 2
          },
          "yaxis": {
           "automargin": true,
           "gridcolor": "white",
           "linecolor": "white",
           "ticks": "",
           "title": {
            "standoff": 15
           },
           "zerolinecolor": "white",
           "zerolinewidth": 2
          }
         }
        },
        "title": {
         "text": "Total score by company"
        }
       }
      }
     },
     "metadata": {},
     "output_type": "display_data"
    }
   ],
   "source": [
    "import plotly.graph_objects as go \n",
    "\n",
    "fig = go.Figure(go.Bar(x=df.iloc[351:400]['name'],y=df['total_score'].values),go.Layout(title_text='Total score by company'))\n",
    "fig.show()"
   ]
  },
  {
   "cell_type": "code",
   "execution_count": 154,
   "metadata": {},
   "outputs": [
    {
     "data": {
      "application/vnd.plotly.v1+json": {
       "config": {
        "plotlyServerURL": "https://plot.ly"
       },
       "data": [
        {
         "type": "bar",
         "x": [
          "Tapestry Inc",
          "Travelers Companies Inc",
          "Thermo Fisher Scientific Inc",
          "Trane Technologies PLC",
          "Tyson Foods Inc",
          "Tyler Technologies Inc",
          "Textron Inc",
          "UnitedHealth Group Inc",
          "United Parcel Service Inc",
          "UDR Inc",
          "Universal Health Services Inc",
          "Mosaic Co",
          "US Bancorp",
          "United Rentals Inc",
          "Vornado Realty Trust",
          "Valero Energy Corp",
          "VF Corp",
          "Visa Inc",
          "Ventas Inc",
          "Vulcan Materials Co",
          "WEC Energy Group Inc",
          "Welltower OP LLC",
          "Waters Corp",
          "Waste Management Inc",
          "Westinghouse Air Brake Technologies Corp",
          "Williams Companies Inc",
          "Wells Fargo & Co",
          "Whirlpool Corp",
          "West Pharmaceutical Services Inc",
          "W R Berkley Corp",
          "Walmart Inc",
          "Western Union Co",
          "Yum! Brands Inc",
          "Xylem Inc",
          "Weyerhaeuser Co",
          "Westrock Co",
          "Exxon Mobil Corp",
          "Zimmer Biomet Holdings Inc",
          "Zoetis Inc",
          "Deere & Co",
          "Dupont De Nemours Inc",
          "Dominion Energy Inc",
          "CVS Health Corp",
          "Delta Air Lines Inc",
          "Salesforce Inc",
          "Chevron Corp",
          "Corteva Inc",
          "Coterra Energy Inc",
          "Catalent Inc"
         ],
         "y": [
          1147,
          1068,
          880,
          1171,
          1052,
          1178,
          1255,
          608,
          746,
          741,
          785,
          1023,
          891,
          936,
          1000,
          605,
          604,
          821,
          1475,
          712,
          1129,
          606,
          659,
          898,
          745,
          637,
          765,
          705,
          744,
          731,
          1239,
          840,
          651,
          803,
          781,
          1127,
          1081,
          851,
          742,
          967,
          847,
          654,
          657,
          737,
          1183,
          675,
          812,
          901,
          841,
          621,
          953,
          824,
          706,
          968,
          703,
          704,
          824,
          816,
          643,
          1100,
          868,
          1169,
          1000,
          739,
          1112,
          818,
          852,
          800,
          937,
          1100,
          1100,
          777,
          600,
          844,
          1074,
          769,
          600,
          982,
          685,
          607,
          895,
          651,
          835,
          698,
          1076,
          1206,
          944,
          619,
          1148,
          628,
          929,
          1063,
          703,
          1103,
          863,
          656,
          763,
          742,
          1118,
          673,
          640,
          635,
          1086,
          801,
          769,
          1145,
          633,
          1130,
          616,
          1161,
          1102,
          721,
          952,
          746,
          1110,
          1030,
          1100,
          727,
          817,
          1106,
          800,
          775,
          667,
          768,
          1050,
          691,
          743,
          770,
          845,
          1002,
          1142,
          1164,
          1142,
          608,
          957,
          622,
          1202,
          1433,
          623,
          1151,
          1047,
          1174,
          1103,
          634,
          1243,
          760,
          1100,
          1165,
          679,
          1068,
          1145,
          1270,
          812,
          734,
          1100,
          1140,
          693,
          678,
          658,
          666,
          885,
          1126,
          1084,
          1107,
          1120,
          1012,
          630,
          1100,
          1150,
          1127,
          652,
          653,
          1159,
          1100,
          945,
          852,
          1533,
          1160,
          1115,
          1125,
          701,
          1143,
          899,
          773,
          1109,
          1170,
          1216,
          1139,
          1100,
          1000,
          1175,
          1000,
          716,
          1009,
          1144,
          1417,
          1155,
          1312,
          1150,
          1160,
          891,
          899,
          1137,
          1215,
          1156,
          1195,
          1078,
          1150,
          1088,
          1280,
          1145,
          842,
          993,
          1000,
          1100,
          903,
          629,
          1281,
          647,
          1100,
          1000,
          1227,
          1140,
          1229,
          629,
          1153,
          937,
          735,
          600,
          626,
          1037,
          1122,
          1120,
          1245,
          1125,
          1207,
          1221,
          989,
          1180,
          1184,
          1054,
          1077,
          1182,
          1151,
          1050,
          1179,
          971,
          1139,
          1168,
          1135,
          1442,
          1077,
          1049,
          1290,
          1255,
          1348,
          1282,
          1204,
          1098,
          1207,
          679,
          879,
          1116,
          1128,
          1306,
          802,
          961,
          1100,
          664,
          1188,
          1131,
          1025,
          695,
          1224,
          1197,
          1176,
          1150,
          1118,
          709,
          694,
          609,
          1000,
          1229,
          810,
          726,
          1125,
          1124,
          1119,
          669,
          664,
          735,
          1161,
          1267,
          626,
          969,
          1294,
          1153,
          1142,
          1171,
          1245,
          752,
          1115,
          1528,
          600,
          892,
          1144,
          1135,
          1136,
          1168,
          1358,
          1186,
          1173,
          1162,
          601,
          788,
          1100,
          1100,
          1136,
          725,
          1167,
          1269,
          1058,
          1113,
          1150,
          618,
          1138,
          1100,
          1127,
          1000,
          1100,
          1168,
          696,
          1120,
          1148,
          1381,
          1178,
          1063,
          1045,
          1157,
          1287,
          1262,
          1101,
          906,
          1107,
          1274,
          939,
          1110,
          1027,
          676,
          975,
          1100,
          658,
          853,
          1156,
          1268,
          749,
          685,
          1078,
          1162,
          1103,
          1242,
          873,
          1078,
          1408,
          1131,
          1232,
          1119,
          1099,
          1140,
          1075,
          1052,
          899,
          1412,
          1105,
          942,
          1115,
          761,
          1100,
          1130,
          1260,
          1170,
          1067,
          1131,
          1161,
          774,
          1086,
          1116,
          947,
          677,
          1396,
          1152,
          646,
          1061,
          1250,
          1110,
          600,
          600,
          1088,
          1100,
          1205,
          1100,
          1093,
          1100,
          1139,
          1409,
          1244,
          1011,
          1000,
          1100,
          1159,
          741,
          1218,
          1209,
          953,
          1090,
          1191,
          1245,
          1106,
          1182,
          1100,
          1189,
          1373,
          1063,
          797,
          1306,
          1238,
          1100,
          1100,
          1101,
          1175,
          954,
          811,
          638,
          1130,
          838,
          1340,
          1184,
          1173,
          1160,
          1178,
          1204,
          1186,
          1170,
          1157,
          1128,
          656,
          637,
          1242,
          1194,
          1091,
          1121,
          1067,
          1536,
          1100,
          1137,
          1218,
          1130,
          1192,
          1130,
          1140,
          1141,
          650,
          1131,
          1146,
          1120,
          655,
          901,
          786,
          1186,
          827,
          1300,
          927,
          1292,
          1155,
          1107,
          1093,
          1090,
          1005,
          1262,
          916,
          1121,
          1181,
          1000,
          1100,
          610,
          715,
          792,
          1419,
          868,
          680,
          753,
          1154,
          744,
          1181,
          1413,
          1112,
          772,
          732,
          636,
          1007,
          1153,
          1111,
          711,
          980,
          1157,
          1259,
          995,
          1100,
          1258,
          1243,
          1042,
          653,
          1295,
          891,
          828,
          1343,
          1086,
          928,
          940,
          1226,
          1114,
          1012,
          1138,
          989,
          1132,
          1127,
          1171,
          1164,
          647,
          1131,
          1180,
          1086,
          1165,
          1112,
          1103,
          1154,
          615,
          1197,
          1146,
          1120,
          856,
          908,
          668,
          1065,
          1096,
          918,
          1173,
          838,
          1175,
          819,
          1140,
          698,
          1192,
          656,
          1062,
          1160,
          1201,
          1276,
          1133,
          1038,
          1083,
          769,
          1133,
          827,
          973,
          949,
          1152,
          897,
          610,
          642,
          1123,
          707,
          1166,
          674,
          1000,
          871,
          1100,
          998,
          1173,
          1110,
          950,
          865,
          1039,
          1088,
          658,
          834,
          615,
          922,
          722,
          996,
          759,
          1199,
          623,
          1178,
          747,
          600,
          620,
          755,
          697,
          933,
          763,
          1127,
          751,
          747,
          1005,
          1106,
          690,
          1256,
          1127,
          748,
          640,
          717,
          1081,
          768,
          968,
          886,
          1195,
          692,
          607,
          931,
          941,
          808,
          769,
          914,
          1057,
          686,
          899,
          721,
          1206,
          645,
          758,
          690,
          877,
          641,
          1182,
          1142,
          763,
          621,
          737,
          673,
          732,
          632,
          771,
          809,
          820,
          1189,
          750,
          1095,
          1101,
          717,
          651,
          1225,
          849,
          826,
          795,
          600,
          653,
          1165,
          657,
          660,
          751,
          1208,
          1060,
          1022,
          1104,
          919,
          630,
          724,
          667,
          713,
          912,
          991,
          1109,
          747,
          820,
          716,
          955,
          817,
          1146,
          940,
          669,
          1018,
          770,
          792,
          751,
          935,
          617,
          616,
          1015,
          630,
          958,
          634,
          635,
          1033,
          726,
          1127,
          762,
          620,
          1011,
          930,
          621,
          1137,
          1209,
          646,
          600,
          929,
          649,
          1363,
          1140,
          747,
          615,
          765,
          1243,
          1200,
          1056,
          951,
          843,
          1138,
          1100,
          1129,
          819,
          633
         ]
        }
       ],
       "layout": {
        "template": {
         "data": {
          "bar": [
           {
            "error_x": {
             "color": "#2a3f5f"
            },
            "error_y": {
             "color": "#2a3f5f"
            },
            "marker": {
             "line": {
              "color": "#E5ECF6",
              "width": 0.5
             },
             "pattern": {
              "fillmode": "overlay",
              "size": 10,
              "solidity": 0.2
             }
            },
            "type": "bar"
           }
          ],
          "barpolar": [
           {
            "marker": {
             "line": {
              "color": "#E5ECF6",
              "width": 0.5
             },
             "pattern": {
              "fillmode": "overlay",
              "size": 10,
              "solidity": 0.2
             }
            },
            "type": "barpolar"
           }
          ],
          "carpet": [
           {
            "aaxis": {
             "endlinecolor": "#2a3f5f",
             "gridcolor": "white",
             "linecolor": "white",
             "minorgridcolor": "white",
             "startlinecolor": "#2a3f5f"
            },
            "baxis": {
             "endlinecolor": "#2a3f5f",
             "gridcolor": "white",
             "linecolor": "white",
             "minorgridcolor": "white",
             "startlinecolor": "#2a3f5f"
            },
            "type": "carpet"
           }
          ],
          "choropleth": [
           {
            "colorbar": {
             "outlinewidth": 0,
             "ticks": ""
            },
            "type": "choropleth"
           }
          ],
          "contour": [
           {
            "colorbar": {
             "outlinewidth": 0,
             "ticks": ""
            },
            "colorscale": [
             [
              0,
              "#0d0887"
             ],
             [
              0.1111111111111111,
              "#46039f"
             ],
             [
              0.2222222222222222,
              "#7201a8"
             ],
             [
              0.3333333333333333,
              "#9c179e"
             ],
             [
              0.4444444444444444,
              "#bd3786"
             ],
             [
              0.5555555555555556,
              "#d8576b"
             ],
             [
              0.6666666666666666,
              "#ed7953"
             ],
             [
              0.7777777777777778,
              "#fb9f3a"
             ],
             [
              0.8888888888888888,
              "#fdca26"
             ],
             [
              1,
              "#f0f921"
             ]
            ],
            "type": "contour"
           }
          ],
          "contourcarpet": [
           {
            "colorbar": {
             "outlinewidth": 0,
             "ticks": ""
            },
            "type": "contourcarpet"
           }
          ],
          "heatmap": [
           {
            "colorbar": {
             "outlinewidth": 0,
             "ticks": ""
            },
            "colorscale": [
             [
              0,
              "#0d0887"
             ],
             [
              0.1111111111111111,
              "#46039f"
             ],
             [
              0.2222222222222222,
              "#7201a8"
             ],
             [
              0.3333333333333333,
              "#9c179e"
             ],
             [
              0.4444444444444444,
              "#bd3786"
             ],
             [
              0.5555555555555556,
              "#d8576b"
             ],
             [
              0.6666666666666666,
              "#ed7953"
             ],
             [
              0.7777777777777778,
              "#fb9f3a"
             ],
             [
              0.8888888888888888,
              "#fdca26"
             ],
             [
              1,
              "#f0f921"
             ]
            ],
            "type": "heatmap"
           }
          ],
          "heatmapgl": [
           {
            "colorbar": {
             "outlinewidth": 0,
             "ticks": ""
            },
            "colorscale": [
             [
              0,
              "#0d0887"
             ],
             [
              0.1111111111111111,
              "#46039f"
             ],
             [
              0.2222222222222222,
              "#7201a8"
             ],
             [
              0.3333333333333333,
              "#9c179e"
             ],
             [
              0.4444444444444444,
              "#bd3786"
             ],
             [
              0.5555555555555556,
              "#d8576b"
             ],
             [
              0.6666666666666666,
              "#ed7953"
             ],
             [
              0.7777777777777778,
              "#fb9f3a"
             ],
             [
              0.8888888888888888,
              "#fdca26"
             ],
             [
              1,
              "#f0f921"
             ]
            ],
            "type": "heatmapgl"
           }
          ],
          "histogram": [
           {
            "marker": {
             "pattern": {
              "fillmode": "overlay",
              "size": 10,
              "solidity": 0.2
             }
            },
            "type": "histogram"
           }
          ],
          "histogram2d": [
           {
            "colorbar": {
             "outlinewidth": 0,
             "ticks": ""
            },
            "colorscale": [
             [
              0,
              "#0d0887"
             ],
             [
              0.1111111111111111,
              "#46039f"
             ],
             [
              0.2222222222222222,
              "#7201a8"
             ],
             [
              0.3333333333333333,
              "#9c179e"
             ],
             [
              0.4444444444444444,
              "#bd3786"
             ],
             [
              0.5555555555555556,
              "#d8576b"
             ],
             [
              0.6666666666666666,
              "#ed7953"
             ],
             [
              0.7777777777777778,
              "#fb9f3a"
             ],
             [
              0.8888888888888888,
              "#fdca26"
             ],
             [
              1,
              "#f0f921"
             ]
            ],
            "type": "histogram2d"
           }
          ],
          "histogram2dcontour": [
           {
            "colorbar": {
             "outlinewidth": 0,
             "ticks": ""
            },
            "colorscale": [
             [
              0,
              "#0d0887"
             ],
             [
              0.1111111111111111,
              "#46039f"
             ],
             [
              0.2222222222222222,
              "#7201a8"
             ],
             [
              0.3333333333333333,
              "#9c179e"
             ],
             [
              0.4444444444444444,
              "#bd3786"
             ],
             [
              0.5555555555555556,
              "#d8576b"
             ],
             [
              0.6666666666666666,
              "#ed7953"
             ],
             [
              0.7777777777777778,
              "#fb9f3a"
             ],
             [
              0.8888888888888888,
              "#fdca26"
             ],
             [
              1,
              "#f0f921"
             ]
            ],
            "type": "histogram2dcontour"
           }
          ],
          "mesh3d": [
           {
            "colorbar": {
             "outlinewidth": 0,
             "ticks": ""
            },
            "type": "mesh3d"
           }
          ],
          "parcoords": [
           {
            "line": {
             "colorbar": {
              "outlinewidth": 0,
              "ticks": ""
             }
            },
            "type": "parcoords"
           }
          ],
          "pie": [
           {
            "automargin": true,
            "type": "pie"
           }
          ],
          "scatter": [
           {
            "fillpattern": {
             "fillmode": "overlay",
             "size": 10,
             "solidity": 0.2
            },
            "type": "scatter"
           }
          ],
          "scatter3d": [
           {
            "line": {
             "colorbar": {
              "outlinewidth": 0,
              "ticks": ""
             }
            },
            "marker": {
             "colorbar": {
              "outlinewidth": 0,
              "ticks": ""
             }
            },
            "type": "scatter3d"
           }
          ],
          "scattercarpet": [
           {
            "marker": {
             "colorbar": {
              "outlinewidth": 0,
              "ticks": ""
             }
            },
            "type": "scattercarpet"
           }
          ],
          "scattergeo": [
           {
            "marker": {
             "colorbar": {
              "outlinewidth": 0,
              "ticks": ""
             }
            },
            "type": "scattergeo"
           }
          ],
          "scattergl": [
           {
            "marker": {
             "colorbar": {
              "outlinewidth": 0,
              "ticks": ""
             }
            },
            "type": "scattergl"
           }
          ],
          "scattermapbox": [
           {
            "marker": {
             "colorbar": {
              "outlinewidth": 0,
              "ticks": ""
             }
            },
            "type": "scattermapbox"
           }
          ],
          "scatterpolar": [
           {
            "marker": {
             "colorbar": {
              "outlinewidth": 0,
              "ticks": ""
             }
            },
            "type": "scatterpolar"
           }
          ],
          "scatterpolargl": [
           {
            "marker": {
             "colorbar": {
              "outlinewidth": 0,
              "ticks": ""
             }
            },
            "type": "scatterpolargl"
           }
          ],
          "scatterternary": [
           {
            "marker": {
             "colorbar": {
              "outlinewidth": 0,
              "ticks": ""
             }
            },
            "type": "scatterternary"
           }
          ],
          "surface": [
           {
            "colorbar": {
             "outlinewidth": 0,
             "ticks": ""
            },
            "colorscale": [
             [
              0,
              "#0d0887"
             ],
             [
              0.1111111111111111,
              "#46039f"
             ],
             [
              0.2222222222222222,
              "#7201a8"
             ],
             [
              0.3333333333333333,
              "#9c179e"
             ],
             [
              0.4444444444444444,
              "#bd3786"
             ],
             [
              0.5555555555555556,
              "#d8576b"
             ],
             [
              0.6666666666666666,
              "#ed7953"
             ],
             [
              0.7777777777777778,
              "#fb9f3a"
             ],
             [
              0.8888888888888888,
              "#fdca26"
             ],
             [
              1,
              "#f0f921"
             ]
            ],
            "type": "surface"
           }
          ],
          "table": [
           {
            "cells": {
             "fill": {
              "color": "#EBF0F8"
             },
             "line": {
              "color": "white"
             }
            },
            "header": {
             "fill": {
              "color": "#C8D4E3"
             },
             "line": {
              "color": "white"
             }
            },
            "type": "table"
           }
          ]
         },
         "layout": {
          "annotationdefaults": {
           "arrowcolor": "#2a3f5f",
           "arrowhead": 0,
           "arrowwidth": 1
          },
          "autotypenumbers": "strict",
          "coloraxis": {
           "colorbar": {
            "outlinewidth": 0,
            "ticks": ""
           }
          },
          "colorscale": {
           "diverging": [
            [
             0,
             "#8e0152"
            ],
            [
             0.1,
             "#c51b7d"
            ],
            [
             0.2,
             "#de77ae"
            ],
            [
             0.3,
             "#f1b6da"
            ],
            [
             0.4,
             "#fde0ef"
            ],
            [
             0.5,
             "#f7f7f7"
            ],
            [
             0.6,
             "#e6f5d0"
            ],
            [
             0.7,
             "#b8e186"
            ],
            [
             0.8,
             "#7fbc41"
            ],
            [
             0.9,
             "#4d9221"
            ],
            [
             1,
             "#276419"
            ]
           ],
           "sequential": [
            [
             0,
             "#0d0887"
            ],
            [
             0.1111111111111111,
             "#46039f"
            ],
            [
             0.2222222222222222,
             "#7201a8"
            ],
            [
             0.3333333333333333,
             "#9c179e"
            ],
            [
             0.4444444444444444,
             "#bd3786"
            ],
            [
             0.5555555555555556,
             "#d8576b"
            ],
            [
             0.6666666666666666,
             "#ed7953"
            ],
            [
             0.7777777777777778,
             "#fb9f3a"
            ],
            [
             0.8888888888888888,
             "#fdca26"
            ],
            [
             1,
             "#f0f921"
            ]
           ],
           "sequentialminus": [
            [
             0,
             "#0d0887"
            ],
            [
             0.1111111111111111,
             "#46039f"
            ],
            [
             0.2222222222222222,
             "#7201a8"
            ],
            [
             0.3333333333333333,
             "#9c179e"
            ],
            [
             0.4444444444444444,
             "#bd3786"
            ],
            [
             0.5555555555555556,
             "#d8576b"
            ],
            [
             0.6666666666666666,
             "#ed7953"
            ],
            [
             0.7777777777777778,
             "#fb9f3a"
            ],
            [
             0.8888888888888888,
             "#fdca26"
            ],
            [
             1,
             "#f0f921"
            ]
           ]
          },
          "colorway": [
           "#636efa",
           "#EF553B",
           "#00cc96",
           "#ab63fa",
           "#FFA15A",
           "#19d3f3",
           "#FF6692",
           "#B6E880",
           "#FF97FF",
           "#FECB52"
          ],
          "font": {
           "color": "#2a3f5f"
          },
          "geo": {
           "bgcolor": "white",
           "lakecolor": "white",
           "landcolor": "#E5ECF6",
           "showlakes": true,
           "showland": true,
           "subunitcolor": "white"
          },
          "hoverlabel": {
           "align": "left"
          },
          "hovermode": "closest",
          "mapbox": {
           "style": "light"
          },
          "paper_bgcolor": "white",
          "plot_bgcolor": "#E5ECF6",
          "polar": {
           "angularaxis": {
            "gridcolor": "white",
            "linecolor": "white",
            "ticks": ""
           },
           "bgcolor": "#E5ECF6",
           "radialaxis": {
            "gridcolor": "white",
            "linecolor": "white",
            "ticks": ""
           }
          },
          "scene": {
           "xaxis": {
            "backgroundcolor": "#E5ECF6",
            "gridcolor": "white",
            "gridwidth": 2,
            "linecolor": "white",
            "showbackground": true,
            "ticks": "",
            "zerolinecolor": "white"
           },
           "yaxis": {
            "backgroundcolor": "#E5ECF6",
            "gridcolor": "white",
            "gridwidth": 2,
            "linecolor": "white",
            "showbackground": true,
            "ticks": "",
            "zerolinecolor": "white"
           },
           "zaxis": {
            "backgroundcolor": "#E5ECF6",
            "gridcolor": "white",
            "gridwidth": 2,
            "linecolor": "white",
            "showbackground": true,
            "ticks": "",
            "zerolinecolor": "white"
           }
          },
          "shapedefaults": {
           "line": {
            "color": "#2a3f5f"
           }
          },
          "ternary": {
           "aaxis": {
            "gridcolor": "white",
            "linecolor": "white",
            "ticks": ""
           },
           "baxis": {
            "gridcolor": "white",
            "linecolor": "white",
            "ticks": ""
           },
           "bgcolor": "#E5ECF6",
           "caxis": {
            "gridcolor": "white",
            "linecolor": "white",
            "ticks": ""
           }
          },
          "title": {
           "x": 0.05
          },
          "xaxis": {
           "automargin": true,
           "gridcolor": "white",
           "linecolor": "white",
           "ticks": "",
           "title": {
            "standoff": 15
           },
           "zerolinecolor": "white",
           "zerolinewidth": 2
          },
          "yaxis": {
           "automargin": true,
           "gridcolor": "white",
           "linecolor": "white",
           "ticks": "",
           "title": {
            "standoff": 15
           },
           "zerolinecolor": "white",
           "zerolinewidth": 2
          }
         }
        },
        "title": {
         "text": "Total score by company"
        }
       }
      }
     },
     "metadata": {},
     "output_type": "display_data"
    }
   ],
   "source": [
    "import plotly.graph_objects as go \n",
    "\n",
    "fig = go.Figure(go.Bar(x=df.iloc[401:450]['name'],y=df['total_score'].values),go.Layout(title_text='Total score by company'))\n",
    "fig.show()"
   ]
  },
  {
   "cell_type": "code",
   "execution_count": 155,
   "metadata": {},
   "outputs": [
    {
     "data": {
      "application/vnd.plotly.v1+json": {
       "config": {
        "plotlyServerURL": "https://plot.ly"
       },
       "data": [
        {
         "type": "bar",
         "x": [
          "Charles River Laboratories International Inc",
          "Conocophillips",
          "Cooper Companies Inc",
          "Capital One Financial Corp",
          "Centene Corp",
          "CenterPoint Energy Inc",
          "CMS Energy Corp",
          "Cummins Inc",
          "Colgate-Palmolive Co",
          "3M Co",
          "Citizens Financial Group Inc",
          "Conagra Brands Inc",
          "Cigna Corp",
          "Cardinal Health Inc",
          "Mastercard Inc",
          "Lamb Weston Holdings Inc",
          "Mid-America Apartment Communities Inc",
          "Martin Marietta Materials Inc",
          "Southwest Airlines Co",
          "Lincoln National Corp",
          "Lennar Corp",
          "Procter & Gamble Co",
          "Organon & Co",
          "Occidental Petroleum Corp",
          "Dell Technologies Inc",
          "Paycom Software Inc",
          "Public Service Enterprise Group Inc",
          "ONEOK Inc",
          "NRG Energy Inc",
          "Loews Corp",
          "Omnicom Group Inc",
          "Oracle Corp",
          "Realty Income Corp",
          "Domino's Pizza Inc",
          "AT&T Inc",
          "Union Pacific Corp",
          "Newmont Corporation",
          "FedEx Corp",
          "Nike Inc",
          "Ford Motor Co",
          "Lockheed Martin Corp",
          "Republic Services Inc",
          "Enphase Energy Inc",
          "Exelon Corp",
          "Expeditors International of Washington Inc",
          "Expedia Group Inc",
          "Fastenal Co",
          "F5 Inc",
          "Fiserv Inc"
         ],
         "y": [
          1147,
          1068,
          880,
          1171,
          1052,
          1178,
          1255,
          608,
          746,
          741,
          785,
          1023,
          891,
          936,
          1000,
          605,
          604,
          821,
          1475,
          712,
          1129,
          606,
          659,
          898,
          745,
          637,
          765,
          705,
          744,
          731,
          1239,
          840,
          651,
          803,
          781,
          1127,
          1081,
          851,
          742,
          967,
          847,
          654,
          657,
          737,
          1183,
          675,
          812,
          901,
          841,
          621,
          953,
          824,
          706,
          968,
          703,
          704,
          824,
          816,
          643,
          1100,
          868,
          1169,
          1000,
          739,
          1112,
          818,
          852,
          800,
          937,
          1100,
          1100,
          777,
          600,
          844,
          1074,
          769,
          600,
          982,
          685,
          607,
          895,
          651,
          835,
          698,
          1076,
          1206,
          944,
          619,
          1148,
          628,
          929,
          1063,
          703,
          1103,
          863,
          656,
          763,
          742,
          1118,
          673,
          640,
          635,
          1086,
          801,
          769,
          1145,
          633,
          1130,
          616,
          1161,
          1102,
          721,
          952,
          746,
          1110,
          1030,
          1100,
          727,
          817,
          1106,
          800,
          775,
          667,
          768,
          1050,
          691,
          743,
          770,
          845,
          1002,
          1142,
          1164,
          1142,
          608,
          957,
          622,
          1202,
          1433,
          623,
          1151,
          1047,
          1174,
          1103,
          634,
          1243,
          760,
          1100,
          1165,
          679,
          1068,
          1145,
          1270,
          812,
          734,
          1100,
          1140,
          693,
          678,
          658,
          666,
          885,
          1126,
          1084,
          1107,
          1120,
          1012,
          630,
          1100,
          1150,
          1127,
          652,
          653,
          1159,
          1100,
          945,
          852,
          1533,
          1160,
          1115,
          1125,
          701,
          1143,
          899,
          773,
          1109,
          1170,
          1216,
          1139,
          1100,
          1000,
          1175,
          1000,
          716,
          1009,
          1144,
          1417,
          1155,
          1312,
          1150,
          1160,
          891,
          899,
          1137,
          1215,
          1156,
          1195,
          1078,
          1150,
          1088,
          1280,
          1145,
          842,
          993,
          1000,
          1100,
          903,
          629,
          1281,
          647,
          1100,
          1000,
          1227,
          1140,
          1229,
          629,
          1153,
          937,
          735,
          600,
          626,
          1037,
          1122,
          1120,
          1245,
          1125,
          1207,
          1221,
          989,
          1180,
          1184,
          1054,
          1077,
          1182,
          1151,
          1050,
          1179,
          971,
          1139,
          1168,
          1135,
          1442,
          1077,
          1049,
          1290,
          1255,
          1348,
          1282,
          1204,
          1098,
          1207,
          679,
          879,
          1116,
          1128,
          1306,
          802,
          961,
          1100,
          664,
          1188,
          1131,
          1025,
          695,
          1224,
          1197,
          1176,
          1150,
          1118,
          709,
          694,
          609,
          1000,
          1229,
          810,
          726,
          1125,
          1124,
          1119,
          669,
          664,
          735,
          1161,
          1267,
          626,
          969,
          1294,
          1153,
          1142,
          1171,
          1245,
          752,
          1115,
          1528,
          600,
          892,
          1144,
          1135,
          1136,
          1168,
          1358,
          1186,
          1173,
          1162,
          601,
          788,
          1100,
          1100,
          1136,
          725,
          1167,
          1269,
          1058,
          1113,
          1150,
          618,
          1138,
          1100,
          1127,
          1000,
          1100,
          1168,
          696,
          1120,
          1148,
          1381,
          1178,
          1063,
          1045,
          1157,
          1287,
          1262,
          1101,
          906,
          1107,
          1274,
          939,
          1110,
          1027,
          676,
          975,
          1100,
          658,
          853,
          1156,
          1268,
          749,
          685,
          1078,
          1162,
          1103,
          1242,
          873,
          1078,
          1408,
          1131,
          1232,
          1119,
          1099,
          1140,
          1075,
          1052,
          899,
          1412,
          1105,
          942,
          1115,
          761,
          1100,
          1130,
          1260,
          1170,
          1067,
          1131,
          1161,
          774,
          1086,
          1116,
          947,
          677,
          1396,
          1152,
          646,
          1061,
          1250,
          1110,
          600,
          600,
          1088,
          1100,
          1205,
          1100,
          1093,
          1100,
          1139,
          1409,
          1244,
          1011,
          1000,
          1100,
          1159,
          741,
          1218,
          1209,
          953,
          1090,
          1191,
          1245,
          1106,
          1182,
          1100,
          1189,
          1373,
          1063,
          797,
          1306,
          1238,
          1100,
          1100,
          1101,
          1175,
          954,
          811,
          638,
          1130,
          838,
          1340,
          1184,
          1173,
          1160,
          1178,
          1204,
          1186,
          1170,
          1157,
          1128,
          656,
          637,
          1242,
          1194,
          1091,
          1121,
          1067,
          1536,
          1100,
          1137,
          1218,
          1130,
          1192,
          1130,
          1140,
          1141,
          650,
          1131,
          1146,
          1120,
          655,
          901,
          786,
          1186,
          827,
          1300,
          927,
          1292,
          1155,
          1107,
          1093,
          1090,
          1005,
          1262,
          916,
          1121,
          1181,
          1000,
          1100,
          610,
          715,
          792,
          1419,
          868,
          680,
          753,
          1154,
          744,
          1181,
          1413,
          1112,
          772,
          732,
          636,
          1007,
          1153,
          1111,
          711,
          980,
          1157,
          1259,
          995,
          1100,
          1258,
          1243,
          1042,
          653,
          1295,
          891,
          828,
          1343,
          1086,
          928,
          940,
          1226,
          1114,
          1012,
          1138,
          989,
          1132,
          1127,
          1171,
          1164,
          647,
          1131,
          1180,
          1086,
          1165,
          1112,
          1103,
          1154,
          615,
          1197,
          1146,
          1120,
          856,
          908,
          668,
          1065,
          1096,
          918,
          1173,
          838,
          1175,
          819,
          1140,
          698,
          1192,
          656,
          1062,
          1160,
          1201,
          1276,
          1133,
          1038,
          1083,
          769,
          1133,
          827,
          973,
          949,
          1152,
          897,
          610,
          642,
          1123,
          707,
          1166,
          674,
          1000,
          871,
          1100,
          998,
          1173,
          1110,
          950,
          865,
          1039,
          1088,
          658,
          834,
          615,
          922,
          722,
          996,
          759,
          1199,
          623,
          1178,
          747,
          600,
          620,
          755,
          697,
          933,
          763,
          1127,
          751,
          747,
          1005,
          1106,
          690,
          1256,
          1127,
          748,
          640,
          717,
          1081,
          768,
          968,
          886,
          1195,
          692,
          607,
          931,
          941,
          808,
          769,
          914,
          1057,
          686,
          899,
          721,
          1206,
          645,
          758,
          690,
          877,
          641,
          1182,
          1142,
          763,
          621,
          737,
          673,
          732,
          632,
          771,
          809,
          820,
          1189,
          750,
          1095,
          1101,
          717,
          651,
          1225,
          849,
          826,
          795,
          600,
          653,
          1165,
          657,
          660,
          751,
          1208,
          1060,
          1022,
          1104,
          919,
          630,
          724,
          667,
          713,
          912,
          991,
          1109,
          747,
          820,
          716,
          955,
          817,
          1146,
          940,
          669,
          1018,
          770,
          792,
          751,
          935,
          617,
          616,
          1015,
          630,
          958,
          634,
          635,
          1033,
          726,
          1127,
          762,
          620,
          1011,
          930,
          621,
          1137,
          1209,
          646,
          600,
          929,
          649,
          1363,
          1140,
          747,
          615,
          765,
          1243,
          1200,
          1056,
          951,
          843,
          1138,
          1100,
          1129,
          819,
          633
         ]
        }
       ],
       "layout": {
        "template": {
         "data": {
          "bar": [
           {
            "error_x": {
             "color": "#2a3f5f"
            },
            "error_y": {
             "color": "#2a3f5f"
            },
            "marker": {
             "line": {
              "color": "#E5ECF6",
              "width": 0.5
             },
             "pattern": {
              "fillmode": "overlay",
              "size": 10,
              "solidity": 0.2
             }
            },
            "type": "bar"
           }
          ],
          "barpolar": [
           {
            "marker": {
             "line": {
              "color": "#E5ECF6",
              "width": 0.5
             },
             "pattern": {
              "fillmode": "overlay",
              "size": 10,
              "solidity": 0.2
             }
            },
            "type": "barpolar"
           }
          ],
          "carpet": [
           {
            "aaxis": {
             "endlinecolor": "#2a3f5f",
             "gridcolor": "white",
             "linecolor": "white",
             "minorgridcolor": "white",
             "startlinecolor": "#2a3f5f"
            },
            "baxis": {
             "endlinecolor": "#2a3f5f",
             "gridcolor": "white",
             "linecolor": "white",
             "minorgridcolor": "white",
             "startlinecolor": "#2a3f5f"
            },
            "type": "carpet"
           }
          ],
          "choropleth": [
           {
            "colorbar": {
             "outlinewidth": 0,
             "ticks": ""
            },
            "type": "choropleth"
           }
          ],
          "contour": [
           {
            "colorbar": {
             "outlinewidth": 0,
             "ticks": ""
            },
            "colorscale": [
             [
              0,
              "#0d0887"
             ],
             [
              0.1111111111111111,
              "#46039f"
             ],
             [
              0.2222222222222222,
              "#7201a8"
             ],
             [
              0.3333333333333333,
              "#9c179e"
             ],
             [
              0.4444444444444444,
              "#bd3786"
             ],
             [
              0.5555555555555556,
              "#d8576b"
             ],
             [
              0.6666666666666666,
              "#ed7953"
             ],
             [
              0.7777777777777778,
              "#fb9f3a"
             ],
             [
              0.8888888888888888,
              "#fdca26"
             ],
             [
              1,
              "#f0f921"
             ]
            ],
            "type": "contour"
           }
          ],
          "contourcarpet": [
           {
            "colorbar": {
             "outlinewidth": 0,
             "ticks": ""
            },
            "type": "contourcarpet"
           }
          ],
          "heatmap": [
           {
            "colorbar": {
             "outlinewidth": 0,
             "ticks": ""
            },
            "colorscale": [
             [
              0,
              "#0d0887"
             ],
             [
              0.1111111111111111,
              "#46039f"
             ],
             [
              0.2222222222222222,
              "#7201a8"
             ],
             [
              0.3333333333333333,
              "#9c179e"
             ],
             [
              0.4444444444444444,
              "#bd3786"
             ],
             [
              0.5555555555555556,
              "#d8576b"
             ],
             [
              0.6666666666666666,
              "#ed7953"
             ],
             [
              0.7777777777777778,
              "#fb9f3a"
             ],
             [
              0.8888888888888888,
              "#fdca26"
             ],
             [
              1,
              "#f0f921"
             ]
            ],
            "type": "heatmap"
           }
          ],
          "heatmapgl": [
           {
            "colorbar": {
             "outlinewidth": 0,
             "ticks": ""
            },
            "colorscale": [
             [
              0,
              "#0d0887"
             ],
             [
              0.1111111111111111,
              "#46039f"
             ],
             [
              0.2222222222222222,
              "#7201a8"
             ],
             [
              0.3333333333333333,
              "#9c179e"
             ],
             [
              0.4444444444444444,
              "#bd3786"
             ],
             [
              0.5555555555555556,
              "#d8576b"
             ],
             [
              0.6666666666666666,
              "#ed7953"
             ],
             [
              0.7777777777777778,
              "#fb9f3a"
             ],
             [
              0.8888888888888888,
              "#fdca26"
             ],
             [
              1,
              "#f0f921"
             ]
            ],
            "type": "heatmapgl"
           }
          ],
          "histogram": [
           {
            "marker": {
             "pattern": {
              "fillmode": "overlay",
              "size": 10,
              "solidity": 0.2
             }
            },
            "type": "histogram"
           }
          ],
          "histogram2d": [
           {
            "colorbar": {
             "outlinewidth": 0,
             "ticks": ""
            },
            "colorscale": [
             [
              0,
              "#0d0887"
             ],
             [
              0.1111111111111111,
              "#46039f"
             ],
             [
              0.2222222222222222,
              "#7201a8"
             ],
             [
              0.3333333333333333,
              "#9c179e"
             ],
             [
              0.4444444444444444,
              "#bd3786"
             ],
             [
              0.5555555555555556,
              "#d8576b"
             ],
             [
              0.6666666666666666,
              "#ed7953"
             ],
             [
              0.7777777777777778,
              "#fb9f3a"
             ],
             [
              0.8888888888888888,
              "#fdca26"
             ],
             [
              1,
              "#f0f921"
             ]
            ],
            "type": "histogram2d"
           }
          ],
          "histogram2dcontour": [
           {
            "colorbar": {
             "outlinewidth": 0,
             "ticks": ""
            },
            "colorscale": [
             [
              0,
              "#0d0887"
             ],
             [
              0.1111111111111111,
              "#46039f"
             ],
             [
              0.2222222222222222,
              "#7201a8"
             ],
             [
              0.3333333333333333,
              "#9c179e"
             ],
             [
              0.4444444444444444,
              "#bd3786"
             ],
             [
              0.5555555555555556,
              "#d8576b"
             ],
             [
              0.6666666666666666,
              "#ed7953"
             ],
             [
              0.7777777777777778,
              "#fb9f3a"
             ],
             [
              0.8888888888888888,
              "#fdca26"
             ],
             [
              1,
              "#f0f921"
             ]
            ],
            "type": "histogram2dcontour"
           }
          ],
          "mesh3d": [
           {
            "colorbar": {
             "outlinewidth": 0,
             "ticks": ""
            },
            "type": "mesh3d"
           }
          ],
          "parcoords": [
           {
            "line": {
             "colorbar": {
              "outlinewidth": 0,
              "ticks": ""
             }
            },
            "type": "parcoords"
           }
          ],
          "pie": [
           {
            "automargin": true,
            "type": "pie"
           }
          ],
          "scatter": [
           {
            "fillpattern": {
             "fillmode": "overlay",
             "size": 10,
             "solidity": 0.2
            },
            "type": "scatter"
           }
          ],
          "scatter3d": [
           {
            "line": {
             "colorbar": {
              "outlinewidth": 0,
              "ticks": ""
             }
            },
            "marker": {
             "colorbar": {
              "outlinewidth": 0,
              "ticks": ""
             }
            },
            "type": "scatter3d"
           }
          ],
          "scattercarpet": [
           {
            "marker": {
             "colorbar": {
              "outlinewidth": 0,
              "ticks": ""
             }
            },
            "type": "scattercarpet"
           }
          ],
          "scattergeo": [
           {
            "marker": {
             "colorbar": {
              "outlinewidth": 0,
              "ticks": ""
             }
            },
            "type": "scattergeo"
           }
          ],
          "scattergl": [
           {
            "marker": {
             "colorbar": {
              "outlinewidth": 0,
              "ticks": ""
             }
            },
            "type": "scattergl"
           }
          ],
          "scattermapbox": [
           {
            "marker": {
             "colorbar": {
              "outlinewidth": 0,
              "ticks": ""
             }
            },
            "type": "scattermapbox"
           }
          ],
          "scatterpolar": [
           {
            "marker": {
             "colorbar": {
              "outlinewidth": 0,
              "ticks": ""
             }
            },
            "type": "scatterpolar"
           }
          ],
          "scatterpolargl": [
           {
            "marker": {
             "colorbar": {
              "outlinewidth": 0,
              "ticks": ""
             }
            },
            "type": "scatterpolargl"
           }
          ],
          "scatterternary": [
           {
            "marker": {
             "colorbar": {
              "outlinewidth": 0,
              "ticks": ""
             }
            },
            "type": "scatterternary"
           }
          ],
          "surface": [
           {
            "colorbar": {
             "outlinewidth": 0,
             "ticks": ""
            },
            "colorscale": [
             [
              0,
              "#0d0887"
             ],
             [
              0.1111111111111111,
              "#46039f"
             ],
             [
              0.2222222222222222,
              "#7201a8"
             ],
             [
              0.3333333333333333,
              "#9c179e"
             ],
             [
              0.4444444444444444,
              "#bd3786"
             ],
             [
              0.5555555555555556,
              "#d8576b"
             ],
             [
              0.6666666666666666,
              "#ed7953"
             ],
             [
              0.7777777777777778,
              "#fb9f3a"
             ],
             [
              0.8888888888888888,
              "#fdca26"
             ],
             [
              1,
              "#f0f921"
             ]
            ],
            "type": "surface"
           }
          ],
          "table": [
           {
            "cells": {
             "fill": {
              "color": "#EBF0F8"
             },
             "line": {
              "color": "white"
             }
            },
            "header": {
             "fill": {
              "color": "#C8D4E3"
             },
             "line": {
              "color": "white"
             }
            },
            "type": "table"
           }
          ]
         },
         "layout": {
          "annotationdefaults": {
           "arrowcolor": "#2a3f5f",
           "arrowhead": 0,
           "arrowwidth": 1
          },
          "autotypenumbers": "strict",
          "coloraxis": {
           "colorbar": {
            "outlinewidth": 0,
            "ticks": ""
           }
          },
          "colorscale": {
           "diverging": [
            [
             0,
             "#8e0152"
            ],
            [
             0.1,
             "#c51b7d"
            ],
            [
             0.2,
             "#de77ae"
            ],
            [
             0.3,
             "#f1b6da"
            ],
            [
             0.4,
             "#fde0ef"
            ],
            [
             0.5,
             "#f7f7f7"
            ],
            [
             0.6,
             "#e6f5d0"
            ],
            [
             0.7,
             "#b8e186"
            ],
            [
             0.8,
             "#7fbc41"
            ],
            [
             0.9,
             "#4d9221"
            ],
            [
             1,
             "#276419"
            ]
           ],
           "sequential": [
            [
             0,
             "#0d0887"
            ],
            [
             0.1111111111111111,
             "#46039f"
            ],
            [
             0.2222222222222222,
             "#7201a8"
            ],
            [
             0.3333333333333333,
             "#9c179e"
            ],
            [
             0.4444444444444444,
             "#bd3786"
            ],
            [
             0.5555555555555556,
             "#d8576b"
            ],
            [
             0.6666666666666666,
             "#ed7953"
            ],
            [
             0.7777777777777778,
             "#fb9f3a"
            ],
            [
             0.8888888888888888,
             "#fdca26"
            ],
            [
             1,
             "#f0f921"
            ]
           ],
           "sequentialminus": [
            [
             0,
             "#0d0887"
            ],
            [
             0.1111111111111111,
             "#46039f"
            ],
            [
             0.2222222222222222,
             "#7201a8"
            ],
            [
             0.3333333333333333,
             "#9c179e"
            ],
            [
             0.4444444444444444,
             "#bd3786"
            ],
            [
             0.5555555555555556,
             "#d8576b"
            ],
            [
             0.6666666666666666,
             "#ed7953"
            ],
            [
             0.7777777777777778,
             "#fb9f3a"
            ],
            [
             0.8888888888888888,
             "#fdca26"
            ],
            [
             1,
             "#f0f921"
            ]
           ]
          },
          "colorway": [
           "#636efa",
           "#EF553B",
           "#00cc96",
           "#ab63fa",
           "#FFA15A",
           "#19d3f3",
           "#FF6692",
           "#B6E880",
           "#FF97FF",
           "#FECB52"
          ],
          "font": {
           "color": "#2a3f5f"
          },
          "geo": {
           "bgcolor": "white",
           "lakecolor": "white",
           "landcolor": "#E5ECF6",
           "showlakes": true,
           "showland": true,
           "subunitcolor": "white"
          },
          "hoverlabel": {
           "align": "left"
          },
          "hovermode": "closest",
          "mapbox": {
           "style": "light"
          },
          "paper_bgcolor": "white",
          "plot_bgcolor": "#E5ECF6",
          "polar": {
           "angularaxis": {
            "gridcolor": "white",
            "linecolor": "white",
            "ticks": ""
           },
           "bgcolor": "#E5ECF6",
           "radialaxis": {
            "gridcolor": "white",
            "linecolor": "white",
            "ticks": ""
           }
          },
          "scene": {
           "xaxis": {
            "backgroundcolor": "#E5ECF6",
            "gridcolor": "white",
            "gridwidth": 2,
            "linecolor": "white",
            "showbackground": true,
            "ticks": "",
            "zerolinecolor": "white"
           },
           "yaxis": {
            "backgroundcolor": "#E5ECF6",
            "gridcolor": "white",
            "gridwidth": 2,
            "linecolor": "white",
            "showbackground": true,
            "ticks": "",
            "zerolinecolor": "white"
           },
           "zaxis": {
            "backgroundcolor": "#E5ECF6",
            "gridcolor": "white",
            "gridwidth": 2,
            "linecolor": "white",
            "showbackground": true,
            "ticks": "",
            "zerolinecolor": "white"
           }
          },
          "shapedefaults": {
           "line": {
            "color": "#2a3f5f"
           }
          },
          "ternary": {
           "aaxis": {
            "gridcolor": "white",
            "linecolor": "white",
            "ticks": ""
           },
           "baxis": {
            "gridcolor": "white",
            "linecolor": "white",
            "ticks": ""
           },
           "bgcolor": "#E5ECF6",
           "caxis": {
            "gridcolor": "white",
            "linecolor": "white",
            "ticks": ""
           }
          },
          "title": {
           "x": 0.05
          },
          "xaxis": {
           "automargin": true,
           "gridcolor": "white",
           "linecolor": "white",
           "ticks": "",
           "title": {
            "standoff": 15
           },
           "zerolinecolor": "white",
           "zerolinewidth": 2
          },
          "yaxis": {
           "automargin": true,
           "gridcolor": "white",
           "linecolor": "white",
           "ticks": "",
           "title": {
            "standoff": 15
           },
           "zerolinecolor": "white",
           "zerolinewidth": 2
          }
         }
        },
        "title": {
         "text": "Total score by company"
        }
       }
      }
     },
     "metadata": {},
     "output_type": "display_data"
    }
   ],
   "source": [
    "import plotly.graph_objects as go \n",
    "\n",
    "fig = go.Figure(go.Bar(x=df.iloc[451:500]['name'],y=df['total_score'].values),go.Layout(title_text='Total score by company'))\n",
    "fig.show()"
   ]
  },
  {
   "cell_type": "code",
   "execution_count": 156,
   "metadata": {},
   "outputs": [
    {
     "data": {
      "application/vnd.plotly.v1+json": {
       "config": {
        "plotlyServerURL": "https://plot.ly"
       },
       "data": [
        {
         "type": "bar",
         "x": [
          "Fortinet Inc",
          "ETSY Inc",
          "Franklin Resources Inc",
          "Digital Realty Trust Inc",
          "Danaher Corp",
          "Equifax Inc",
          "Estee Lauder Companies Inc",
          "Eastman Chemical Co",
          "Emerson Electric Co",
          "EOG Resources Inc",
          "Equity Residential",
          "Eversource Energy",
          "Essex Property Trust Inc",
          "Fifth Third Bancorp",
          "Entergy Corp",
          "Extra Space Storage Inc",
          "Edwards Lifesciences Corp",
          "Fox Corp",
          "Freeport-McMoRan Inc",
          "FirstEnergy Corp",
          "Fleetcor Technologies Inc",
          "Fidelity National Information Services Inc",
          "First Republic Bank",
          "FMC Corp",
          "Federal Realty Investment Trust",
          "Fortive Corp",
          "Gap Inc",
          "Garmin Ltd",
          "Gartner Inc",
          "Eli Lilly and Co",
          "Everest Re Group Ltd",
          "Evergy Inc",
          "Fortune Brands Home & Security Inc",
          "Gilead Sciences Inc",
          "Hologic Inc",
          "Henry Schein Inc",
          "Honeywell International Inc",
          "Host Hotels & Resorts Inc",
          "General Dynamics Corp",
          "Hasbro Inc",
          "Huntington Bancshares Inc",
          "Globe Life Inc",
          "Genuine Parts Co",
          "Generac Holdings Inc",
          "Global Payments Inc",
          "HCA Healthcare Inc",
          "HanesBrands Inc",
          "Huntington Ingalls Industries Inc",
          "Hewlett Packard Enterprise Co"
         ],
         "y": [
          1147,
          1068,
          880,
          1171,
          1052,
          1178,
          1255,
          608,
          746,
          741,
          785,
          1023,
          891,
          936,
          1000,
          605,
          604,
          821,
          1475,
          712,
          1129,
          606,
          659,
          898,
          745,
          637,
          765,
          705,
          744,
          731,
          1239,
          840,
          651,
          803,
          781,
          1127,
          1081,
          851,
          742,
          967,
          847,
          654,
          657,
          737,
          1183,
          675,
          812,
          901,
          841,
          621,
          953,
          824,
          706,
          968,
          703,
          704,
          824,
          816,
          643,
          1100,
          868,
          1169,
          1000,
          739,
          1112,
          818,
          852,
          800,
          937,
          1100,
          1100,
          777,
          600,
          844,
          1074,
          769,
          600,
          982,
          685,
          607,
          895,
          651,
          835,
          698,
          1076,
          1206,
          944,
          619,
          1148,
          628,
          929,
          1063,
          703,
          1103,
          863,
          656,
          763,
          742,
          1118,
          673,
          640,
          635,
          1086,
          801,
          769,
          1145,
          633,
          1130,
          616,
          1161,
          1102,
          721,
          952,
          746,
          1110,
          1030,
          1100,
          727,
          817,
          1106,
          800,
          775,
          667,
          768,
          1050,
          691,
          743,
          770,
          845,
          1002,
          1142,
          1164,
          1142,
          608,
          957,
          622,
          1202,
          1433,
          623,
          1151,
          1047,
          1174,
          1103,
          634,
          1243,
          760,
          1100,
          1165,
          679,
          1068,
          1145,
          1270,
          812,
          734,
          1100,
          1140,
          693,
          678,
          658,
          666,
          885,
          1126,
          1084,
          1107,
          1120,
          1012,
          630,
          1100,
          1150,
          1127,
          652,
          653,
          1159,
          1100,
          945,
          852,
          1533,
          1160,
          1115,
          1125,
          701,
          1143,
          899,
          773,
          1109,
          1170,
          1216,
          1139,
          1100,
          1000,
          1175,
          1000,
          716,
          1009,
          1144,
          1417,
          1155,
          1312,
          1150,
          1160,
          891,
          899,
          1137,
          1215,
          1156,
          1195,
          1078,
          1150,
          1088,
          1280,
          1145,
          842,
          993,
          1000,
          1100,
          903,
          629,
          1281,
          647,
          1100,
          1000,
          1227,
          1140,
          1229,
          629,
          1153,
          937,
          735,
          600,
          626,
          1037,
          1122,
          1120,
          1245,
          1125,
          1207,
          1221,
          989,
          1180,
          1184,
          1054,
          1077,
          1182,
          1151,
          1050,
          1179,
          971,
          1139,
          1168,
          1135,
          1442,
          1077,
          1049,
          1290,
          1255,
          1348,
          1282,
          1204,
          1098,
          1207,
          679,
          879,
          1116,
          1128,
          1306,
          802,
          961,
          1100,
          664,
          1188,
          1131,
          1025,
          695,
          1224,
          1197,
          1176,
          1150,
          1118,
          709,
          694,
          609,
          1000,
          1229,
          810,
          726,
          1125,
          1124,
          1119,
          669,
          664,
          735,
          1161,
          1267,
          626,
          969,
          1294,
          1153,
          1142,
          1171,
          1245,
          752,
          1115,
          1528,
          600,
          892,
          1144,
          1135,
          1136,
          1168,
          1358,
          1186,
          1173,
          1162,
          601,
          788,
          1100,
          1100,
          1136,
          725,
          1167,
          1269,
          1058,
          1113,
          1150,
          618,
          1138,
          1100,
          1127,
          1000,
          1100,
          1168,
          696,
          1120,
          1148,
          1381,
          1178,
          1063,
          1045,
          1157,
          1287,
          1262,
          1101,
          906,
          1107,
          1274,
          939,
          1110,
          1027,
          676,
          975,
          1100,
          658,
          853,
          1156,
          1268,
          749,
          685,
          1078,
          1162,
          1103,
          1242,
          873,
          1078,
          1408,
          1131,
          1232,
          1119,
          1099,
          1140,
          1075,
          1052,
          899,
          1412,
          1105,
          942,
          1115,
          761,
          1100,
          1130,
          1260,
          1170,
          1067,
          1131,
          1161,
          774,
          1086,
          1116,
          947,
          677,
          1396,
          1152,
          646,
          1061,
          1250,
          1110,
          600,
          600,
          1088,
          1100,
          1205,
          1100,
          1093,
          1100,
          1139,
          1409,
          1244,
          1011,
          1000,
          1100,
          1159,
          741,
          1218,
          1209,
          953,
          1090,
          1191,
          1245,
          1106,
          1182,
          1100,
          1189,
          1373,
          1063,
          797,
          1306,
          1238,
          1100,
          1100,
          1101,
          1175,
          954,
          811,
          638,
          1130,
          838,
          1340,
          1184,
          1173,
          1160,
          1178,
          1204,
          1186,
          1170,
          1157,
          1128,
          656,
          637,
          1242,
          1194,
          1091,
          1121,
          1067,
          1536,
          1100,
          1137,
          1218,
          1130,
          1192,
          1130,
          1140,
          1141,
          650,
          1131,
          1146,
          1120,
          655,
          901,
          786,
          1186,
          827,
          1300,
          927,
          1292,
          1155,
          1107,
          1093,
          1090,
          1005,
          1262,
          916,
          1121,
          1181,
          1000,
          1100,
          610,
          715,
          792,
          1419,
          868,
          680,
          753,
          1154,
          744,
          1181,
          1413,
          1112,
          772,
          732,
          636,
          1007,
          1153,
          1111,
          711,
          980,
          1157,
          1259,
          995,
          1100,
          1258,
          1243,
          1042,
          653,
          1295,
          891,
          828,
          1343,
          1086,
          928,
          940,
          1226,
          1114,
          1012,
          1138,
          989,
          1132,
          1127,
          1171,
          1164,
          647,
          1131,
          1180,
          1086,
          1165,
          1112,
          1103,
          1154,
          615,
          1197,
          1146,
          1120,
          856,
          908,
          668,
          1065,
          1096,
          918,
          1173,
          838,
          1175,
          819,
          1140,
          698,
          1192,
          656,
          1062,
          1160,
          1201,
          1276,
          1133,
          1038,
          1083,
          769,
          1133,
          827,
          973,
          949,
          1152,
          897,
          610,
          642,
          1123,
          707,
          1166,
          674,
          1000,
          871,
          1100,
          998,
          1173,
          1110,
          950,
          865,
          1039,
          1088,
          658,
          834,
          615,
          922,
          722,
          996,
          759,
          1199,
          623,
          1178,
          747,
          600,
          620,
          755,
          697,
          933,
          763,
          1127,
          751,
          747,
          1005,
          1106,
          690,
          1256,
          1127,
          748,
          640,
          717,
          1081,
          768,
          968,
          886,
          1195,
          692,
          607,
          931,
          941,
          808,
          769,
          914,
          1057,
          686,
          899,
          721,
          1206,
          645,
          758,
          690,
          877,
          641,
          1182,
          1142,
          763,
          621,
          737,
          673,
          732,
          632,
          771,
          809,
          820,
          1189,
          750,
          1095,
          1101,
          717,
          651,
          1225,
          849,
          826,
          795,
          600,
          653,
          1165,
          657,
          660,
          751,
          1208,
          1060,
          1022,
          1104,
          919,
          630,
          724,
          667,
          713,
          912,
          991,
          1109,
          747,
          820,
          716,
          955,
          817,
          1146,
          940,
          669,
          1018,
          770,
          792,
          751,
          935,
          617,
          616,
          1015,
          630,
          958,
          634,
          635,
          1033,
          726,
          1127,
          762,
          620,
          1011,
          930,
          621,
          1137,
          1209,
          646,
          600,
          929,
          649,
          1363,
          1140,
          747,
          615,
          765,
          1243,
          1200,
          1056,
          951,
          843,
          1138,
          1100,
          1129,
          819,
          633
         ]
        }
       ],
       "layout": {
        "template": {
         "data": {
          "bar": [
           {
            "error_x": {
             "color": "#2a3f5f"
            },
            "error_y": {
             "color": "#2a3f5f"
            },
            "marker": {
             "line": {
              "color": "#E5ECF6",
              "width": 0.5
             },
             "pattern": {
              "fillmode": "overlay",
              "size": 10,
              "solidity": 0.2
             }
            },
            "type": "bar"
           }
          ],
          "barpolar": [
           {
            "marker": {
             "line": {
              "color": "#E5ECF6",
              "width": 0.5
             },
             "pattern": {
              "fillmode": "overlay",
              "size": 10,
              "solidity": 0.2
             }
            },
            "type": "barpolar"
           }
          ],
          "carpet": [
           {
            "aaxis": {
             "endlinecolor": "#2a3f5f",
             "gridcolor": "white",
             "linecolor": "white",
             "minorgridcolor": "white",
             "startlinecolor": "#2a3f5f"
            },
            "baxis": {
             "endlinecolor": "#2a3f5f",
             "gridcolor": "white",
             "linecolor": "white",
             "minorgridcolor": "white",
             "startlinecolor": "#2a3f5f"
            },
            "type": "carpet"
           }
          ],
          "choropleth": [
           {
            "colorbar": {
             "outlinewidth": 0,
             "ticks": ""
            },
            "type": "choropleth"
           }
          ],
          "contour": [
           {
            "colorbar": {
             "outlinewidth": 0,
             "ticks": ""
            },
            "colorscale": [
             [
              0,
              "#0d0887"
             ],
             [
              0.1111111111111111,
              "#46039f"
             ],
             [
              0.2222222222222222,
              "#7201a8"
             ],
             [
              0.3333333333333333,
              "#9c179e"
             ],
             [
              0.4444444444444444,
              "#bd3786"
             ],
             [
              0.5555555555555556,
              "#d8576b"
             ],
             [
              0.6666666666666666,
              "#ed7953"
             ],
             [
              0.7777777777777778,
              "#fb9f3a"
             ],
             [
              0.8888888888888888,
              "#fdca26"
             ],
             [
              1,
              "#f0f921"
             ]
            ],
            "type": "contour"
           }
          ],
          "contourcarpet": [
           {
            "colorbar": {
             "outlinewidth": 0,
             "ticks": ""
            },
            "type": "contourcarpet"
           }
          ],
          "heatmap": [
           {
            "colorbar": {
             "outlinewidth": 0,
             "ticks": ""
            },
            "colorscale": [
             [
              0,
              "#0d0887"
             ],
             [
              0.1111111111111111,
              "#46039f"
             ],
             [
              0.2222222222222222,
              "#7201a8"
             ],
             [
              0.3333333333333333,
              "#9c179e"
             ],
             [
              0.4444444444444444,
              "#bd3786"
             ],
             [
              0.5555555555555556,
              "#d8576b"
             ],
             [
              0.6666666666666666,
              "#ed7953"
             ],
             [
              0.7777777777777778,
              "#fb9f3a"
             ],
             [
              0.8888888888888888,
              "#fdca26"
             ],
             [
              1,
              "#f0f921"
             ]
            ],
            "type": "heatmap"
           }
          ],
          "heatmapgl": [
           {
            "colorbar": {
             "outlinewidth": 0,
             "ticks": ""
            },
            "colorscale": [
             [
              0,
              "#0d0887"
             ],
             [
              0.1111111111111111,
              "#46039f"
             ],
             [
              0.2222222222222222,
              "#7201a8"
             ],
             [
              0.3333333333333333,
              "#9c179e"
             ],
             [
              0.4444444444444444,
              "#bd3786"
             ],
             [
              0.5555555555555556,
              "#d8576b"
             ],
             [
              0.6666666666666666,
              "#ed7953"
             ],
             [
              0.7777777777777778,
              "#fb9f3a"
             ],
             [
              0.8888888888888888,
              "#fdca26"
             ],
             [
              1,
              "#f0f921"
             ]
            ],
            "type": "heatmapgl"
           }
          ],
          "histogram": [
           {
            "marker": {
             "pattern": {
              "fillmode": "overlay",
              "size": 10,
              "solidity": 0.2
             }
            },
            "type": "histogram"
           }
          ],
          "histogram2d": [
           {
            "colorbar": {
             "outlinewidth": 0,
             "ticks": ""
            },
            "colorscale": [
             [
              0,
              "#0d0887"
             ],
             [
              0.1111111111111111,
              "#46039f"
             ],
             [
              0.2222222222222222,
              "#7201a8"
             ],
             [
              0.3333333333333333,
              "#9c179e"
             ],
             [
              0.4444444444444444,
              "#bd3786"
             ],
             [
              0.5555555555555556,
              "#d8576b"
             ],
             [
              0.6666666666666666,
              "#ed7953"
             ],
             [
              0.7777777777777778,
              "#fb9f3a"
             ],
             [
              0.8888888888888888,
              "#fdca26"
             ],
             [
              1,
              "#f0f921"
             ]
            ],
            "type": "histogram2d"
           }
          ],
          "histogram2dcontour": [
           {
            "colorbar": {
             "outlinewidth": 0,
             "ticks": ""
            },
            "colorscale": [
             [
              0,
              "#0d0887"
             ],
             [
              0.1111111111111111,
              "#46039f"
             ],
             [
              0.2222222222222222,
              "#7201a8"
             ],
             [
              0.3333333333333333,
              "#9c179e"
             ],
             [
              0.4444444444444444,
              "#bd3786"
             ],
             [
              0.5555555555555556,
              "#d8576b"
             ],
             [
              0.6666666666666666,
              "#ed7953"
             ],
             [
              0.7777777777777778,
              "#fb9f3a"
             ],
             [
              0.8888888888888888,
              "#fdca26"
             ],
             [
              1,
              "#f0f921"
             ]
            ],
            "type": "histogram2dcontour"
           }
          ],
          "mesh3d": [
           {
            "colorbar": {
             "outlinewidth": 0,
             "ticks": ""
            },
            "type": "mesh3d"
           }
          ],
          "parcoords": [
           {
            "line": {
             "colorbar": {
              "outlinewidth": 0,
              "ticks": ""
             }
            },
            "type": "parcoords"
           }
          ],
          "pie": [
           {
            "automargin": true,
            "type": "pie"
           }
          ],
          "scatter": [
           {
            "fillpattern": {
             "fillmode": "overlay",
             "size": 10,
             "solidity": 0.2
            },
            "type": "scatter"
           }
          ],
          "scatter3d": [
           {
            "line": {
             "colorbar": {
              "outlinewidth": 0,
              "ticks": ""
             }
            },
            "marker": {
             "colorbar": {
              "outlinewidth": 0,
              "ticks": ""
             }
            },
            "type": "scatter3d"
           }
          ],
          "scattercarpet": [
           {
            "marker": {
             "colorbar": {
              "outlinewidth": 0,
              "ticks": ""
             }
            },
            "type": "scattercarpet"
           }
          ],
          "scattergeo": [
           {
            "marker": {
             "colorbar": {
              "outlinewidth": 0,
              "ticks": ""
             }
            },
            "type": "scattergeo"
           }
          ],
          "scattergl": [
           {
            "marker": {
             "colorbar": {
              "outlinewidth": 0,
              "ticks": ""
             }
            },
            "type": "scattergl"
           }
          ],
          "scattermapbox": [
           {
            "marker": {
             "colorbar": {
              "outlinewidth": 0,
              "ticks": ""
             }
            },
            "type": "scattermapbox"
           }
          ],
          "scatterpolar": [
           {
            "marker": {
             "colorbar": {
              "outlinewidth": 0,
              "ticks": ""
             }
            },
            "type": "scatterpolar"
           }
          ],
          "scatterpolargl": [
           {
            "marker": {
             "colorbar": {
              "outlinewidth": 0,
              "ticks": ""
             }
            },
            "type": "scatterpolargl"
           }
          ],
          "scatterternary": [
           {
            "marker": {
             "colorbar": {
              "outlinewidth": 0,
              "ticks": ""
             }
            },
            "type": "scatterternary"
           }
          ],
          "surface": [
           {
            "colorbar": {
             "outlinewidth": 0,
             "ticks": ""
            },
            "colorscale": [
             [
              0,
              "#0d0887"
             ],
             [
              0.1111111111111111,
              "#46039f"
             ],
             [
              0.2222222222222222,
              "#7201a8"
             ],
             [
              0.3333333333333333,
              "#9c179e"
             ],
             [
              0.4444444444444444,
              "#bd3786"
             ],
             [
              0.5555555555555556,
              "#d8576b"
             ],
             [
              0.6666666666666666,
              "#ed7953"
             ],
             [
              0.7777777777777778,
              "#fb9f3a"
             ],
             [
              0.8888888888888888,
              "#fdca26"
             ],
             [
              1,
              "#f0f921"
             ]
            ],
            "type": "surface"
           }
          ],
          "table": [
           {
            "cells": {
             "fill": {
              "color": "#EBF0F8"
             },
             "line": {
              "color": "white"
             }
            },
            "header": {
             "fill": {
              "color": "#C8D4E3"
             },
             "line": {
              "color": "white"
             }
            },
            "type": "table"
           }
          ]
         },
         "layout": {
          "annotationdefaults": {
           "arrowcolor": "#2a3f5f",
           "arrowhead": 0,
           "arrowwidth": 1
          },
          "autotypenumbers": "strict",
          "coloraxis": {
           "colorbar": {
            "outlinewidth": 0,
            "ticks": ""
           }
          },
          "colorscale": {
           "diverging": [
            [
             0,
             "#8e0152"
            ],
            [
             0.1,
             "#c51b7d"
            ],
            [
             0.2,
             "#de77ae"
            ],
            [
             0.3,
             "#f1b6da"
            ],
            [
             0.4,
             "#fde0ef"
            ],
            [
             0.5,
             "#f7f7f7"
            ],
            [
             0.6,
             "#e6f5d0"
            ],
            [
             0.7,
             "#b8e186"
            ],
            [
             0.8,
             "#7fbc41"
            ],
            [
             0.9,
             "#4d9221"
            ],
            [
             1,
             "#276419"
            ]
           ],
           "sequential": [
            [
             0,
             "#0d0887"
            ],
            [
             0.1111111111111111,
             "#46039f"
            ],
            [
             0.2222222222222222,
             "#7201a8"
            ],
            [
             0.3333333333333333,
             "#9c179e"
            ],
            [
             0.4444444444444444,
             "#bd3786"
            ],
            [
             0.5555555555555556,
             "#d8576b"
            ],
            [
             0.6666666666666666,
             "#ed7953"
            ],
            [
             0.7777777777777778,
             "#fb9f3a"
            ],
            [
             0.8888888888888888,
             "#fdca26"
            ],
            [
             1,
             "#f0f921"
            ]
           ],
           "sequentialminus": [
            [
             0,
             "#0d0887"
            ],
            [
             0.1111111111111111,
             "#46039f"
            ],
            [
             0.2222222222222222,
             "#7201a8"
            ],
            [
             0.3333333333333333,
             "#9c179e"
            ],
            [
             0.4444444444444444,
             "#bd3786"
            ],
            [
             0.5555555555555556,
             "#d8576b"
            ],
            [
             0.6666666666666666,
             "#ed7953"
            ],
            [
             0.7777777777777778,
             "#fb9f3a"
            ],
            [
             0.8888888888888888,
             "#fdca26"
            ],
            [
             1,
             "#f0f921"
            ]
           ]
          },
          "colorway": [
           "#636efa",
           "#EF553B",
           "#00cc96",
           "#ab63fa",
           "#FFA15A",
           "#19d3f3",
           "#FF6692",
           "#B6E880",
           "#FF97FF",
           "#FECB52"
          ],
          "font": {
           "color": "#2a3f5f"
          },
          "geo": {
           "bgcolor": "white",
           "lakecolor": "white",
           "landcolor": "#E5ECF6",
           "showlakes": true,
           "showland": true,
           "subunitcolor": "white"
          },
          "hoverlabel": {
           "align": "left"
          },
          "hovermode": "closest",
          "mapbox": {
           "style": "light"
          },
          "paper_bgcolor": "white",
          "plot_bgcolor": "#E5ECF6",
          "polar": {
           "angularaxis": {
            "gridcolor": "white",
            "linecolor": "white",
            "ticks": ""
           },
           "bgcolor": "#E5ECF6",
           "radialaxis": {
            "gridcolor": "white",
            "linecolor": "white",
            "ticks": ""
           }
          },
          "scene": {
           "xaxis": {
            "backgroundcolor": "#E5ECF6",
            "gridcolor": "white",
            "gridwidth": 2,
            "linecolor": "white",
            "showbackground": true,
            "ticks": "",
            "zerolinecolor": "white"
           },
           "yaxis": {
            "backgroundcolor": "#E5ECF6",
            "gridcolor": "white",
            "gridwidth": 2,
            "linecolor": "white",
            "showbackground": true,
            "ticks": "",
            "zerolinecolor": "white"
           },
           "zaxis": {
            "backgroundcolor": "#E5ECF6",
            "gridcolor": "white",
            "gridwidth": 2,
            "linecolor": "white",
            "showbackground": true,
            "ticks": "",
            "zerolinecolor": "white"
           }
          },
          "shapedefaults": {
           "line": {
            "color": "#2a3f5f"
           }
          },
          "ternary": {
           "aaxis": {
            "gridcolor": "white",
            "linecolor": "white",
            "ticks": ""
           },
           "baxis": {
            "gridcolor": "white",
            "linecolor": "white",
            "ticks": ""
           },
           "bgcolor": "#E5ECF6",
           "caxis": {
            "gridcolor": "white",
            "linecolor": "white",
            "ticks": ""
           }
          },
          "title": {
           "x": 0.05
          },
          "xaxis": {
           "automargin": true,
           "gridcolor": "white",
           "linecolor": "white",
           "ticks": "",
           "title": {
            "standoff": 15
           },
           "zerolinecolor": "white",
           "zerolinewidth": 2
          },
          "yaxis": {
           "automargin": true,
           "gridcolor": "white",
           "linecolor": "white",
           "ticks": "",
           "title": {
            "standoff": 15
           },
           "zerolinecolor": "white",
           "zerolinewidth": 2
          }
         }
        },
        "title": {
         "text": "Total score by company"
        }
       }
      }
     },
     "metadata": {},
     "output_type": "display_data"
    }
   ],
   "source": [
    "import plotly.graph_objects as go \n",
    "\n",
    "fig = go.Figure(go.Bar(x=df.iloc[501:550]['name'],y=df['total_score'].values),go.Layout(title_text='Total score by company'))\n",
    "fig.show()"
   ]
  }
 ],
 "metadata": {
  "kernelspec": {
   "display_name": "_env1",
   "language": "python",
   "name": "python3"
  },
  "language_info": {
   "codemirror_mode": {
    "name": "ipython",
    "version": 3
   },
   "file_extension": ".py",
   "mimetype": "text/x-python",
   "name": "python",
   "nbconvert_exporter": "python",
   "pygments_lexer": "ipython3",
   "version": "3.11.6"
  }
 },
 "nbformat": 4,
 "nbformat_minor": 2
}
