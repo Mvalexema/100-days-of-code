{
 "cells": [
  {
   "cell_type": "code",
   "execution_count": 2,
   "metadata": {},
   "outputs": [],
   "source": [
    "import spacy"
   ]
  },
  {
   "cell_type": "code",
   "execution_count": 3,
   "metadata": {},
   "outputs": [],
   "source": [
    "nlp=spacy.load('en_core_web_sm')"
   ]
  },
  {
   "cell_type": "code",
   "execution_count": 4,
   "metadata": {},
   "outputs": [
    {
     "name": "stdout",
     "output_type": "stream",
     "text": [
      "{'everyone', 'mostly', 'back', 'own', 'seem', 'even', 'top', 'just', 'through', 'such', 'could', 'an', 'each', 'he', 'hence', '‘d', 'wherever', 'please', 'hers', 'nowhere', 'n‘t', 'another', 'am', 'all', 'somewhere', 'whereupon', 'namely', 'yourselves', 'forty', 'since', 'somehow', 'done', 'already', 'sixty', 'you', 'yet', 'get', 'there', 'with', 'quite', 'does', 'between', 'due', 'its', 'nine', 'for', 'whether', 'nevertheless', 'thereafter', 'enough', 'beforehand', 'everywhere', 'is', 'hundred', 'had', '‘s', 'themselves', 'amount', 'have', 'whose', 'latter', 'whereafter', 'two', 'and', 'here', 'herein', 'still', 'without', 'ever', 'as', 'thru', 'sometimes', 'thence', 'before', 'some', 'only', 'anyone', 'what', 'will', 'anyhow', 'him', 'rather', 'more', 'however', 'around', \"'m\", 'while', 'eight', 'alone', 'serious', 'front', 'about', 'their', 'four', 'less', 'his', 'they', 'towards', 'us', 'toward', 'throughout', 'see', 'first', 'former', 'being', \"'ve\", 'noone', 'of', 'ourselves', 'say', 'something', 'against', '’re', 'but', 'i', 'mine', 'regarding', 'always', 'eleven', 'therein', 'else', 'whole', 'others', 'per', 'really', 'last', 'onto', 'herself', 'formerly', 'least', 'by', '’ve', 'on', 'can', 'thereupon', 'because', 'did', 'nothing', 'these', 'anything', 'much', 'down', 'we', 'no', 'so', 'unless', 'hereby', 'latterly', 'yours', 'whereby', 'therefore', 'various', 'to', 'becoming', 'side', \"'s\", 'in', 'over', 'who', 'might', 'many', 'must', 'amongst', 'not', 'how', '’m', 'bottom', 'whatever', 'doing', 'any', 'from', 'should', 'once', 'few', 'ten', 'go', 'fifteen', 'make', 'same', 'call', 'wherein', 'yourself', 'fifty', 'do', 'other', 'moreover', 'often', 'indeed', 'was', 'at', '‘re', 'next', 'five', 'were', '’d', 'name', '’s', 'becomes', 'nor', 'beside', 'or', 'if', 'most', 'the', 'twenty', 'further', 'into', 'whenever', 'within', 'move', 'himself', \"n't\", 'although', 'then', 'afterwards', 'thus', 'almost', 'been', 'a', 'which', 'her', 'whither', 'nobody', '‘ve', 'be', '‘m', 'every', 'well', 'very', 'under', 'none', 'now', 'three', 'never', 'used', 'across', 'give', 'except', 'below', \"'re\", 'sometime', 'meanwhile', 'ca', 'anyway', 'become', 'above', 'put', 'me', 'cannot', 'seems', 'otherwise', 'out', 'itself', 'upon', 'she', 'those', 'also', 'perhaps', 'it', 'became', 'take', 'this', 'together', 'up', 'elsewhere', 'several', 'someone', 'twelve', 'made', 'beyond', 'whence', 'when', 'than', 'would', 'both', 'hereupon', 'too', 'keep', 'n’t', 'myself', 'during', '‘ll', 'empty', 'hereafter', 'ours', '’ll', 'either', 're', 'one', 'part', \"'d\", \"'ll\", 'after', 'again', 'whom', 'everything', 'where', 'off', 'may', 'seeming', 'why', 'them', 'six', 'neither', 'though', 'thereby', 'full', 'whereas', 'along', 'whoever', 'besides', 'are', 'show', 'seemed', 'using', 'until', 'our', 'your', 'via', 'among', 'that', 'behind', 'has', 'my', 'anywhere', 'third'}\n"
     ]
    }
   ],
   "source": [
    "print(nlp.Defaults.stop_words)"
   ]
  },
  {
   "cell_type": "code",
   "execution_count": 5,
   "metadata": {},
   "outputs": [
    {
     "data": {
      "text/plain": [
       "326"
      ]
     },
     "execution_count": 5,
     "metadata": {},
     "output_type": "execute_result"
    }
   ],
   "source": [
    "len(nlp.Defaults.stop_words)"
   ]
  },
  {
   "cell_type": "code",
   "execution_count": 6,
   "metadata": {},
   "outputs": [
    {
     "data": {
      "text/plain": [
       "False"
      ]
     },
     "execution_count": 6,
     "metadata": {},
     "output_type": "execute_result"
    }
   ],
   "source": [
    "nlp.vocab['mystery'].is_stop"
   ]
  },
  {
   "cell_type": "code",
   "execution_count": 7,
   "metadata": {},
   "outputs": [],
   "source": [
    "nlp.Defaults.stop_words.add('btw')"
   ]
  },
  {
   "cell_type": "code",
   "execution_count": 8,
   "metadata": {},
   "outputs": [
    {
     "data": {
      "text/plain": [
       "True"
      ]
     },
     "execution_count": 8,
     "metadata": {},
     "output_type": "execute_result"
    }
   ],
   "source": [
    "nlp.vocab['btw'].is_stop"
   ]
  },
  {
   "cell_type": "code",
   "execution_count": 9,
   "metadata": {},
   "outputs": [],
   "source": [
    "nlp.Defaults.stop_words.remove('beyond')"
   ]
  },
  {
   "cell_type": "code",
   "execution_count": 10,
   "metadata": {},
   "outputs": [
    {
     "data": {
      "text/plain": [
       "False"
      ]
     },
     "execution_count": 10,
     "metadata": {},
     "output_type": "execute_result"
    }
   ],
   "source": [
    "nlp.vocab['beyond'].is_stop"
   ]
  },
  {
   "cell_type": "code",
   "execution_count": 11,
   "metadata": {},
   "outputs": [],
   "source": [
    "from spacy.matcher import Matcher"
   ]
  },
  {
   "cell_type": "code",
   "execution_count": 12,
   "metadata": {},
   "outputs": [],
   "source": [
    "matcher = Matcher(nlp.vocab)"
   ]
  },
  {
   "cell_type": "code",
   "execution_count": 13,
   "metadata": {},
   "outputs": [],
   "source": [
    "# SolarPower\n",
    "# Solar-power\n",
    "# Solar power\n",
    "pattern1 = [[{'LOWER':'solarpower'}],\n",
    "[{'LOWER':'solar'},{'IS_PUNCT':True},{'LOWER':'power'}],\n",
    "[{'LOWER':'solar'},{'LOWER':'power'}]]"
   ]
  },
  {
   "cell_type": "code",
   "execution_count": 14,
   "metadata": {},
   "outputs": [],
   "source": [
    "matcher.add('SolarPower', pattern1)"
   ]
  },
  {
   "cell_type": "code",
   "execution_count": 15,
   "metadata": {},
   "outputs": [],
   "source": [
    "doc8 = nlp(u\"The Solar Power industry continues to grow a solarpower increases. Solar-power is amazing.\")"
   ]
  },
  {
   "cell_type": "code",
   "execution_count": 16,
   "metadata": {},
   "outputs": [],
   "source": [
    "found_matches = matcher(doc8)"
   ]
  },
  {
   "cell_type": "code",
   "execution_count": 17,
   "metadata": {},
   "outputs": [
    {
     "name": "stdout",
     "output_type": "stream",
     "text": [
      "[(8656102463236116519, 1, 3), (8656102463236116519, 8, 9), (8656102463236116519, 11, 14)]\n"
     ]
    }
   ],
   "source": [
    "print(found_matches)"
   ]
  },
  {
   "cell_type": "code",
   "execution_count": 18,
   "metadata": {},
   "outputs": [
    {
     "name": "stdout",
     "output_type": "stream",
     "text": [
      "8656102463236116519 SolarPower 1 3 Solar Power\n",
      "8656102463236116519 SolarPower 8 9 solarpower\n",
      "8656102463236116519 SolarPower 11 14 Solar-power\n"
     ]
    }
   ],
   "source": [
    "for match_id, start, end in found_matches:\n",
    "    string_id = nlp.vocab.strings[match_id] #get string representation\n",
    "    span = doc8[start:end]                  # get the matched span\n",
    "    print(match_id,string_id,start,end,span.text)"
   ]
  },
  {
   "cell_type": "code",
   "execution_count": 19,
   "metadata": {},
   "outputs": [],
   "source": [
    "matcher.remove('SolarPower')"
   ]
  },
  {
   "cell_type": "code",
   "execution_count": 20,
   "metadata": {},
   "outputs": [],
   "source": [
    "pattern1 = [[{'LOWER':'solarpower'}],\n",
    "[{'LOWER':'solar'},{'IS_PUNCT':True,'OP':'*'},{'LOWER':'power'}]]"
   ]
  },
  {
   "cell_type": "code",
   "execution_count": 21,
   "metadata": {},
   "outputs": [],
   "source": [
    "matcher.add('SolarPower',pattern1)"
   ]
  },
  {
   "cell_type": "code",
   "execution_count": 22,
   "metadata": {},
   "outputs": [],
   "source": [
    "doc2 = nlp(u\"Solar --power is solarpower yay!\")"
   ]
  },
  {
   "cell_type": "code",
   "execution_count": 23,
   "metadata": {},
   "outputs": [],
   "source": [
    "found_matches = matcher(doc2)\n"
   ]
  },
  {
   "cell_type": "code",
   "execution_count": 24,
   "metadata": {},
   "outputs": [
    {
     "name": "stdout",
     "output_type": "stream",
     "text": [
      "[(8656102463236116519, 3, 4)]\n"
     ]
    }
   ],
   "source": [
    "print(found_matches)"
   ]
  },
  {
   "cell_type": "code",
   "execution_count": 25,
   "metadata": {},
   "outputs": [],
   "source": [
    "from spacy.matcher import PhraseMatcher"
   ]
  },
  {
   "cell_type": "code",
   "execution_count": 26,
   "metadata": {},
   "outputs": [],
   "source": [
    "matcher = PhraseMatcher(nlp.vocab)"
   ]
  },
  {
   "cell_type": "code",
   "execution_count": 27,
   "metadata": {},
   "outputs": [],
   "source": [
    "with open('reaganomics.txt') as f:\n",
    "    doc3 = nlp(f.read())"
   ]
  },
  {
   "cell_type": "code",
   "execution_count": 28,
   "metadata": {},
   "outputs": [],
   "source": [
    "phrase_list = ['voodoo economics','supply-side economics','trickle-down economics','free-market economics']"
   ]
  },
  {
   "cell_type": "code",
   "execution_count": 29,
   "metadata": {},
   "outputs": [],
   "source": [
    "phrase_patterns = [nlp(text) for text in phrase_list]\n",
    "matcher.add('EconMatcher',None,)"
   ]
  },
  {
   "cell_type": "code",
   "execution_count": 30,
   "metadata": {},
   "outputs": [
    {
     "data": {
      "text/plain": [
       "spacy.tokens.doc.Doc"
      ]
     },
     "execution_count": 30,
     "metadata": {},
     "output_type": "execute_result"
    }
   ],
   "source": [
    "type(phrase_patterns[0])"
   ]
  },
  {
   "cell_type": "code",
   "execution_count": 32,
   "metadata": {},
   "outputs": [],
   "source": [
    "matcher.add('EconMatcher',None,*phrase_patterns)"
   ]
  },
  {
   "cell_type": "code",
   "execution_count": 33,
   "metadata": {},
   "outputs": [],
   "source": [
    "found_matches = matcher(doc3)"
   ]
  },
  {
   "cell_type": "code",
   "execution_count": 34,
   "metadata": {},
   "outputs": [
    {
     "data": {
      "text/plain": [
       "[(3680293220734633682, 41, 45),\n",
       " (3680293220734633682, 49, 53),\n",
       " (3680293220734633682, 54, 56),\n",
       " (3680293220734633682, 61, 65),\n",
       " (3680293220734633682, 673, 677),\n",
       " (3680293220734633682, 2987, 2991)]"
      ]
     },
     "execution_count": 34,
     "metadata": {},
     "output_type": "execute_result"
    }
   ],
   "source": [
    "found_matches"
   ]
  },
  {
   "cell_type": "code",
   "execution_count": 35,
   "metadata": {},
   "outputs": [
    {
     "name": "stdout",
     "output_type": "stream",
     "text": [
      "3680293220734633682 EconMatcher 41 45 policies are commonly associated with supply-side economics, referred to as trickle\n",
      "3680293220734633682 EconMatcher 49 53 economics, referred to as trickle-down economics or voodoo economics by political\n",
      "3680293220734633682 EconMatcher 54 56 trickle-down economics or voodoo economics by political opponents, and\n",
      "3680293220734633682 EconMatcher 61 65 by political opponents, and free-market economics by political advocates.\n",
      "\n",
      "\n",
      "3680293220734633682 EconMatcher 673 677 attracted a following from the supply-side economics movement, which formed in\n",
      "3680293220734633682 EconMatcher 2987 2991 became widely known as \"trickle-down economics\", due to the\n"
     ]
    }
   ],
   "source": [
    "for match_id, start, end in found_matches:\n",
    "    string_id = nlp.vocab.strings[match_id] #get string representation\n",
    "    span = doc3[start-5:end+5]                  # get the matched span\n",
    "    print(match_id,string_id,start,end,span.text)"
   ]
  }
 ],
 "metadata": {
  "kernelspec": {
   "display_name": "_env1",
   "language": "python",
   "name": "python3"
  },
  "language_info": {
   "codemirror_mode": {
    "name": "ipython",
    "version": 3
   },
   "file_extension": ".py",
   "mimetype": "text/x-python",
   "name": "python",
   "nbconvert_exporter": "python",
   "pygments_lexer": "ipython3",
   "version": "3.11.6"
  }
 },
 "nbformat": 4,
 "nbformat_minor": 2
}
